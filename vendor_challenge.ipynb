{
  "nbformat": 4,
  "nbformat_minor": 0,
  "metadata": {
    "colab": {
      "name": "vendor_challenge.ipynb",
      "provenance": [],
      "collapsed_sections": [],
      "toc_visible": true,
      "authorship_tag": "ABX9TyOgaVx0eT3T1U1ytItBj3iO",
      "include_colab_link": true
    },
    "kernelspec": {
      "name": "python3",
      "display_name": "Python 3"
    },
    "language_info": {
      "name": "python"
    }
  },
  "cells": [
    {
      "cell_type": "markdown",
      "metadata": {
        "id": "view-in-github",
        "colab_type": "text"
      },
      "source": [
        "<a href=\"https://colab.research.google.com/github/cb-314/vendor_challenge/blob/main/vendor_challenge.ipynb\" target=\"_parent\"><img src=\"https://colab.research.google.com/assets/colab-badge.svg\" alt=\"Open In Colab\"/></a>"
      ]
    },
    {
      "cell_type": "markdown",
      "metadata": {
        "id": "jy_C-pi4YPm3"
      },
      "source": [
        "# Basic assumtions and simplifications\n",
        "\n",
        "* assumptions towards the target\n",
        "  * given the variables of the task I'm assuming that it's a regression task and not a good/bad product classification task\n",
        "  * from a business perspective it might be more relevant to classify hits and flops\n",
        "* preprocessing\n",
        "  * To make my life easier I will remove everything but [a-zA-Z] and whitespaces, which is very restrictive\n",
        "  * I will do the same preprocessing for test and train as I don't use the target. In general this is not advisable, but for experimentation purposes I'm taking the risk of informations leaks, which seems low from what I am doing.\n",
        "* nlp specifics\n",
        "  * I'm also using a word embedding model and a regression model seperately, which should both be assessed for performance.\n",
        "  * I jumped straight to word2vec instead of trying bag-of-words or tf/idf or something like that because I don't have a good intuition, which might work better and I didn't want to spend the time to try them out as it would have added a lot of dimension to tuning. So for now this is clamped.\n",
        "* models\n",
        "  * For now I will ignore the order of words in text and description as I have limited time\n",
        "  * I'm not going to attempt to use a Transformer for this task as it would take too much time and ressources\n",
        "  * I will asses performance only on english items as per my preprocessing, else calculating metrics gets annonying\n",
        "* general\n",
        "  * this is more a data story and not some software engineering project at this stage, so I'm not using a proper pipeline and so on yet"
      ]
    },
    {
      "cell_type": "markdown",
      "metadata": {
        "id": "ivkQnruXLLOI"
      },
      "source": [
        "# setting everything up"
      ]
    },
    {
      "cell_type": "markdown",
      "metadata": {
        "id": "ZoUyLyRLYUKT"
      },
      "source": [
        "## libraries, constants, etc."
      ]
    },
    {
      "cell_type": "code",
      "metadata": {
        "id": "Huk1EMxUXvZk"
      },
      "source": [
        "from google.colab import drive\n",
        "\n",
        "import pandas as pd\n",
        "import numpy as np\n",
        "\n",
        "import sklearn.model_selection\n",
        "import sklearn.decomposition\n",
        "import sklearn.manifold\n",
        "import sklearn.linear_model\n",
        "import sklearn.ensemble\n",
        "\n",
        "from sklearn.experimental import enable_hist_gradient_boosting\n",
        "import sklearn.ensemble\n",
        "\n",
        "import seaborn as sns\n",
        "from matplotlib import pyplot as plt\n",
        "from matplotlib.colors import LogNorm\n",
        "\n",
        "import nltk\n",
        "import gensim"
      ],
      "execution_count": 1,
      "outputs": []
    },
    {
      "cell_type": "markdown",
      "metadata": {
        "id": "mYnjQDTrYYHC"
      },
      "source": [
        "This should later be put into: requirements installations (in separate requirements file)"
      ]
    },
    {
      "cell_type": "code",
      "metadata": {
        "colab": {
          "base_uri": "https://localhost:8080/"
        },
        "id": "I3ILA9pNbtfN",
        "outputId": "93e4855c-8032-4419-c17a-e4a5317f88a8"
      },
      "source": [
        "# Punkt sentence tokenizer\n",
        "nltk.download(\"punkt\")\n",
        "# Word List Corpus\n",
        "nltk.download(\"words\")"
      ],
      "execution_count": 2,
      "outputs": [
        {
          "output_type": "stream",
          "text": [
            "[nltk_data] Downloading package punkt to /root/nltk_data...\n",
            "[nltk_data]   Package punkt is already up-to-date!\n",
            "[nltk_data] Downloading package words to /root/nltk_data...\n",
            "[nltk_data]   Package words is already up-to-date!\n"
          ],
          "name": "stdout"
        },
        {
          "output_type": "execute_result",
          "data": {
            "text/plain": [
              "True"
            ]
          },
          "metadata": {
            "tags": []
          },
          "execution_count": 2
        }
      ]
    },
    {
      "cell_type": "markdown",
      "metadata": {
        "id": "u3gGyr5-YbY8"
      },
      "source": [
        "## read data\n"
      ]
    },
    {
      "cell_type": "code",
      "metadata": {
        "colab": {
          "base_uri": "https://localhost:8080/"
        },
        "id": "h_t4ynxIYYpN",
        "outputId": "7042052c-d426-401c-e58f-646833f4a0bd"
      },
      "source": [
        "# mount google drive\n",
        "drive.mount(\"/content/drive\")"
      ],
      "execution_count": 3,
      "outputs": [
        {
          "output_type": "stream",
          "text": [
            "Drive already mounted at /content/drive; to attempt to forcibly remount, call drive.mount(\"/content/drive\", force_remount=True).\n"
          ],
          "name": "stdout"
        }
      ]
    },
    {
      "cell_type": "code",
      "metadata": {
        "colab": {
          "base_uri": "https://localhost:8080/",
          "height": 419
        },
        "id": "QTUcF40uZBLr",
        "outputId": "11e1d2f7-370b-45dc-e211-2c994819b934"
      },
      "source": [
        "# read parquet file\n",
        "products_all_raw_df = pd.read_parquet(\"/content/drive/MyDrive/Data Science/products.parquet.gz\")\n",
        "products_all_raw_df"
      ],
      "execution_count": 4,
      "outputs": [
        {
          "output_type": "execute_result",
          "data": {
            "text/html": [
              "<div>\n",
              "<style scoped>\n",
              "    .dataframe tbody tr th:only-of-type {\n",
              "        vertical-align: middle;\n",
              "    }\n",
              "\n",
              "    .dataframe tbody tr th {\n",
              "        vertical-align: top;\n",
              "    }\n",
              "\n",
              "    .dataframe thead th {\n",
              "        text-align: right;\n",
              "    }\n",
              "</style>\n",
              "<table border=\"1\" class=\"dataframe\">\n",
              "  <thead>\n",
              "    <tr style=\"text-align: right;\">\n",
              "      <th></th>\n",
              "      <th>product_id</th>\n",
              "      <th>vendor_id</th>\n",
              "      <th>vendor_geohash</th>\n",
              "      <th>product_name</th>\n",
              "      <th>product_description</th>\n",
              "      <th>order_count</th>\n",
              "    </tr>\n",
              "  </thead>\n",
              "  <tbody>\n",
              "    <tr>\n",
              "      <th>0</th>\n",
              "      <td>0</td>\n",
              "      <td>0</td>\n",
              "      <td>w21z6tu</td>\n",
              "      <td>Cheese Tofu</td>\n",
              "      <td>None</td>\n",
              "      <td>116</td>\n",
              "    </tr>\n",
              "    <tr>\n",
              "      <th>1</th>\n",
              "      <td>1</td>\n",
              "      <td>1</td>\n",
              "      <td>w21z74d</td>\n",
              "      <td>Naughty &amp; Nice - Slice</td>\n",
              "      <td>Chocolate - Slice</td>\n",
              "      <td>30</td>\n",
              "    </tr>\n",
              "    <tr>\n",
              "      <th>2</th>\n",
              "      <td>2</td>\n",
              "      <td>2</td>\n",
              "      <td>w21xxgu</td>\n",
              "      <td>301. Pork Dumpling with Hot Chilli Vinaigrette...</td>\n",
              "      <td>6 Pcs, spicy</td>\n",
              "      <td>25</td>\n",
              "    </tr>\n",
              "    <tr>\n",
              "      <th>3</th>\n",
              "      <td>3</td>\n",
              "      <td>3</td>\n",
              "      <td>w23b4u1</td>\n",
              "      <td>Mee Kuah</td>\n",
              "      <td>Contain minced mutton meat</td>\n",
              "      <td>45</td>\n",
              "    </tr>\n",
              "    <tr>\n",
              "      <th>4</th>\n",
              "      <td>4</td>\n",
              "      <td>4</td>\n",
              "      <td>w21ztq4</td>\n",
              "      <td>Ham &amp; Cheese Sandwich Set</td>\n",
              "      <td>Toasted to perfection, this sandwich hits all ...</td>\n",
              "      <td>24</td>\n",
              "    </tr>\n",
              "    <tr>\n",
              "      <th>...</th>\n",
              "      <td>...</td>\n",
              "      <td>...</td>\n",
              "      <td>...</td>\n",
              "      <td>...</td>\n",
              "      <td>...</td>\n",
              "      <td>...</td>\n",
              "    </tr>\n",
              "    <tr>\n",
              "      <th>633143</th>\n",
              "      <td>633143</td>\n",
              "      <td>701</td>\n",
              "      <td>w21zkpm</td>\n",
              "      <td>Sriracha Chicken Whole Wheat Pita</td>\n",
              "      <td>None</td>\n",
              "      <td>22</td>\n",
              "    </tr>\n",
              "    <tr>\n",
              "      <th>633144</th>\n",
              "      <td>633144</td>\n",
              "      <td>17</td>\n",
              "      <td>w23b5j9</td>\n",
              "      <td>Dettol Liquid Hand wash Sensitive 250ml</td>\n",
              "      <td>â€¢ Dettol Liquid Hand Wash kills 99.9% of ger...</td>\n",
              "      <td>22</td>\n",
              "    </tr>\n",
              "    <tr>\n",
              "      <th>633145</th>\n",
              "      <td>633145</td>\n",
              "      <td>4135</td>\n",
              "      <td>w21ztw0</td>\n",
              "      <td>Red Bean</td>\n",
              "      <td>4 Pcs</td>\n",
              "      <td>22</td>\n",
              "    </tr>\n",
              "    <tr>\n",
              "      <th>633146</th>\n",
              "      <td>633146</td>\n",
              "      <td>3121</td>\n",
              "      <td>w21z6vc</td>\n",
              "      <td>Twister Meal</td>\n",
              "      <td>Choice of 1 Twister, 1 Hash Brown and choice o...</td>\n",
              "      <td>22</td>\n",
              "    </tr>\n",
              "    <tr>\n",
              "      <th>633147</th>\n",
              "      <td>633147</td>\n",
              "      <td>2754</td>\n",
              "      <td>w21zu1v</td>\n",
              "      <td>Chocolate Croissant</td>\n",
              "      <td>None</td>\n",
              "      <td>22</td>\n",
              "    </tr>\n",
              "  </tbody>\n",
              "</table>\n",
              "<p>633148 rows × 6 columns</p>\n",
              "</div>"
            ],
            "text/plain": [
              "        product_id  ...  order_count\n",
              "0                0  ...          116\n",
              "1                1  ...           30\n",
              "2                2  ...           25\n",
              "3                3  ...           45\n",
              "4                4  ...           24\n",
              "...            ...  ...          ...\n",
              "633143      633143  ...           22\n",
              "633144      633144  ...           22\n",
              "633145      633145  ...           22\n",
              "633146      633146  ...           22\n",
              "633147      633147  ...           22\n",
              "\n",
              "[633148 rows x 6 columns]"
            ]
          },
          "metadata": {
            "tags": []
          },
          "execution_count": 4
        }
      ]
    },
    {
      "cell_type": "markdown",
      "metadata": {
        "id": "utGG3ARKLY_7"
      },
      "source": [
        "# sanity checks"
      ]
    },
    {
      "cell_type": "markdown",
      "metadata": {
        "id": "jDGhPwc6EIsX"
      },
      "source": [
        "## check primary keys"
      ]
    },
    {
      "cell_type": "code",
      "metadata": {
        "colab": {
          "base_uri": "https://localhost:8080/"
        },
        "id": "v4hxQMWFEHtk",
        "outputId": "d930ab9f-12a9-441b-89e8-90345fcfa66d"
      },
      "source": [
        "test_cols = [\"product_id\", \"vendor_id\", \"vendor_geohash\", \"order_count\"]\n",
        "print(\"all\", \":\", len(products_all_raw_df))\n",
        "for i in np.arange(len(test_cols)):\n",
        "  curr_cols = test_cols[:i+1]\n",
        "  print(curr_cols, \":\", len(products_all_raw_df[curr_cols].drop_duplicates()))"
      ],
      "execution_count": 5,
      "outputs": [
        {
          "output_type": "stream",
          "text": [
            "all : 633148\n",
            "['product_id'] : 633148\n",
            "['product_id', 'vendor_id'] : 633148\n",
            "['product_id', 'vendor_id', 'vendor_geohash'] : 633148\n",
            "['product_id', 'vendor_id', 'vendor_geohash', 'order_count'] : 633148\n"
          ],
          "name": "stdout"
        }
      ]
    },
    {
      "cell_type": "markdown",
      "metadata": {
        "id": "b9kiqeu6KRlM"
      },
      "source": [
        "Nice, these are all unique and we are not being fooled!"
      ]
    },
    {
      "cell_type": "markdown",
      "metadata": {
        "id": "8VWjgLuiayQF"
      },
      "source": [
        "## look at target"
      ]
    },
    {
      "cell_type": "code",
      "metadata": {
        "colab": {
          "base_uri": "https://localhost:8080/"
        },
        "id": "cOKBPxc1a1yp",
        "outputId": "54c02fd0-88bd-47b2-bb75-cd4656f9006f"
      },
      "source": [
        "products_all_raw_df[\"order_count\"].describe()"
      ],
      "execution_count": 6,
      "outputs": [
        {
          "output_type": "execute_result",
          "data": {
            "text/plain": [
              "count    633148.000000\n",
              "mean          9.482963\n",
              "std          24.025783\n",
              "min           1.000000\n",
              "25%           1.000000\n",
              "50%           3.000000\n",
              "75%           8.000000\n",
              "max        1386.000000\n",
              "Name: order_count, dtype: float64"
            ]
          },
          "metadata": {
            "tags": []
          },
          "execution_count": 6
        }
      ]
    },
    {
      "cell_type": "code",
      "metadata": {
        "colab": {
          "base_uri": "https://localhost:8080/",
          "height": 669
        },
        "id": "26ToIOoYBz69",
        "outputId": "2a10b12d-a649-4551-aaff-68e945522603"
      },
      "source": [
        "products_all_raw_df.nlargest(20, \"order_count\")"
      ],
      "execution_count": 7,
      "outputs": [
        {
          "output_type": "execute_result",
          "data": {
            "text/html": [
              "<div>\n",
              "<style scoped>\n",
              "    .dataframe tbody tr th:only-of-type {\n",
              "        vertical-align: middle;\n",
              "    }\n",
              "\n",
              "    .dataframe tbody tr th {\n",
              "        vertical-align: top;\n",
              "    }\n",
              "\n",
              "    .dataframe thead th {\n",
              "        text-align: right;\n",
              "    }\n",
              "</style>\n",
              "<table border=\"1\" class=\"dataframe\">\n",
              "  <thead>\n",
              "    <tr style=\"text-align: right;\">\n",
              "      <th></th>\n",
              "      <th>product_id</th>\n",
              "      <th>vendor_id</th>\n",
              "      <th>vendor_geohash</th>\n",
              "      <th>product_name</th>\n",
              "      <th>product_description</th>\n",
              "      <th>order_count</th>\n",
              "    </tr>\n",
              "  </thead>\n",
              "  <tbody>\n",
              "    <tr>\n",
              "      <th>3845</th>\n",
              "      <td>3845</td>\n",
              "      <td>903</td>\n",
              "      <td>w21zs0h</td>\n",
              "      <td>2pc Chickenjoy VM</td>\n",
              "      <td>2pc Chickenjoy, 1 Side, 1 Drink, 1 Gravy</td>\n",
              "      <td>1386</td>\n",
              "    </tr>\n",
              "    <tr>\n",
              "      <th>18078</th>\n",
              "      <td>18078</td>\n",
              "      <td>19</td>\n",
              "      <td>w23b4j4</td>\n",
              "      <td>Chew's Fresh Brown Eggs with Vitamin E 10s x 60g</td>\n",
              "      <td></td>\n",
              "      <td>1358</td>\n",
              "    </tr>\n",
              "    <tr>\n",
              "      <th>21402</th>\n",
              "      <td>21402</td>\n",
              "      <td>19</td>\n",
              "      <td>w23b4j4</td>\n",
              "      <td>Chew's Corn and Soya Fresh Brown Eggs with Vit...</td>\n",
              "      <td></td>\n",
              "      <td>1277</td>\n",
              "    </tr>\n",
              "    <tr>\n",
              "      <th>45838</th>\n",
              "      <td>45838</td>\n",
              "      <td>1421</td>\n",
              "      <td>w21zwre</td>\n",
              "      <td>Chicken Coney Dog with Beef Sauce Combo</td>\n",
              "      <td>1 Chicken Coney Dog with Beef Sauce, 1 Reg Cur...</td>\n",
              "      <td>1206</td>\n",
              "    </tr>\n",
              "    <tr>\n",
              "      <th>3739</th>\n",
              "      <td>3739</td>\n",
              "      <td>36</td>\n",
              "      <td>w21zey6</td>\n",
              "      <td>Anchor Strong Pilsner Beer Can 490ml</td>\n",
              "      <td>With its long standing European heritage and b...</td>\n",
              "      <td>1196</td>\n",
              "    </tr>\n",
              "    <tr>\n",
              "      <th>36414</th>\n",
              "      <td>36414</td>\n",
              "      <td>106</td>\n",
              "      <td>w21z6cf</td>\n",
              "      <td>Fresh Banana 5s</td>\n",
              "      <td>Country of Origin: Philippines</td>\n",
              "      <td>1037</td>\n",
              "    </tr>\n",
              "    <tr>\n",
              "      <th>22908</th>\n",
              "      <td>22908</td>\n",
              "      <td>1760</td>\n",
              "      <td>w21zg1k</td>\n",
              "      <td>2 pcs Golden Aroma® Chicken Combo</td>\n",
              "      <td>2 pieces Golden Aroma® Chicken,1 Reg Curly Fri...</td>\n",
              "      <td>996</td>\n",
              "    </tr>\n",
              "    <tr>\n",
              "      <th>51321</th>\n",
              "      <td>51321</td>\n",
              "      <td>1421</td>\n",
              "      <td>w21zwre</td>\n",
              "      <td>Mozza Burger® Combo</td>\n",
              "      <td>1 Mozza Burger® , 1 Reg Curly Fries &amp; 1 Reg A&amp;...</td>\n",
              "      <td>978</td>\n",
              "    </tr>\n",
              "    <tr>\n",
              "      <th>44013</th>\n",
              "      <td>44013</td>\n",
              "      <td>1421</td>\n",
              "      <td>w21zwre</td>\n",
              "      <td>2 pcs Golden Aroma® Chicken Combo</td>\n",
              "      <td>2 pieces Golden Aroma® Chicken,1 Reg Curly Fri...</td>\n",
              "      <td>961</td>\n",
              "    </tr>\n",
              "    <tr>\n",
              "      <th>2976</th>\n",
              "      <td>2976</td>\n",
              "      <td>1421</td>\n",
              "      <td>w21zwre</td>\n",
              "      <td>Double Cheeseburger Combo</td>\n",
              "      <td>1 Double Cheeseburger, 1 Reg Curly Fries &amp; 1 R...</td>\n",
              "      <td>955</td>\n",
              "    </tr>\n",
              "    <tr>\n",
              "      <th>18811</th>\n",
              "      <td>18811</td>\n",
              "      <td>17</td>\n",
              "      <td>w23b5j9</td>\n",
              "      <td>Dasoon Premium Fresh Egg 15S</td>\n",
              "      <td></td>\n",
              "      <td>950</td>\n",
              "    </tr>\n",
              "    <tr>\n",
              "      <th>49540</th>\n",
              "      <td>49540</td>\n",
              "      <td>518</td>\n",
              "      <td>w21zgfr</td>\n",
              "      <td>Fried Dough Sticks (油条)</td>\n",
              "      <td>You tiao</td>\n",
              "      <td>927</td>\n",
              "    </tr>\n",
              "    <tr>\n",
              "      <th>49627</th>\n",
              "      <td>49627</td>\n",
              "      <td>17</td>\n",
              "      <td>w23b5j9</td>\n",
              "      <td>Pokka Jasmine Green Tea Bottle 1.5L</td>\n",
              "      <td>0</td>\n",
              "      <td>913</td>\n",
              "    </tr>\n",
              "    <tr>\n",
              "      <th>29570</th>\n",
              "      <td>29570</td>\n",
              "      <td>1007</td>\n",
              "      <td>w23b4u7</td>\n",
              "      <td>Spring Chicken Meal</td>\n",
              "      <td>Whole young and tender spring chicken served w...</td>\n",
              "      <td>897</td>\n",
              "    </tr>\n",
              "    <tr>\n",
              "      <th>33762</th>\n",
              "      <td>33762</td>\n",
              "      <td>489</td>\n",
              "      <td>w21zg17</td>\n",
              "      <td>Buddy Meal</td>\n",
              "      <td>2 Ramen of your Choice, 2 Japanese Melon Milk ...</td>\n",
              "      <td>883</td>\n",
              "    </tr>\n",
              "    <tr>\n",
              "      <th>33420</th>\n",
              "      <td>33420</td>\n",
              "      <td>19</td>\n",
              "      <td>w23b4j4</td>\n",
              "      <td>Pokka Jasmine Green Tea Bottle 1.5L</td>\n",
              "      <td>0</td>\n",
              "      <td>879</td>\n",
              "    </tr>\n",
              "    <tr>\n",
              "      <th>47126</th>\n",
              "      <td>47126</td>\n",
              "      <td>63</td>\n",
              "      <td>w21z8uw</td>\n",
              "      <td>Chew's Fresh Brown Eggs with Vitamin E 10s x 60g</td>\n",
              "      <td></td>\n",
              "      <td>873</td>\n",
              "    </tr>\n",
              "    <tr>\n",
              "      <th>57757</th>\n",
              "      <td>57757</td>\n",
              "      <td>1609</td>\n",
              "      <td>w23b4w7</td>\n",
              "      <td>Set 1</td>\n",
              "      <td>2 Pcs of chicken</td>\n",
              "      <td>862</td>\n",
              "    </tr>\n",
              "    <tr>\n",
              "      <th>12058</th>\n",
              "      <td>12058</td>\n",
              "      <td>17</td>\n",
              "      <td>w23b5j9</td>\n",
              "      <td>Chew's Fresh Brown Eggs with Vitamin E 10s x 60g</td>\n",
              "      <td></td>\n",
              "      <td>844</td>\n",
              "    </tr>\n",
              "    <tr>\n",
              "      <th>36727</th>\n",
              "      <td>36727</td>\n",
              "      <td>2038</td>\n",
              "      <td>w21zu5z</td>\n",
              "      <td>Happiness Bowl</td>\n",
              "      <td>Comes with onsen egg</td>\n",
              "      <td>844</td>\n",
              "    </tr>\n",
              "  </tbody>\n",
              "</table>\n",
              "</div>"
            ],
            "text/plain": [
              "       product_id  ...  order_count\n",
              "3845         3845  ...         1386\n",
              "18078       18078  ...         1358\n",
              "21402       21402  ...         1277\n",
              "45838       45838  ...         1206\n",
              "3739         3739  ...         1196\n",
              "36414       36414  ...         1037\n",
              "22908       22908  ...          996\n",
              "51321       51321  ...          978\n",
              "44013       44013  ...          961\n",
              "2976         2976  ...          955\n",
              "18811       18811  ...          950\n",
              "49540       49540  ...          927\n",
              "49627       49627  ...          913\n",
              "29570       29570  ...          897\n",
              "33762       33762  ...          883\n",
              "33420       33420  ...          879\n",
              "47126       47126  ...          873\n",
              "57757       57757  ...          862\n",
              "12058       12058  ...          844\n",
              "36727       36727  ...          844\n",
              "\n",
              "[20 rows x 6 columns]"
            ]
          },
          "metadata": {
            "tags": []
          },
          "execution_count": 7
        }
      ]
    },
    {
      "cell_type": "code",
      "metadata": {
        "colab": {
          "base_uri": "https://localhost:8080/",
          "height": 614
        },
        "id": "JEBqvpMUa3vd",
        "outputId": "4c8d2d92-cc44-403b-f1c8-bdb1d331e56d"
      },
      "source": [
        "# plot the order count ecdf\n",
        "fig, ax = plt.subplots(2, 1, figsize = (20, 10))\n",
        "sns.ecdfplot(\n",
        "    data=products_all_raw_df,\n",
        "    x=\"order_count\",\n",
        "    ax=ax[0]\n",
        ")\n",
        "ax[0].axvline(200)\n",
        "sns.ecdfplot(\n",
        "    data=products_all_raw_df,\n",
        "    x=\"order_count\",\n",
        "    ax=ax[1]\n",
        ")\n",
        "ax[1].set_xscale(\"log\")\n",
        "ax[1].axvline(200)\n",
        "plt.show()"
      ],
      "execution_count": 8,
      "outputs": [
        {
          "output_type": "display_data",
          "data": {
            "image/png": "[encoded data removed]",
            "text/plain": [
              "<Figure size 1440x720 with 2 Axes>"
            ]
          },
          "metadata": {
            "tags": [],
            "needs_background": "light"
          }
        }
      ]
    },
    {
      "cell_type": "markdown",
      "metadata": {
        "id": "og34xRpFa51h"
      },
      "source": [
        "That is a target distribution I don't really want to see. Most orders are less than five and only a few orders have a significant number. One needs to sample from more than just one month to make useful predictions.\n",
        "\n",
        "I could apply some transform to order_count, probably log and then clip at 200 or something like that. But this has to be taken into account when calculating MSE/MAE and so on."
      ]
    },
    {
      "cell_type": "markdown",
      "metadata": {
        "id": "C6TOOz-NZbcq"
      },
      "source": [
        "# data cleanup"
      ]
    },
    {
      "cell_type": "markdown",
      "metadata": {
        "id": "4VIliroYadBb"
      },
      "source": [
        "## train test split\n",
        "For simplicity, I will do the same preprocessing to test and train, which is usually something you have to be really careful doing. However, I'm doing it here for simplicity and because none of the preprocessing steps is using the target."
      ]
    },
    {
      "cell_type": "code",
      "metadata": {
        "id": "GaWnLFiOZgDG"
      },
      "source": [
        "# sample data for testing\n",
        "products_sample_raw_df = products_all_raw_df.copy() #sample(20000)"
      ],
      "execution_count": 9,
      "outputs": []
    },
    {
      "cell_type": "code",
      "metadata": {
        "id": "dy7u2CojZr-T",
        "colab": {
          "base_uri": "https://localhost:8080/",
          "height": 419
        },
        "outputId": "8a50fa63-c9d1-44a8-a13d-982c1c02237b"
      },
      "source": [
        "# train test split\n",
        "products_sample_raw_train_df, products_sample_raw_test_df = sklearn.model_selection.train_test_split(products_sample_raw_df, test_size=0.2)\n",
        "products_sample_raw_train_df = products_sample_raw_train_df.copy()\n",
        "products_sample_raw_test_df = products_sample_raw_test_df.copy()\n",
        "products_sample_raw_train_df[\"split\"] = \"train\"\n",
        "products_sample_raw_test_df[\"split\"] = \"test\"\n",
        "\n",
        "# put it together for ease of preprocessing\n",
        "products_sample_raw_train_test_df = pd.concat([products_sample_raw_train_df, products_sample_raw_test_df])\n",
        "products_sample_raw_train_test_df"
      ],
      "execution_count": 10,
      "outputs": [
        {
          "output_type": "execute_result",
          "data": {
            "text/html": [
              "<div>\n",
              "<style scoped>\n",
              "    .dataframe tbody tr th:only-of-type {\n",
              "        vertical-align: middle;\n",
              "    }\n",
              "\n",
              "    .dataframe tbody tr th {\n",
              "        vertical-align: top;\n",
              "    }\n",
              "\n",
              "    .dataframe thead th {\n",
              "        text-align: right;\n",
              "    }\n",
              "</style>\n",
              "<table border=\"1\" class=\"dataframe\">\n",
              "  <thead>\n",
              "    <tr style=\"text-align: right;\">\n",
              "      <th></th>\n",
              "      <th>product_id</th>\n",
              "      <th>vendor_id</th>\n",
              "      <th>vendor_geohash</th>\n",
              "      <th>product_name</th>\n",
              "      <th>product_description</th>\n",
              "      <th>order_count</th>\n",
              "      <th>split</th>\n",
              "    </tr>\n",
              "  </thead>\n",
              "  <tbody>\n",
              "    <tr>\n",
              "      <th>432454</th>\n",
              "      <td>432454</td>\n",
              "      <td>484</td>\n",
              "      <td>w23b4u5</td>\n",
              "      <td>Cereal Milk</td>\n",
              "      <td>None</td>\n",
              "      <td>4</td>\n",
              "      <td>train</td>\n",
              "    </tr>\n",
              "    <tr>\n",
              "      <th>410462</th>\n",
              "      <td>410462</td>\n",
              "      <td>3629</td>\n",
              "      <td>w21zeh4</td>\n",
              "      <td>Ninja Chicken Upsized Meal</td>\n",
              "      <td>Nanban sauce glazed Chicken thigh, shredded wh...</td>\n",
              "      <td>4</td>\n",
              "      <td>train</td>\n",
              "    </tr>\n",
              "    <tr>\n",
              "      <th>266221</th>\n",
              "      <td>266221</td>\n",
              "      <td>454</td>\n",
              "      <td>w21zv97</td>\n",
              "      <td>Taiwanese Wine Chicken 台式风味三杯鸡</td>\n",
              "      <td>A classic Taiwanese dish, using three main ing...</td>\n",
              "      <td>2</td>\n",
              "      <td>train</td>\n",
              "    </tr>\n",
              "    <tr>\n",
              "      <th>273282</th>\n",
              "      <td>273282</td>\n",
              "      <td>10831</td>\n",
              "      <td>w21ze00</td>\n",
              "      <td>Squid Ink Nero Di Sepia Pasta</td>\n",
              "      <td>Squid ink spaghetti with fresh calamari squid,...</td>\n",
              "      <td>2</td>\n",
              "      <td>train</td>\n",
              "    </tr>\n",
              "    <tr>\n",
              "      <th>563301</th>\n",
              "      <td>563301</td>\n",
              "      <td>36</td>\n",
              "      <td>w21zey6</td>\n",
              "      <td>New Moon Premium Oyster Sauce 510g</td>\n",
              "      <td>New Moon Oyster Sauce is made with select oyst...</td>\n",
              "      <td>11</td>\n",
              "      <td>train</td>\n",
              "    </tr>\n",
              "    <tr>\n",
              "      <th>...</th>\n",
              "      <td>...</td>\n",
              "      <td>...</td>\n",
              "      <td>...</td>\n",
              "      <td>...</td>\n",
              "      <td>...</td>\n",
              "      <td>...</td>\n",
              "      <td>...</td>\n",
              "    </tr>\n",
              "    <tr>\n",
              "      <th>226266</th>\n",
              "      <td>226266</td>\n",
              "      <td>592</td>\n",
              "      <td>w21z7rk</td>\n",
              "      <td>Nescafe</td>\n",
              "      <td>None</td>\n",
              "      <td>1</td>\n",
              "      <td>test</td>\n",
              "    </tr>\n",
              "    <tr>\n",
              "      <th>74721</th>\n",
              "      <td>74721</td>\n",
              "      <td>6180</td>\n",
              "      <td>w21zute</td>\n",
              "      <td>Samurai Beef SGL Meal + McSpicy Meal (L Fries)</td>\n",
              "      <td>Tuck into Samurai Beef Meal and McSpicy® Meal....</td>\n",
              "      <td>1</td>\n",
              "      <td>test</td>\n",
              "    </tr>\n",
              "    <tr>\n",
              "      <th>265454</th>\n",
              "      <td>265454</td>\n",
              "      <td>6862</td>\n",
              "      <td>w21ze0z</td>\n",
              "      <td>Spinach with Olive</td>\n",
              "      <td>Spinach, olives, caramelized onions, feta chee...</td>\n",
              "      <td>2</td>\n",
              "      <td>test</td>\n",
              "    </tr>\n",
              "    <tr>\n",
              "      <th>95467</th>\n",
              "      <td>95467</td>\n",
              "      <td>10474</td>\n",
              "      <td>w21zkpm</td>\n",
              "      <td>Coffee Walnut Roll Cake</td>\n",
              "      <td>None</td>\n",
              "      <td>1</td>\n",
              "      <td>test</td>\n",
              "    </tr>\n",
              "    <tr>\n",
              "      <th>13753</th>\n",
              "      <td>13753</td>\n",
              "      <td>131</td>\n",
              "      <td>w23bhdd</td>\n",
              "      <td>Julie's Love Letters Strawberry Flavoured Crea...</td>\n",
              "      <td></td>\n",
              "      <td>23</td>\n",
              "      <td>test</td>\n",
              "    </tr>\n",
              "  </tbody>\n",
              "</table>\n",
              "<p>633148 rows × 7 columns</p>\n",
              "</div>"
            ],
            "text/plain": [
              "        product_id  vendor_id  ... order_count  split\n",
              "432454      432454        484  ...           4  train\n",
              "410462      410462       3629  ...           4  train\n",
              "266221      266221        454  ...           2  train\n",
              "273282      273282      10831  ...           2  train\n",
              "563301      563301         36  ...          11  train\n",
              "...            ...        ...  ...         ...    ...\n",
              "226266      226266        592  ...           1   test\n",
              "74721        74721       6180  ...           1   test\n",
              "265454      265454       6862  ...           2   test\n",
              "95467        95467      10474  ...           1   test\n",
              "13753        13753        131  ...          23   test\n",
              "\n",
              "[633148 rows x 7 columns]"
            ]
          },
          "metadata": {
            "tags": []
          },
          "execution_count": 10
        }
      ]
    },
    {
      "cell_type": "markdown",
      "metadata": {
        "id": "nZjesnFjZd2I"
      },
      "source": [
        "## data normalization"
      ]
    },
    {
      "cell_type": "code",
      "metadata": {
        "id": "gcknsDK7Za18"
      },
      "source": [
        "# use these keys to normalize\n",
        "primary_keys = [\"product_id\", \"vendor_id\", \"vendor_geohash\", \"split\"]\n",
        "text_keys = primary_keys + [\"source\"]"
      ],
      "execution_count": 11,
      "outputs": []
    },
    {
      "cell_type": "code",
      "metadata": {
        "id": "KFNEam9SZizR"
      },
      "source": [
        "# split into a more normalized form\n",
        "products_raw_df = products_sample_raw_train_test_df[primary_keys + [\"order_count\"]].copy()\n",
        "products_name_raw_df = products_sample_raw_train_test_df[primary_keys + [\"product_name\"]].copy().rename({\"product_name\": \"text\"}, axis=1)\n",
        "products_description_raw_df = products_sample_raw_train_test_df[primary_keys + [\"product_description\"]].copy().rename({\"product_description\": \"text\"}, axis=1)"
      ],
      "execution_count": 12,
      "outputs": []
    },
    {
      "cell_type": "code",
      "metadata": {
        "id": "_WvuqwFcjHLI"
      },
      "source": [
        "products_df = products_raw_df.copy()\n",
        "products_name_df = products_name_raw_df.copy()\n",
        "products_description_df = products_description_raw_df.copy()"
      ],
      "execution_count": 13,
      "outputs": []
    },
    {
      "cell_type": "code",
      "metadata": {
        "id": "XVCHSGm072xH"
      },
      "source": [
        "# put it together for ease of preprocessing\n",
        "products_name_df[\"source\"] = \"name\"\n",
        "products_description_df[\"source\"] = \"description\"\n",
        "products_text_df = pd.concat([products_name_df, products_description_df])"
      ],
      "execution_count": 14,
      "outputs": []
    },
    {
      "cell_type": "code",
      "metadata": {
        "colab": {
          "base_uri": "https://localhost:8080/",
          "height": 419
        },
        "id": "w_Lf2VIpPj5n",
        "outputId": "128fb82e-4617-40ac-dd29-26ac4ed05d7e"
      },
      "source": [
        "products_text_df"
      ],
      "execution_count": 15,
      "outputs": [
        {
          "output_type": "execute_result",
          "data": {
            "text/html": [
              "<div>\n",
              "<style scoped>\n",
              "    .dataframe tbody tr th:only-of-type {\n",
              "        vertical-align: middle;\n",
              "    }\n",
              "\n",
              "    .dataframe tbody tr th {\n",
              "        vertical-align: top;\n",
              "    }\n",
              "\n",
              "    .dataframe thead th {\n",
              "        text-align: right;\n",
              "    }\n",
              "</style>\n",
              "<table border=\"1\" class=\"dataframe\">\n",
              "  <thead>\n",
              "    <tr style=\"text-align: right;\">\n",
              "      <th></th>\n",
              "      <th>product_id</th>\n",
              "      <th>vendor_id</th>\n",
              "      <th>vendor_geohash</th>\n",
              "      <th>split</th>\n",
              "      <th>text</th>\n",
              "      <th>source</th>\n",
              "    </tr>\n",
              "  </thead>\n",
              "  <tbody>\n",
              "    <tr>\n",
              "      <th>432454</th>\n",
              "      <td>432454</td>\n",
              "      <td>484</td>\n",
              "      <td>w23b4u5</td>\n",
              "      <td>train</td>\n",
              "      <td>Cereal Milk</td>\n",
              "      <td>name</td>\n",
              "    </tr>\n",
              "    <tr>\n",
              "      <th>410462</th>\n",
              "      <td>410462</td>\n",
              "      <td>3629</td>\n",
              "      <td>w21zeh4</td>\n",
              "      <td>train</td>\n",
              "      <td>Ninja Chicken Upsized Meal</td>\n",
              "      <td>name</td>\n",
              "    </tr>\n",
              "    <tr>\n",
              "      <th>266221</th>\n",
              "      <td>266221</td>\n",
              "      <td>454</td>\n",
              "      <td>w21zv97</td>\n",
              "      <td>train</td>\n",
              "      <td>Taiwanese Wine Chicken 台式风味三杯鸡</td>\n",
              "      <td>name</td>\n",
              "    </tr>\n",
              "    <tr>\n",
              "      <th>273282</th>\n",
              "      <td>273282</td>\n",
              "      <td>10831</td>\n",
              "      <td>w21ze00</td>\n",
              "      <td>train</td>\n",
              "      <td>Squid Ink Nero Di Sepia Pasta</td>\n",
              "      <td>name</td>\n",
              "    </tr>\n",
              "    <tr>\n",
              "      <th>563301</th>\n",
              "      <td>563301</td>\n",
              "      <td>36</td>\n",
              "      <td>w21zey6</td>\n",
              "      <td>train</td>\n",
              "      <td>New Moon Premium Oyster Sauce 510g</td>\n",
              "      <td>name</td>\n",
              "    </tr>\n",
              "    <tr>\n",
              "      <th>...</th>\n",
              "      <td>...</td>\n",
              "      <td>...</td>\n",
              "      <td>...</td>\n",
              "      <td>...</td>\n",
              "      <td>...</td>\n",
              "      <td>...</td>\n",
              "    </tr>\n",
              "    <tr>\n",
              "      <th>226266</th>\n",
              "      <td>226266</td>\n",
              "      <td>592</td>\n",
              "      <td>w21z7rk</td>\n",
              "      <td>test</td>\n",
              "      <td>None</td>\n",
              "      <td>description</td>\n",
              "    </tr>\n",
              "    <tr>\n",
              "      <th>74721</th>\n",
              "      <td>74721</td>\n",
              "      <td>6180</td>\n",
              "      <td>w21zute</td>\n",
              "      <td>test</td>\n",
              "      <td>Tuck into Samurai Beef Meal and McSpicy® Meal....</td>\n",
              "      <td>description</td>\n",
              "    </tr>\n",
              "    <tr>\n",
              "      <th>265454</th>\n",
              "      <td>265454</td>\n",
              "      <td>6862</td>\n",
              "      <td>w21ze0z</td>\n",
              "      <td>test</td>\n",
              "      <td>Spinach, olives, caramelized onions, feta chee...</td>\n",
              "      <td>description</td>\n",
              "    </tr>\n",
              "    <tr>\n",
              "      <th>95467</th>\n",
              "      <td>95467</td>\n",
              "      <td>10474</td>\n",
              "      <td>w21zkpm</td>\n",
              "      <td>test</td>\n",
              "      <td>None</td>\n",
              "      <td>description</td>\n",
              "    </tr>\n",
              "    <tr>\n",
              "      <th>13753</th>\n",
              "      <td>13753</td>\n",
              "      <td>131</td>\n",
              "      <td>w23bhdd</td>\n",
              "      <td>test</td>\n",
              "      <td></td>\n",
              "      <td>description</td>\n",
              "    </tr>\n",
              "  </tbody>\n",
              "</table>\n",
              "<p>1266296 rows × 6 columns</p>\n",
              "</div>"
            ],
            "text/plain": [
              "        product_id  ...       source\n",
              "432454      432454  ...         name\n",
              "410462      410462  ...         name\n",
              "266221      266221  ...         name\n",
              "273282      273282  ...         name\n",
              "563301      563301  ...         name\n",
              "...            ...  ...          ...\n",
              "226266      226266  ...  description\n",
              "74721        74721  ...  description\n",
              "265454      265454  ...  description\n",
              "95467        95467  ...  description\n",
              "13753        13753  ...  description\n",
              "\n",
              "[1266296 rows x 6 columns]"
            ]
          },
          "metadata": {
            "tags": []
          },
          "execution_count": 15
        }
      ]
    },
    {
      "cell_type": "markdown",
      "metadata": {
        "id": "x57pfIVjbMWn"
      },
      "source": [
        "## basic cleanup"
      ]
    },
    {
      "cell_type": "code",
      "metadata": {
        "id": "SS0mbHVfbOIH"
      },
      "source": [
        "# drop empty text\n",
        "products_text_df.dropna(inplace=True)\n",
        "\n",
        "# replace everything but basic chars for now\n",
        "products_text_df[\"text\"].replace(\"[^a-zA-Z ]\", \" \", inplace=True, regex=True)\n",
        "\n",
        "# remove single and double characters\n",
        "products_text_df[\"text\"].replace(\"(^| ).( |$)\", \" \", inplace=True, regex=True)\n",
        "\n",
        "# remove all double whitespaces\n",
        "products_text_df[\"text\"].replace(\"[ ]+\", \" \", inplace=True, regex=True)\n",
        "\n",
        "# drop empty text\n",
        "products_text_df[\"text\"].replace(\"^[ ]+$\", \"\", inplace=True, regex=True)\n",
        "products_text_df = products_text_df[products_text_df[\"text\"] != \"\"]"
      ],
      "execution_count": 16,
      "outputs": []
    },
    {
      "cell_type": "code",
      "metadata": {
        "colab": {
          "base_uri": "https://localhost:8080/",
          "height": 35
        },
        "id": "EzK0bPr77B5q",
        "outputId": "872ada84-6ad6-4a99-b90a-54c0ffa87536"
      },
      "source": [
        "# sanity check\n",
        "\"\".join(sorted(set(\"\".join([\"\".join(set(x)) for x in products_text_df[\"text\"].tolist()]))))"
      ],
      "execution_count": 17,
      "outputs": [
        {
          "output_type": "execute_result",
          "data": {
            "application/vnd.google.colaboratory.intrinsic+json": {
              "type": "string"
            },
            "text/plain": [
              "' ABCDEFGHIJKLMNOPQRSTUVWXYZabcdefghijklmnopqrstuvwxyz'"
            ]
          },
          "metadata": {
            "tags": []
          },
          "execution_count": 17
        }
      ]
    },
    {
      "cell_type": "code",
      "metadata": {
        "id": "Prl4tQnfbVZU"
      },
      "source": [
        "# we are still dealing with slices, so copy to be safe\n",
        "products_text_df = products_text_df.copy()\n",
        "\n",
        "# to lower\n",
        "products_text_df[\"text\"] = products_text_df[\"text\"].str.lower()"
      ],
      "execution_count": 18,
      "outputs": []
    },
    {
      "cell_type": "code",
      "metadata": {
        "colab": {
          "base_uri": "https://localhost:8080/",
          "height": 419
        },
        "id": "nZqs0m9h-HNF",
        "outputId": "c28eda0d-a669-4a82-9ee6-b237de6b46b7"
      },
      "source": [
        "products_text_df"
      ],
      "execution_count": 19,
      "outputs": [
        {
          "output_type": "execute_result",
          "data": {
            "text/html": [
              "<div>\n",
              "<style scoped>\n",
              "    .dataframe tbody tr th:only-of-type {\n",
              "        vertical-align: middle;\n",
              "    }\n",
              "\n",
              "    .dataframe tbody tr th {\n",
              "        vertical-align: top;\n",
              "    }\n",
              "\n",
              "    .dataframe thead th {\n",
              "        text-align: right;\n",
              "    }\n",
              "</style>\n",
              "<table border=\"1\" class=\"dataframe\">\n",
              "  <thead>\n",
              "    <tr style=\"text-align: right;\">\n",
              "      <th></th>\n",
              "      <th>product_id</th>\n",
              "      <th>vendor_id</th>\n",
              "      <th>vendor_geohash</th>\n",
              "      <th>split</th>\n",
              "      <th>text</th>\n",
              "      <th>source</th>\n",
              "    </tr>\n",
              "  </thead>\n",
              "  <tbody>\n",
              "    <tr>\n",
              "      <th>432454</th>\n",
              "      <td>432454</td>\n",
              "      <td>484</td>\n",
              "      <td>w23b4u5</td>\n",
              "      <td>train</td>\n",
              "      <td>cereal milk</td>\n",
              "      <td>name</td>\n",
              "    </tr>\n",
              "    <tr>\n",
              "      <th>410462</th>\n",
              "      <td>410462</td>\n",
              "      <td>3629</td>\n",
              "      <td>w21zeh4</td>\n",
              "      <td>train</td>\n",
              "      <td>ninja chicken upsized meal</td>\n",
              "      <td>name</td>\n",
              "    </tr>\n",
              "    <tr>\n",
              "      <th>266221</th>\n",
              "      <td>266221</td>\n",
              "      <td>454</td>\n",
              "      <td>w21zv97</td>\n",
              "      <td>train</td>\n",
              "      <td>taiwanese wine chicken</td>\n",
              "      <td>name</td>\n",
              "    </tr>\n",
              "    <tr>\n",
              "      <th>273282</th>\n",
              "      <td>273282</td>\n",
              "      <td>10831</td>\n",
              "      <td>w21ze00</td>\n",
              "      <td>train</td>\n",
              "      <td>squid ink nero di sepia pasta</td>\n",
              "      <td>name</td>\n",
              "    </tr>\n",
              "    <tr>\n",
              "      <th>563301</th>\n",
              "      <td>563301</td>\n",
              "      <td>36</td>\n",
              "      <td>w21zey6</td>\n",
              "      <td>train</td>\n",
              "      <td>new moon premium oyster sauce</td>\n",
              "      <td>name</td>\n",
              "    </tr>\n",
              "    <tr>\n",
              "      <th>...</th>\n",
              "      <td>...</td>\n",
              "      <td>...</td>\n",
              "      <td>...</td>\n",
              "      <td>...</td>\n",
              "      <td>...</td>\n",
              "      <td>...</td>\n",
              "    </tr>\n",
              "    <tr>\n",
              "      <th>119956</th>\n",
              "      <td>119956</td>\n",
              "      <td>4694</td>\n",
              "      <td>w21z4qn</td>\n",
              "      <td>test</td>\n",
              "      <td>spicy iconic favourite made for singapore since</td>\n",
              "      <td>description</td>\n",
              "    </tr>\n",
              "    <tr>\n",
              "      <th>572093</th>\n",
              "      <td>572093</td>\n",
              "      <td>45</td>\n",
              "      <td>w21z7z3</td>\n",
              "      <td>test</td>\n",
              "      <td>home made butter cookies</td>\n",
              "      <td>description</td>\n",
              "    </tr>\n",
              "    <tr>\n",
              "      <th>512042</th>\n",
              "      <td>512042</td>\n",
              "      <td>412</td>\n",
              "      <td>w21zkmk</td>\n",
              "      <td>test</td>\n",
              "      <td>eggplant omelette</td>\n",
              "      <td>description</td>\n",
              "    </tr>\n",
              "    <tr>\n",
              "      <th>74721</th>\n",
              "      <td>74721</td>\n",
              "      <td>6180</td>\n",
              "      <td>w21zute</td>\n",
              "      <td>test</td>\n",
              "      <td>tuck into samurai beef meal and mcspicy meal m...</td>\n",
              "      <td>description</td>\n",
              "    </tr>\n",
              "    <tr>\n",
              "      <th>265454</th>\n",
              "      <td>265454</td>\n",
              "      <td>6862</td>\n",
              "      <td>w21ze0z</td>\n",
              "      <td>test</td>\n",
              "      <td>spinach olives caramelized onions feta cheese ...</td>\n",
              "      <td>description</td>\n",
              "    </tr>\n",
              "  </tbody>\n",
              "</table>\n",
              "<p>930173 rows × 6 columns</p>\n",
              "</div>"
            ],
            "text/plain": [
              "        product_id  ...       source\n",
              "432454      432454  ...         name\n",
              "410462      410462  ...         name\n",
              "266221      266221  ...         name\n",
              "273282      273282  ...         name\n",
              "563301      563301  ...         name\n",
              "...            ...  ...          ...\n",
              "119956      119956  ...  description\n",
              "572093      572093  ...  description\n",
              "512042      512042  ...  description\n",
              "74721        74721  ...  description\n",
              "265454      265454  ...  description\n",
              "\n",
              "[930173 rows x 6 columns]"
            ]
          },
          "metadata": {
            "tags": []
          },
          "execution_count": 19
        }
      ]
    },
    {
      "cell_type": "markdown",
      "metadata": {
        "id": "iJNyvHVtbhVj"
      },
      "source": [
        "## tokenization and stemming"
      ]
    },
    {
      "cell_type": "code",
      "metadata": {
        "id": "ZaJX9n1ObbgV"
      },
      "source": [
        "products_text_token_df = products_text_df.copy()"
      ],
      "execution_count": 20,
      "outputs": []
    },
    {
      "cell_type": "code",
      "metadata": {
        "id": "xb4Tb6SCbi_M"
      },
      "source": [
        "# tokenization\n",
        "products_text_token_df[\"text_tokens\"] = products_text_token_df[\"text\"].transform(nltk.word_tokenize)"
      ],
      "execution_count": 21,
      "outputs": []
    },
    {
      "cell_type": "code",
      "metadata": {
        "id": "ZbPRgUckbkCV"
      },
      "source": [
        "# add a position index and explode\n",
        "products_text_token_df[\"idx\"] = 1\n",
        "products_text_token_df = products_text_token_df.explode(\"text_tokens\")\n",
        "products_text_token_df[\"idx\"] = products_text_token_df.groupby(primary_keys)[\"idx\"].cumsum()"
      ],
      "execution_count": 22,
      "outputs": []
    },
    {
      "cell_type": "code",
      "metadata": {
        "id": "4IYgcLnQb2Ef"
      },
      "source": [
        "# stemming which we will need later for word2vec\n",
        "snowball = nltk.stem.SnowballStemmer(language=\"english\")\n",
        "products_text_token_df[\"text_tokens_stemmed\"] = products_text_token_df[\"text_tokens\"].apply(lambda x: snowball.stem(x))"
      ],
      "execution_count": null,
      "outputs": []
    },
    {
      "cell_type": "markdown",
      "metadata": {
        "id": "dpBaTJz9cbco"
      },
      "source": [
        "# filter english items"
      ]
    },
    {
      "cell_type": "markdown",
      "metadata": {
        "id": "8IFa-I3Hcenn"
      },
      "source": [
        "The general idea here is to count the number of english and total words in name and description and to use this in some way to filter english items."
      ]
    },
    {
      "cell_type": "markdown",
      "metadata": {
        "id": "XsKrGWNukdhs"
      },
      "source": [
        "## checking if tokens are english and couting etc."
      ]
    },
    {
      "cell_type": "code",
      "metadata": {
        "id": "Jwke6Y3scThb"
      },
      "source": [
        "# check if text_tokens are in words corpus\n",
        "words = nltk.corpus.words.words()\n",
        "products_text_token_df[\"is_english\"] = products_text_token_df[\"text_tokens\"].isin(words)"
      ],
      "execution_count": null,
      "outputs": []
    },
    {
      "cell_type": "code",
      "metadata": {
        "id": "7jXVJ7sW_fF5"
      },
      "source": [
        "# count english words and total words and add it back to all items\n",
        "products_english_df = pd.merge(\n",
        "    products_text_token_df.groupby(text_keys)[\"is_english\"].sum().reset_index().rename({\"is_english\": \"n_english\"}, axis=1),\n",
        "    products_text_token_df.groupby(text_keys)[\"is_english\"].size().reset_index().rename({\"is_english\": \"n_words\"}, axis=1),\n",
        "    on=text_keys,\n",
        "    how=\"outer\"\n",
        "  )\n",
        "\n",
        "# pivot and fill na with 0 as we are dealing with counts\n",
        "products_english_df = products_english_df.pivot(index = primary_keys, columns=\"source\", values=[\"n_english\", \"n_words\"])\n",
        "products_english_df = products_english_df.fillna(0)\n",
        "\n",
        "# concat column names\n",
        "products_english_df.columns = [('{0}_{1}'.format(*tup)) for tup in products_english_df.columns]\n",
        "\n",
        "# reset index\n",
        "products_english_df = products_english_df.reset_index()"
      ],
      "execution_count": null,
      "outputs": []
    },
    {
      "cell_type": "code",
      "metadata": {
        "id": "okTixn46cq1Y"
      },
      "source": [
        "# calculate the actual frequency = score\n",
        "products_english_df[\"n_english_total\"] = products_english_df[\"n_english_description\"] + products_english_df[\"n_english_name\"]\n",
        "products_english_df[\"n_words_total\"] = products_english_df[\"n_words_description\"] + products_english_df[\"n_words_name\"]\n",
        "products_english_df[\"english_score\"] = products_english_df[\"n_english_total\"] / products_english_df[\"n_words_total\"]"
      ],
      "execution_count": null,
      "outputs": []
    },
    {
      "cell_type": "code",
      "metadata": {
        "id": "uye4FXklcr3k"
      },
      "source": [
        "# drop ones with no english score\n",
        "products_english_df = products_english_df[~products_english_df[\"english_score\"].isna()]"
      ],
      "execution_count": null,
      "outputs": []
    },
    {
      "cell_type": "markdown",
      "metadata": {
        "id": "DU8ufrGNgrbx"
      },
      "source": [
        "## filter metric exploration"
      ]
    },
    {
      "cell_type": "code",
      "metadata": {
        "id": "pVZ_YSB-dPAa"
      },
      "source": [
        "# plot the english score ecdf\n",
        "fig, ax = plt.subplots(1, 1, figsize=(16,6))\n",
        "sns.ecdfplot(\n",
        "    data=products_english_df,\n",
        "    x=\"english_score\",\n",
        "    ax=ax\n",
        ")\n",
        "plt.show()"
      ],
      "execution_count": null,
      "outputs": []
    },
    {
      "cell_type": "code",
      "metadata": {
        "id": "UCb90-vPfrGs"
      },
      "source": [
        "# plot the english score as a function of english words\n",
        "fig, ax = plt.subplots(2, 1, figsize=(16,12))\n",
        "sns.scatterplot(\n",
        "    data=products_english_df,\n",
        "    x=\"n_english_total\",\n",
        "    y=\"english_score\",\n",
        "    ax=ax[0]\n",
        ")\n",
        "ax[0].set_xlim(0, 100)\n",
        "\n",
        "sns.boxenplot(\n",
        "    data=products_english_df,\n",
        "    x=\"n_english_total\",\n",
        "    y=\"english_score\",\n",
        "    ax=ax[1]\n",
        ")\n",
        "ax[1].set_xlim(0, 100)\n",
        "\n",
        "plt.show()"
      ],
      "execution_count": null,
      "outputs": []
    },
    {
      "cell_type": "code",
      "metadata": {
        "id": "ep1-juEbd9yI"
      },
      "source": [
        "# original text in score window\n",
        "products_sample_raw_train_test_df.merge(products_english_df[(products_english_df[\"english_score\"] > 0.2) & (products_english_df[\"english_score\"] < 0.3)][primary_keys], on=primary_keys, how=\"inner\")"
      ],
      "execution_count": null,
      "outputs": []
    },
    {
      "cell_type": "code",
      "metadata": {
        "id": "b7IUTLh0dj2B"
      },
      "source": [
        "# original text in score window\n",
        "products_sample_raw_train_test_df.merge(products_english_df[(products_english_df[\"english_score\"] > 0.6) & (products_english_df[\"english_score\"] < 0.7)][primary_keys], on=primary_keys, how=\"inner\")"
      ],
      "execution_count": null,
      "outputs": []
    },
    {
      "cell_type": "markdown",
      "metadata": {
        "id": "Q6qQUeblFMGP"
      },
      "source": [
        "## look at original text with number of english words"
      ]
    },
    {
      "cell_type": "code",
      "metadata": {
        "id": "Tnxwr8rsg3um"
      },
      "source": [
        "products_sample_raw_train_test_df.merge(products_english_df[products_english_df[\"n_english_total\"] == 0 ][primary_keys], on=primary_keys, how=\"inner\")"
      ],
      "execution_count": null,
      "outputs": []
    },
    {
      "cell_type": "code",
      "metadata": {
        "id": "8gsGG3vhhbO6"
      },
      "source": [
        "products_sample_raw_train_test_df.merge(products_english_df[products_english_df[\"n_english_total\"] == 1][primary_keys], on=primary_keys, how=\"inner\")"
      ],
      "execution_count": null,
      "outputs": []
    },
    {
      "cell_type": "code",
      "metadata": {
        "id": "CA8UnXEyhDfZ"
      },
      "source": [
        "products_sample_raw_train_test_df.merge(products_english_df[products_english_df[\"n_english_total\"] == 2][primary_keys], on=primary_keys, how=\"inner\")"
      ],
      "execution_count": null,
      "outputs": []
    },
    {
      "cell_type": "code",
      "metadata": {
        "id": "7U2W8tyWhEnw"
      },
      "source": [
        "products_sample_raw_train_test_df.merge(products_english_df[products_english_df[\"n_english_total\"] == 3][primary_keys], on=primary_keys, how=\"inner\")"
      ],
      "execution_count": null,
      "outputs": []
    },
    {
      "cell_type": "markdown",
      "metadata": {
        "id": "4Dk4wSj8xbjs"
      },
      "source": [
        "Looks like the english score is not yet good enough. I'll stick for now to \"at least one english word\", which is also the easiest option. This can always be improved at a later stage."
      ]
    },
    {
      "cell_type": "markdown",
      "metadata": {
        "id": "Z7yRuY0AgxZZ"
      },
      "source": [
        "## actual filtering for english items"
      ]
    },
    {
      "cell_type": "code",
      "metadata": {
        "id": "JlbX9ABVdTUq"
      },
      "source": [
        "products_english_filtered_df = products_english_df.copy()\n",
        "products_english_filtered_df = products_english_filtered_df[products_english_filtered_df[\"n_english_total\"] > 0]"
      ],
      "execution_count": null,
      "outputs": []
    },
    {
      "cell_type": "code",
      "metadata": {
        "id": "Hl285_5ziuU8"
      },
      "source": [
        "# how much did we filter?\n",
        "len(products_sample_raw_train_test_df), len(products_english_filtered_df)"
      ],
      "execution_count": null,
      "outputs": []
    },
    {
      "cell_type": "markdown",
      "metadata": {
        "id": "mhVW3PuMh48q"
      },
      "source": [
        "# cleanup verdict\n",
        "Obviously I could improve our cleanup and subsequent filtering by a lot.\n",
        "\n",
        "* better character level cleaning\n",
        "* better dictionary (also include more culinary terms like croissant, alfredo, pepsi, some basic chinese dishes, etc.)\n",
        "* english filtering is now only done by number of english words, but other metrics could be better (like and improved version of the english score I tried)\n",
        "\n",
        "For now it seems to be good enough."
      ]
    },
    {
      "cell_type": "markdown",
      "metadata": {
        "id": "31YgTSB3lzWG"
      },
      "source": [
        "# word2vec embedding\n",
        "I will throw name and description together for the word2vec embedding as I will be averaging the vectors anyway. This is not a very good idea, and doc2vec and so on are better alternatives, but for now I stick to KISS and choose the simplest approach.\n",
        "\n",
        "I train the word2vec only on the training data but already apply it to both training and test data for ease of use. This should prevent information leaks."
      ]
    },
    {
      "cell_type": "code",
      "metadata": {
        "id": "jm5Clv0p0Lmn"
      },
      "source": [
        "doc_keys = primary_keys + [\"order_count\"]"
      ],
      "execution_count": null,
      "outputs": []
    },
    {
      "cell_type": "markdown",
      "metadata": {
        "id": "g72iIwoN3wNn"
      },
      "source": [
        "## gather data"
      ]
    },
    {
      "cell_type": "code",
      "metadata": {
        "id": "VouV0P3PiUD4"
      },
      "source": [
        "products_doc_df = (\n",
        "    # start with english products\n",
        "    products_english_filtered_df[primary_keys]\n",
        "    # add order_count\n",
        "    .merge(products_df, on=primary_keys, how=\"inner\")\n",
        "    # add tokens\n",
        "    .merge(products_text_token_df, on=primary_keys, how=\"inner\")\n",
        "    # and merge stemmed tokens into list as word2vec needs it\n",
        "    .groupby(doc_keys)[\"text_tokens_stemmed\"]\n",
        "    .agg(list)\n",
        "    .reset_index())"
      ],
      "execution_count": null,
      "outputs": []
    },
    {
      "cell_type": "markdown",
      "metadata": {
        "id": "u0giRMaY3zX-"
      },
      "source": [
        "## train embedding"
      ]
    },
    {
      "cell_type": "markdown",
      "metadata": {
        "id": "4X1wCcqz4SdD"
      },
      "source": [
        "I will ignore hyperparameter tuning of Word2Vec for now. But I'm using CBOW, mainly for speed."
      ]
    },
    {
      "cell_type": "code",
      "metadata": {
        "id": "vfc98b9M3mbB"
      },
      "source": [
        "# train word2vec embedding on training data\n",
        "w2v_model = gensim.models.Word2Vec(products_doc_df[products_doc_df[\"split\"] == \"train\"][\"text_tokens_stemmed\"], sg=0, size=100)"
      ],
      "execution_count": null,
      "outputs": []
    },
    {
      "cell_type": "code",
      "metadata": {
        "id": "q5g2N68eJr8Q",
        "colab": {
          "base_uri": "https://localhost:8080/"
        },
        "outputId": "3aa6d2f7-b414-430f-a15e-acd10c32452f"
      },
      "source": [
        "# calculate tsne for name embedding\n",
        "\n",
        "# get data\n",
        "vectors = np.asarray(w2v_model.wv.vectors)\n",
        "\n",
        "# first reduce dimensionality with pca\n",
        "pca = sklearn.decomposition.PCA(n_components=50)\n",
        "vectors_pca = pca.fit_transform(vectors)\n",
        "\n",
        "# for testing: sample some vectors\n",
        "#v_idx = np.random.randint(vectors_pca.shape[0], size=1000)\n",
        "#vectors_pca = vectors_pca[v_idx,:]\n",
        "\n",
        "# then calculcate tsne\n",
        "tsne = sklearn.manifold.TSNE(n_components=2, verbose=1, perplexity=20, n_iter=1000)\n",
        "vectors_tsne = tsne.fit_transform(vectors_pca)\n",
        "\n",
        "# then add labels for plotting\n",
        "vectors_df = pd.DataFrame(vectors_tsne, columns=[\"x\", \"y\"])\n",
        "vectors_df[\"label\"] = np.asarray(w2v_model.wv.index2entity)"
      ],
      "execution_count": null,
      "outputs": [
        {
          "output_type": "stream",
          "text": [
            "[t-SNE] Computing 61 nearest neighbors...\n",
            "[t-SNE] Indexed 11891 samples in 0.134s...\n",
            "[t-SNE] Computed neighbors for 11891 samples in 16.078s...\n",
            "[t-SNE] Computed conditional probabilities for sample 1000 / 11891\n",
            "[t-SNE] Computed conditional probabilities for sample 2000 / 11891\n",
            "[t-SNE] Computed conditional probabilities for sample 3000 / 11891\n",
            "[t-SNE] Computed conditional probabilities for sample 4000 / 11891\n",
            "[t-SNE] Computed conditional probabilities for sample 5000 / 11891\n",
            "[t-SNE] Computed conditional probabilities for sample 6000 / 11891\n",
            "[t-SNE] Computed conditional probabilities for sample 7000 / 11891\n",
            "[t-SNE] Computed conditional probabilities for sample 8000 / 11891\n",
            "[t-SNE] Computed conditional probabilities for sample 9000 / 11891\n",
            "[t-SNE] Computed conditional probabilities for sample 10000 / 11891\n",
            "[t-SNE] Computed conditional probabilities for sample 11000 / 11891\n",
            "[t-SNE] Computed conditional probabilities for sample 11891 / 11891\n",
            "[t-SNE] Mean sigma: 0.247715\n",
            "[t-SNE] KL divergence after 250 iterations with early exaggeration: 98.937225\n"
          ],
          "name": "stdout"
        }
      ]
    },
    {
      "cell_type": "code",
      "metadata": {
        "id": "6i3e4UmY_GMg"
      },
      "source": [
        "# visualize tsne\n",
        "fig, ax = plt.subplots(1, 1, figsize=(20, 20))\n",
        "sns.scatterplot(\n",
        "    data=vectors_df,\n",
        "    x=\"x\",\n",
        "    y=\"y\",\n",
        "    ax=ax\n",
        ")\n",
        "for index, row in vectors_df.sample(200).iterrows():\n",
        "  plt.annotate(\n",
        "      s=row[\"label\"],\n",
        "      xy=(row[\"x\"], row[\"y\"])\n",
        "  )\n",
        "plt.show()"
      ],
      "execution_count": null,
      "outputs": []
    },
    {
      "cell_type": "markdown",
      "metadata": {
        "id": "H8JEs5wB8kxZ"
      },
      "source": [
        "Some clustering seems to be there, but I'm not a huge fan of t-SNE as it easily leads to false assumptions. However, it looks good."
      ]
    },
    {
      "cell_type": "markdown",
      "metadata": {
        "id": "UW7LiApdCMiy"
      },
      "source": [
        "## calculate the data embedding"
      ]
    },
    {
      "cell_type": "code",
      "metadata": {
        "id": "8D0FZE4ECXDn"
      },
      "source": [
        "def embed_tokens(tokens, model):\n",
        "  dims = model.wv[\"foo\"].shape[0]\n",
        "  vec = np.zeros(dims)\n",
        "  if type(tokens) is list and len(tokens) > 0:\n",
        "    vecs = [model.wv[token] for token in tokens if token in model.wv.vocab.keys()]\n",
        "    if len(vecs) > 0:\n",
        "      vec = vec + np.mean(vecs, axis=0)\n",
        "  return vec"
      ],
      "execution_count": null,
      "outputs": []
    },
    {
      "cell_type": "code",
      "metadata": {
        "id": "rzhRWGEACI2U"
      },
      "source": [
        "products_doc_df[\"text_vec\"] = products_doc_df[\"text_tokens_stemmed\"].apply(lambda x: embed_tokens(x, w2v_model))"
      ],
      "execution_count": null,
      "outputs": []
    },
    {
      "cell_type": "code",
      "metadata": {
        "id": "dwcWNpTmFzuB"
      },
      "source": [
        "products_doc_df"
      ],
      "execution_count": null,
      "outputs": []
    },
    {
      "cell_type": "code",
      "metadata": {
        "id": "IFBqtisKMimX"
      },
      "source": [
        "# look at the doc embeddings for training data\n",
        "# if you look at the test data, you will become biased, so don't peek\n",
        "products_doc_plot_df = products_doc_df[products_doc_df[\"split\"] == \"train\"].sample(1000)\n",
        "\n",
        "fig, ax = plt.subplots(1, 1, figsize=(20, 20))\n",
        "# tsne with same parameters as above\n",
        "tsne = sklearn.manifold.TSNE(n_components=2, verbose=1, perplexity=20, n_iter=1000)\n",
        "vectors = tsne.fit_transform(np.vstack(products_doc_plot_df[\"text_vec\"].to_numpy()))\n",
        "\n",
        "vectors_df = pd.DataFrame(vectors, columns=[\"x\", \"y\"])\n",
        "# clipping and log-scale order-count for plotting\n",
        "# take care: we dropped the index, so we can't just re-join old data\n",
        "vectors_df[\"order_count\"] = products_doc_plot_df[\"order_count\"].apply(lambda x: np.log10(np.clip(x, 0, 200))).tolist()\n",
        "\n",
        "sns.scatterplot(\n",
        "    data=vectors_df,\n",
        "    x=\"x\",\n",
        "    y=\"y\",\n",
        "    hue=\"order_count\",\n",
        "    palette=\"flare_r\",\n",
        "    ax=ax\n",
        ")\n",
        "ax.set_title(\"train\")\n",
        "plt.show()"
      ],
      "execution_count": null,
      "outputs": []
    },
    {
      "cell_type": "markdown",
      "metadata": {
        "id": "2I4MSOZ58vDP"
      },
      "source": [
        "I don't see anything on this plot and hyperparameter tuning for t-SNE didn't help much."
      ]
    },
    {
      "cell_type": "markdown",
      "metadata": {
        "id": "UTuNCUBzYnRL"
      },
      "source": [
        "# Regression\n",
        "\n",
        "I'm not using pre-built sklearn metrics during exploration because I want to be able to look at error distributions and so on."
      ]
    },
    {
      "cell_type": "markdown",
      "metadata": {
        "id": "kX_Hc0rLYzAw"
      },
      "source": [
        "## prepare data for learning"
      ]
    },
    {
      "cell_type": "code",
      "metadata": {
        "id": "R-EJ5_lJTbgz"
      },
      "source": [
        "x_train = np.vstack(products_doc_df[products_doc_df[\"split\"] == \"train\"][\"text_vec\"])\n",
        "x_test = np.vstack(products_doc_df[products_doc_df[\"split\"] == \"test\"][\"text_vec\"])\n",
        "y_train = products_doc_df[products_doc_df[\"split\"] == \"train\"][\"order_count\"].to_numpy()\n",
        "y_test = products_doc_df[products_doc_df[\"split\"] == \"test\"][\"order_count\"].to_numpy()\n",
        "x_train.shape, y_train.shape, x_test.shape, y_test.shape"
      ],
      "execution_count": null,
      "outputs": []
    },
    {
      "cell_type": "code",
      "metadata": {
        "id": "hvBhsXfLZB21"
      },
      "source": [
        "fig, ax = plt.subplots(3, 1, figsize=(20, 10))\n",
        "\n",
        "ax[0].hist(x_train.flatten(), bins=200)\n",
        "ax[0].set_title(\"x_train\")\n",
        "\n",
        "ax[1].hist(x_train.flatten(), bins=200)\n",
        "ax[1].set_yscale(\"log\")\n",
        "ax[1].set_title(\"x_train_log\")\n",
        "\n",
        "ax[2].hist(y_train.flatten(), bins=200)\n",
        "ax[2].set_title(\"y_train\")\n",
        "\n",
        "plt.show()"
      ],
      "execution_count": null,
      "outputs": []
    },
    {
      "cell_type": "markdown",
      "metadata": {
        "id": "oiOIyJ67_ktZ"
      },
      "source": [
        "## basic learning setup helpers"
      ]
    },
    {
      "cell_type": "code",
      "metadata": {
        "id": "pUxlXJR4_kMz"
      },
      "source": [
        "class mean_baseline:\n",
        "  def __init__(self):\n",
        "    self.pres = 0.0\n",
        "  def fit(self, x_train, y_train):\n",
        "    self.pred = np.mean(y_train)\n",
        "  def predict(self, x_test):\n",
        "    y_pred = np.full(x_test.shape[0], self.pred)\n",
        "    return y_pred\n",
        "\n",
        "def plot_res(res, mae, res_baseline, mae_baseline):\n",
        "  fig, ax = plt.subplots(1, 1, figsize=(20, 5))\n",
        "  ax.hist(\n",
        "      res_baseline, \n",
        "      bins=400, \n",
        "      range=(\n",
        "          np.min([np.min(res), np.min(res_baseline)]), \n",
        "          np.max([np.quantile(res, 0.99), np.quantile(res_baseline, .099)])),\n",
        "      histtype=\"step\", \n",
        "      label=\"avg baseline: {:.2f}\".format(mae_baseline))\n",
        "  ax.hist(\n",
        "      res, \n",
        "      bins=400,\n",
        "      range=(\n",
        "          np.min([np.min(res), np.min(res_baseline)]), \n",
        "          np.max([np.quantile(res, 0.99), np.quantile(res_baseline, .099)])),\n",
        "      histtype=\"step\", \n",
        "      label=\"model: {:.2f}\".format(mae))\n",
        "  ax.set_title(\"regular\")\n",
        "  ax.legend()\n",
        "  plt.show()\n",
        "\n",
        "\n",
        "def eval_model(model, x_train, y_train, x_test, y_test):\n",
        "  baseline = mean_baseline()\n",
        "  baseline.fit(x_train, y_train)\n",
        "  y_pred_baseline = baseline.predict(x_test)\n",
        "  res_baseline = y_test-y_pred_baseline\n",
        "  mae_baseline = np.mean(np.abs(res_baseline))\n",
        "  \n",
        "  model.fit(x_train, y_train)\n",
        "  y_pred = model.predict(x_test)\n",
        "  res = y_test-y_pred\n",
        "  mae = np.mean(np.abs(res))\n",
        "\n",
        "  plot_res(res, mae, res_baseline, mae_baseline)\n",
        "\n",
        "def eval_model_clipped_log(model, x_train, y_train, x_test, y_test):\n",
        "  y_train_log = np.log10(np.clip(y_train, 0, 200))\n",
        "\n",
        "  baseline = mean_baseline()\n",
        "  baseline.fit(x_train, y_train_log)\n",
        "  y_pred_log_baseline = baseline.predict(x_test)\n",
        "  y_pred_baseline = np.power(10, y_pred_log_baseline)\n",
        "  res_baseline = y_test-y_pred_baseline\n",
        "  mae_baseline = np.mean(np.abs(res_baseline))\n",
        "\n",
        "  model.fit(x_train, y_train_log)\n",
        "  y_pred_log = model.predict(x_test)\n",
        "  y_pred = np.power(10, y_pred_log)\n",
        "  res = y_test-y_pred\n",
        "  mae = np.mean(np.abs(res))\n",
        "\n",
        "  plot_res(res, mae, res_baseline, mae_baseline)"
      ],
      "execution_count": null,
      "outputs": []
    },
    {
      "cell_type": "markdown",
      "metadata": {
        "id": "4c44mbyqKjEX"
      },
      "source": [
        "## baseline: linear model"
      ]
    },
    {
      "cell_type": "code",
      "metadata": {
        "id": "dFnZG6mCKlEl"
      },
      "source": [
        "lin_model = sklearn.linear_model.LinearRegression()\n",
        "eval_model(lin_model, x_train, y_train, x_test, y_test)\n",
        "eval_model_clipped_log(lin_model, x_train, y_train, x_test, y_test)"
      ],
      "execution_count": null,
      "outputs": []
    },
    {
      "cell_type": "markdown",
      "metadata": {
        "id": "XP-Jp77xJbtB"
      },
      "source": [
        "The log_clip trick clearly helps the basic linear model."
      ]
    },
    {
      "cell_type": "markdown",
      "metadata": {
        "id": "FdDgomV_-y7a"
      },
      "source": [
        "## baseline: ElasicNetCV"
      ]
    },
    {
      "cell_type": "code",
      "metadata": {
        "id": "t4TBCu2a-2R1"
      },
      "source": [
        "elastic_model = sklearn.linear_model.ElasticNetCV()\n",
        "\n",
        "# sampling for speed\n",
        "idx_sample = np.random.randint(x_train.shape[0], size=1000)\n",
        "x_train_sample = x_train[idx_sample,:]\n",
        "y_train_sample = y_train[idx_sample]\n",
        "\n",
        "eval_model(elastic_model, x_train_sample, y_train_sample, x_test, y_test)\n",
        "eval_model_clipped_log(elastic_model, x_train_sample, y_train_sample, x_test, y_test)"
      ],
      "execution_count": null,
      "outputs": []
    },
    {
      "cell_type": "markdown",
      "metadata": {
        "id": "XhPT2ZE4JaYn"
      },
      "source": [
        ""
      ]
    },
    {
      "cell_type": "markdown",
      "metadata": {
        "id": "uaB3s-6rDSny"
      },
      "source": [
        "## RandomForestRegressor"
      ]
    },
    {
      "cell_type": "code",
      "metadata": {
        "id": "C8_nzuHdDRvc"
      },
      "source": [
        "rf_model = sklearn.ensemble.RandomForestRegressor()\n",
        "\n",
        "# sampling for speed\n",
        "idx_sample = np.random.randint(x_train.shape[0], size=1000)\n",
        "x_train_sample = x_train[idx_sample,:]\n",
        "y_train_sample = y_train[idx_sample]\n",
        "\n",
        "eval_model(rf_model, x_train_sample, y_train_sample, x_test, y_test)\n",
        "eval_model_clipped_log(rf_model, x_train_sample, y_train_sample, x_test, y_test)"
      ],
      "execution_count": null,
      "outputs": []
    },
    {
      "cell_type": "markdown",
      "metadata": {
        "id": "6o8iIADMKlXG"
      },
      "source": [
        "## HistGradientBoostingRegressor\n",
        "Because I have good experience with it and I don't have to deal with XGBoost etc."
      ]
    },
    {
      "cell_type": "code",
      "metadata": {
        "id": "bM3rZCtoK3T7"
      },
      "source": [
        "hgb_model = sklearn.ensemble.HistGradientBoostingRegressor()\n",
        "eval_model(hgb_model, x_train, y_train, x_test, y_test)\n",
        "eval_model_clipped_log(hgb_model, x_train, y_train, x_test, y_test)"
      ],
      "execution_count": null,
      "outputs": []
    },
    {
      "cell_type": "code",
      "metadata": {
        "id": "X1wxC6N-_Q5r"
      },
      "source": [
        ""
      ],
      "execution_count": null,
      "outputs": []
    }
  ]
}