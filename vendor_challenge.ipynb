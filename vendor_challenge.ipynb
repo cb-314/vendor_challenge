{
  "nbformat": 4,
  "nbformat_minor": 0,
  "metadata": {
    "colab": {
      "name": "vendor_challenge.ipynb",
      "provenance": [],
      "collapsed_sections": [],
      "authorship_tag": "ABX9TyMI08sXPhN5UNFVyDnsy0ob",
      "include_colab_link": true
    },
    "kernelspec": {
      "name": "python3",
      "display_name": "Python 3"
    },
    "language_info": {
      "name": "python"
    }
  },
  "cells": [
    {
      "cell_type": "markdown",
      "metadata": {
        "id": "view-in-github",
        "colab_type": "text"
      },
      "source": [
        "<a href=\"https://colab.research.google.com/github/azz2k/vendor_challenge/blob/main/vendor_challenge.ipynb\" target=\"_parent\"><img src=\"https://colab.research.google.com/assets/colab-badge.svg\" alt=\"Open In Colab\"/></a>"
      ]
    },
    {
      "cell_type": "markdown",
      "metadata": {
        "id": "jy_C-pi4YPm3"
      },
      "source": [
        "# Introduction\n",
        "* To make my life easier I will remove everything but [a-zA-Z0-9] and whitespaces\n",
        "* For now I will use a bag-of-words approach as I have limited time"
      ]
    },
    {
      "cell_type": "markdown",
      "metadata": {
        "id": "ZoUyLyRLYUKT"
      },
      "source": [
        "# libraries, constants, etc."
      ]
    },
    {
      "cell_type": "code",
      "metadata": {
        "id": "Huk1EMxUXvZk"
      },
      "source": [
        "from google.colab import drive\n",
        "\n",
        "import pandas as pd\n",
        "import numpy as np\n",
        "import sklearn.model_selection\n",
        "\n",
        "import seaborn as sns\n",
        "from matplotlib import pyplot as plt\n",
        "\n",
        "import nltk"
      ],
      "execution_count": 16,
      "outputs": []
    },
    {
      "cell_type": "markdown",
      "metadata": {
        "id": "mYnjQDTrYYHC"
      },
      "source": [
        "This should later be put into: requirements installations (in separate requirements file)"
      ]
    },
    {
      "cell_type": "code",
      "metadata": {
        "colab": {
          "base_uri": "https://localhost:8080/"
        },
        "id": "I3ILA9pNbtfN",
        "outputId": "e4612624-3bcd-4612-a7dc-7379bf9002cf"
      },
      "source": [
        "# Punkt sentence tokenizer\n",
        "nltk.download(\"punkt\")\n",
        "# Word List Corpus\n",
        "nltk.download(\"words\")"
      ],
      "execution_count": 29,
      "outputs": [
        {
          "output_type": "stream",
          "text": [
            "[nltk_data] Downloading package punkt to /root/nltk_data...\n",
            "[nltk_data]   Unzipping tokenizers/punkt.zip.\n",
            "[nltk_data] Downloading package words to /root/nltk_data...\n",
            "[nltk_data]   Unzipping corpora/words.zip.\n"
          ],
          "name": "stdout"
        },
        {
          "output_type": "execute_result",
          "data": {
            "text/plain": [
              "True"
            ]
          },
          "metadata": {
            "tags": []
          },
          "execution_count": 29
        }
      ]
    },
    {
      "cell_type": "markdown",
      "metadata": {
        "id": "u3gGyr5-YbY8"
      },
      "source": [
        "# read data\n"
      ]
    },
    {
      "cell_type": "code",
      "metadata": {
        "colab": {
          "base_uri": "https://localhost:8080/"
        },
        "id": "h_t4ynxIYYpN",
        "outputId": "0e9a2e4c-c9ad-49b2-a892-dc8e9841702c"
      },
      "source": [
        "# mount google drive\n",
        "drive.mount(\"/content/drive\")"
      ],
      "execution_count": 2,
      "outputs": [
        {
          "output_type": "stream",
          "text": [
            "Mounted at /content/drive\n"
          ],
          "name": "stdout"
        }
      ]
    },
    {
      "cell_type": "code",
      "metadata": {
        "colab": {
          "base_uri": "https://localhost:8080/",
          "height": 419
        },
        "id": "QTUcF40uZBLr",
        "outputId": "89db2d48-65de-45b1-8c58-5531cd1f7a30"
      },
      "source": [
        "products_raw_df = pd.read_parquet(\"/content/drive/MyDrive/Data Science/products.parquet.gz\")\n",
        "products_raw_df"
      ],
      "execution_count": 9,
      "outputs": [
        {
          "output_type": "execute_result",
          "data": {
            "text/html": [
              "<div>\n",
              "<style scoped>\n",
              "    .dataframe tbody tr th:only-of-type {\n",
              "        vertical-align: middle;\n",
              "    }\n",
              "\n",
              "    .dataframe tbody tr th {\n",
              "        vertical-align: top;\n",
              "    }\n",
              "\n",
              "    .dataframe thead th {\n",
              "        text-align: right;\n",
              "    }\n",
              "</style>\n",
              "<table border=\"1\" class=\"dataframe\">\n",
              "  <thead>\n",
              "    <tr style=\"text-align: right;\">\n",
              "      <th></th>\n",
              "      <th>product_id</th>\n",
              "      <th>vendor_id</th>\n",
              "      <th>vendor_geohash</th>\n",
              "      <th>product_name</th>\n",
              "      <th>product_description</th>\n",
              "      <th>order_count</th>\n",
              "    </tr>\n",
              "  </thead>\n",
              "  <tbody>\n",
              "    <tr>\n",
              "      <th>0</th>\n",
              "      <td>0</td>\n",
              "      <td>0</td>\n",
              "      <td>w21z6tu</td>\n",
              "      <td>Cheese Tofu</td>\n",
              "      <td>None</td>\n",
              "      <td>116</td>\n",
              "    </tr>\n",
              "    <tr>\n",
              "      <th>1</th>\n",
              "      <td>1</td>\n",
              "      <td>1</td>\n",
              "      <td>w21z74d</td>\n",
              "      <td>Naughty &amp; Nice - Slice</td>\n",
              "      <td>Chocolate - Slice</td>\n",
              "      <td>30</td>\n",
              "    </tr>\n",
              "    <tr>\n",
              "      <th>2</th>\n",
              "      <td>2</td>\n",
              "      <td>2</td>\n",
              "      <td>w21xxgu</td>\n",
              "      <td>301. Pork Dumpling with Hot Chilli Vinaigrette...</td>\n",
              "      <td>6 Pcs, spicy</td>\n",
              "      <td>25</td>\n",
              "    </tr>\n",
              "    <tr>\n",
              "      <th>3</th>\n",
              "      <td>3</td>\n",
              "      <td>3</td>\n",
              "      <td>w23b4u1</td>\n",
              "      <td>Mee Kuah</td>\n",
              "      <td>Contain minced mutton meat</td>\n",
              "      <td>45</td>\n",
              "    </tr>\n",
              "    <tr>\n",
              "      <th>4</th>\n",
              "      <td>4</td>\n",
              "      <td>4</td>\n",
              "      <td>w21ztq4</td>\n",
              "      <td>Ham &amp; Cheese Sandwich Set</td>\n",
              "      <td>Toasted to perfection, this sandwich hits all ...</td>\n",
              "      <td>24</td>\n",
              "    </tr>\n",
              "    <tr>\n",
              "      <th>...</th>\n",
              "      <td>...</td>\n",
              "      <td>...</td>\n",
              "      <td>...</td>\n",
              "      <td>...</td>\n",
              "      <td>...</td>\n",
              "      <td>...</td>\n",
              "    </tr>\n",
              "    <tr>\n",
              "      <th>633143</th>\n",
              "      <td>633143</td>\n",
              "      <td>701</td>\n",
              "      <td>w21zkpm</td>\n",
              "      <td>Sriracha Chicken Whole Wheat Pita</td>\n",
              "      <td>None</td>\n",
              "      <td>22</td>\n",
              "    </tr>\n",
              "    <tr>\n",
              "      <th>633144</th>\n",
              "      <td>633144</td>\n",
              "      <td>17</td>\n",
              "      <td>w23b5j9</td>\n",
              "      <td>Dettol Liquid Hand wash Sensitive 250ml</td>\n",
              "      <td>â€¢ Dettol Liquid Hand Wash kills 99.9% of ger...</td>\n",
              "      <td>22</td>\n",
              "    </tr>\n",
              "    <tr>\n",
              "      <th>633145</th>\n",
              "      <td>633145</td>\n",
              "      <td>4135</td>\n",
              "      <td>w21ztw0</td>\n",
              "      <td>Red Bean</td>\n",
              "      <td>4 Pcs</td>\n",
              "      <td>22</td>\n",
              "    </tr>\n",
              "    <tr>\n",
              "      <th>633146</th>\n",
              "      <td>633146</td>\n",
              "      <td>3121</td>\n",
              "      <td>w21z6vc</td>\n",
              "      <td>Twister Meal</td>\n",
              "      <td>Choice of 1 Twister, 1 Hash Brown and choice o...</td>\n",
              "      <td>22</td>\n",
              "    </tr>\n",
              "    <tr>\n",
              "      <th>633147</th>\n",
              "      <td>633147</td>\n",
              "      <td>2754</td>\n",
              "      <td>w21zu1v</td>\n",
              "      <td>Chocolate Croissant</td>\n",
              "      <td>None</td>\n",
              "      <td>22</td>\n",
              "    </tr>\n",
              "  </tbody>\n",
              "</table>\n",
              "<p>633148 rows × 6 columns</p>\n",
              "</div>"
            ],
            "text/plain": [
              "        product_id  ...  order_count\n",
              "0                0  ...          116\n",
              "1                1  ...           30\n",
              "2                2  ...           25\n",
              "3                3  ...           45\n",
              "4                4  ...           24\n",
              "...            ...  ...          ...\n",
              "633143      633143  ...           22\n",
              "633144      633144  ...           22\n",
              "633145      633145  ...           22\n",
              "633146      633146  ...           22\n",
              "633147      633147  ...           22\n",
              "\n",
              "[633148 rows x 6 columns]"
            ]
          },
          "metadata": {
            "tags": []
          },
          "execution_count": 9
        }
      ]
    },
    {
      "cell_type": "markdown",
      "metadata": {
        "id": "8VWjgLuiayQF"
      },
      "source": [
        "# look at target"
      ]
    },
    {
      "cell_type": "code",
      "metadata": {
        "colab": {
          "base_uri": "https://localhost:8080/"
        },
        "id": "cOKBPxc1a1yp",
        "outputId": "975cbc0a-a37f-498e-ca74-3a217c65dec9"
      },
      "source": [
        "products_df[\"order_count\"].describe()"
      ],
      "execution_count": 21,
      "outputs": [
        {
          "output_type": "execute_result",
          "data": {
            "text/plain": [
              "count    633148.000000\n",
              "mean          9.482963\n",
              "std          24.025783\n",
              "min           1.000000\n",
              "25%           1.000000\n",
              "50%           3.000000\n",
              "75%           8.000000\n",
              "max        1386.000000\n",
              "Name: order_count, dtype: float64"
            ]
          },
          "metadata": {
            "tags": []
          },
          "execution_count": 21
        }
      ]
    },
    {
      "cell_type": "code",
      "metadata": {
        "colab": {
          "base_uri": "https://localhost:8080/",
          "height": 397
        },
        "id": "JEBqvpMUa3vd",
        "outputId": "5ff8df20-23aa-4f3d-b7d8-c1e00d0f4cdf"
      },
      "source": [
        "# plot the order count ecdf\n",
        "fig, ax = plt.subplots(1, 1, figsize = (20, 6))\n",
        "sns.ecdfplot(\n",
        "    data=products_df,\n",
        "    x=\"order_count\",\n",
        "    ax=ax,\n",
        "    log_scale=True\n",
        ")\n",
        "ax.set_xticks([1, 10, 100, 1000, 1500])\n",
        "plt.show()"
      ],
      "execution_count": 22,
      "outputs": [
        {
          "output_type": "display_data",
          "data": {
            "image/png": "[encoded data removed]",
            "text/plain": [
              "<Figure size 1440x432 with 1 Axes>"
            ]
          },
          "metadata": {
            "tags": [],
            "needs_background": "light"
          }
        }
      ]
    },
    {
      "cell_type": "markdown",
      "metadata": {
        "id": "og34xRpFa51h"
      },
      "source": [
        "That is a target distribution we don't really want to see. Most orders are less than five and only a few orders have a significant number. We need to sample from more than just one month to make useful predictions."
      ]
    },
    {
      "cell_type": "markdown",
      "metadata": {
        "id": "C6TOOz-NZbcq"
      },
      "source": [
        "# data cleanup"
      ]
    },
    {
      "cell_type": "markdown",
      "metadata": {
        "id": "4VIliroYadBb"
      },
      "source": [
        "## train test split"
      ]
    },
    {
      "cell_type": "code",
      "metadata": {
        "id": "GaWnLFiOZgDG"
      },
      "source": [
        "# sample data for testing\n",
        "products_sample_raw_df = products_raw_df.copy() #sample(20000)"
      ],
      "execution_count": 76,
      "outputs": []
    },
    {
      "cell_type": "code",
      "metadata": {
        "id": "dy7u2CojZr-T"
      },
      "source": [
        "# train test split\n",
        "products_sample_raw_train_df, products_sample_raw_test_df = sklearn.model_selection.train_test_split(products_sample_raw_df, test_size=0.2)"
      ],
      "execution_count": 77,
      "outputs": []
    },
    {
      "cell_type": "markdown",
      "metadata": {
        "id": "nZjesnFjZd2I"
      },
      "source": [
        "## data normalization"
      ]
    },
    {
      "cell_type": "code",
      "metadata": {
        "id": "gcknsDK7Za18"
      },
      "source": [
        "# use these keys to normalize\n",
        "primary_keys = [\"product_id\", \"vendor_id\", \"vendor_geohash\"]"
      ],
      "execution_count": 10,
      "outputs": []
    },
    {
      "cell_type": "code",
      "metadata": {
        "id": "KFNEam9SZizR"
      },
      "source": [
        "# split into a more normalized form\n",
        "products_raw_df = products_sample_raw_train_df[primary_keys + [\"order_count\"]].copy()\n",
        "products_name_raw_df = products_sample_raw_train_df[primary_keys + [\"product_name\"]].copy().rename({\"product_name\": \"text\"}, axis=1)\n",
        "products_description_raw_df = products_sample_raw_train_df[primary_keys + [\"product_description\"]].copy().rename({\"product_description\": \"text\"}, axis=1)"
      ],
      "execution_count": 79,
      "outputs": []
    },
    {
      "cell_type": "markdown",
      "metadata": {
        "id": "x57pfIVjbMWn"
      },
      "source": [
        "## basic cleanup"
      ]
    },
    {
      "cell_type": "code",
      "metadata": {
        "id": "_WvuqwFcjHLI"
      },
      "source": [
        "products_df = products_raw_df.copy()\n",
        "products_name_df = products_name_raw_df.copy()\n",
        "products_description_df = products_description_raw_df.copy"
      ],
      "execution_count": 80,
      "outputs": []
    },
    {
      "cell_type": "code",
      "metadata": {
        "id": "SS0mbHVfbOIH"
      },
      "source": [
        "# drop empty text\n",
        "products_name_df.dropna(inplace=True)\n",
        "products_description_df.dropna(inplace=True)\n",
        "\n",
        "# replace everything but basic chars for now\n",
        "products_name_df[\"text\"].replace(\"[^a-zA-Z0-9 ]\", \" \", inplace=True, regex=True)\n",
        "products_description_df[\"text\"].replace(\"[^a-zA-Z0-9 ]\", \" \", inplace=True, regex=True)\n",
        "\n",
        "# remove single and double characters\n",
        "products_name_df[\"text\"].replace(\"(^| ).( |$)\", \" \", inplace=True, regex=True)\n",
        "products_name_df[\"text\"].replace(\"(^| )..( |$)\", \" \", inplace=True, regex=True)\n",
        "products_description_df[\"text\"].replace(\"(^| ).( |$)\", \" \", inplace=True, regex=True)\n",
        "products_description_df[\"text\"].replace(\"(^| )..( |$)\", \" \", inplace=True, regex=True)\n",
        "\n",
        "# remove all double whitespaces\n",
        "products_name_df[\"text\"].replace(\"[ ]+\", \" \", inplace=True, regex=True)\n",
        "products_description_df[\"text\"].replace(\"[ ]+\", \" \", inplace=True, regex=True)\n",
        "\n",
        "# drop empty text\n",
        "products_name_df[\"text\"].replace(\"^[ ]+$\", \"\", inplace=True, regex=True)\n",
        "products_name_df = products_name_df[products_name_df[\"text\"] != \"\"]\n",
        "\n",
        "products_description_df[\"text\"].replace(\"^[ ]+$\", \"\", inplace=True, regex=True)\n",
        "products_description_df = products_description_df[products_description_df[\"text\"] != \"\"]"
      ],
      "execution_count": 23,
      "outputs": []
    },
    {
      "cell_type": "markdown",
      "metadata": {
        "id": "dD4k05ZiYOGh"
      },
      "source": [
        ""
      ]
    },
    {
      "cell_type": "code",
      "metadata": {
        "id": "Prl4tQnfbVZU"
      },
      "source": [
        "# to lower\n",
        "products_name_df[\"text\"] = products_name_df[\"text\"].str.lower()\n",
        "products_description_df[\"text\"] = products_description_df[\"text\"].str.lower()"
      ],
      "execution_count": 24,
      "outputs": []
    },
    {
      "cell_type": "code",
      "metadata": {
        "colab": {
          "base_uri": "https://localhost:8080/",
          "height": 419
        },
        "id": "tLFb0Px8bYtt",
        "outputId": "a0b912dc-ed30-4893-bea1-0f20f79a1548"
      },
      "source": [
        "products_name_df"
      ],
      "execution_count": 25,
      "outputs": [
        {
          "output_type": "execute_result",
          "data": {
            "text/html": [
              "<div>\n",
              "<style scoped>\n",
              "    .dataframe tbody tr th:only-of-type {\n",
              "        vertical-align: middle;\n",
              "    }\n",
              "\n",
              "    .dataframe tbody tr th {\n",
              "        vertical-align: top;\n",
              "    }\n",
              "\n",
              "    .dataframe thead th {\n",
              "        text-align: right;\n",
              "    }\n",
              "</style>\n",
              "<table border=\"1\" class=\"dataframe\">\n",
              "  <thead>\n",
              "    <tr style=\"text-align: right;\">\n",
              "      <th></th>\n",
              "      <th>product_id</th>\n",
              "      <th>vendor_id</th>\n",
              "      <th>vendor_geohash</th>\n",
              "      <th>text</th>\n",
              "    </tr>\n",
              "  </thead>\n",
              "  <tbody>\n",
              "    <tr>\n",
              "      <th>0</th>\n",
              "      <td>0</td>\n",
              "      <td>0</td>\n",
              "      <td>w21z6tu</td>\n",
              "      <td>cheese tofu</td>\n",
              "    </tr>\n",
              "    <tr>\n",
              "      <th>1</th>\n",
              "      <td>1</td>\n",
              "      <td>1</td>\n",
              "      <td>w21z74d</td>\n",
              "      <td>naughty nice slice</td>\n",
              "    </tr>\n",
              "    <tr>\n",
              "      <th>2</th>\n",
              "      <td>2</td>\n",
              "      <td>2</td>\n",
              "      <td>w21xxgu</td>\n",
              "      <td>301 pork dumpling with hot chilli vinaigrette</td>\n",
              "    </tr>\n",
              "    <tr>\n",
              "      <th>3</th>\n",
              "      <td>3</td>\n",
              "      <td>3</td>\n",
              "      <td>w23b4u1</td>\n",
              "      <td>mee kuah</td>\n",
              "    </tr>\n",
              "    <tr>\n",
              "      <th>4</th>\n",
              "      <td>4</td>\n",
              "      <td>4</td>\n",
              "      <td>w21ztq4</td>\n",
              "      <td>ham cheese sandwich set</td>\n",
              "    </tr>\n",
              "    <tr>\n",
              "      <th>...</th>\n",
              "      <td>...</td>\n",
              "      <td>...</td>\n",
              "      <td>...</td>\n",
              "      <td>...</td>\n",
              "    </tr>\n",
              "    <tr>\n",
              "      <th>633143</th>\n",
              "      <td>633143</td>\n",
              "      <td>701</td>\n",
              "      <td>w21zkpm</td>\n",
              "      <td>sriracha chicken whole wheat pita</td>\n",
              "    </tr>\n",
              "    <tr>\n",
              "      <th>633144</th>\n",
              "      <td>633144</td>\n",
              "      <td>17</td>\n",
              "      <td>w23b5j9</td>\n",
              "      <td>dettol liquid hand wash sensitive 250ml</td>\n",
              "    </tr>\n",
              "    <tr>\n",
              "      <th>633145</th>\n",
              "      <td>633145</td>\n",
              "      <td>4135</td>\n",
              "      <td>w21ztw0</td>\n",
              "      <td>red bean</td>\n",
              "    </tr>\n",
              "    <tr>\n",
              "      <th>633146</th>\n",
              "      <td>633146</td>\n",
              "      <td>3121</td>\n",
              "      <td>w21z6vc</td>\n",
              "      <td>twister meal</td>\n",
              "    </tr>\n",
              "    <tr>\n",
              "      <th>633147</th>\n",
              "      <td>633147</td>\n",
              "      <td>2754</td>\n",
              "      <td>w21zu1v</td>\n",
              "      <td>chocolate croissant</td>\n",
              "    </tr>\n",
              "  </tbody>\n",
              "</table>\n",
              "<p>633017 rows × 4 columns</p>\n",
              "</div>"
            ],
            "text/plain": [
              "        product_id  ...                                            text\n",
              "0                0  ...                                     cheese tofu\n",
              "1                1  ...                              naughty nice slice\n",
              "2                2  ...  301 pork dumpling with hot chilli vinaigrette \n",
              "3                3  ...                                        mee kuah\n",
              "4                4  ...                         ham cheese sandwich set\n",
              "...            ...  ...                                             ...\n",
              "633143      633143  ...               sriracha chicken whole wheat pita\n",
              "633144      633144  ...         dettol liquid hand wash sensitive 250ml\n",
              "633145      633145  ...                                        red bean\n",
              "633146      633146  ...                                    twister meal\n",
              "633147      633147  ...                             chocolate croissant\n",
              "\n",
              "[633017 rows x 4 columns]"
            ]
          },
          "metadata": {
            "tags": []
          },
          "execution_count": 25
        }
      ]
    },
    {
      "cell_type": "code",
      "metadata": {
        "colab": {
          "base_uri": "https://localhost:8080/",
          "height": 419
        },
        "id": "tI4yQgIPbZ60",
        "outputId": "fc548a66-cbae-42c3-bcba-84689f724704"
      },
      "source": [
        "products_description_df"
      ],
      "execution_count": 26,
      "outputs": [
        {
          "output_type": "execute_result",
          "data": {
            "text/html": [
              "<div>\n",
              "<style scoped>\n",
              "    .dataframe tbody tr th:only-of-type {\n",
              "        vertical-align: middle;\n",
              "    }\n",
              "\n",
              "    .dataframe tbody tr th {\n",
              "        vertical-align: top;\n",
              "    }\n",
              "\n",
              "    .dataframe thead th {\n",
              "        text-align: right;\n",
              "    }\n",
              "</style>\n",
              "<table border=\"1\" class=\"dataframe\">\n",
              "  <thead>\n",
              "    <tr style=\"text-align: right;\">\n",
              "      <th></th>\n",
              "      <th>product_id</th>\n",
              "      <th>vendor_id</th>\n",
              "      <th>vendor_geohash</th>\n",
              "      <th>text</th>\n",
              "    </tr>\n",
              "  </thead>\n",
              "  <tbody>\n",
              "    <tr>\n",
              "      <th>1</th>\n",
              "      <td>1</td>\n",
              "      <td>1</td>\n",
              "      <td>w21z74d</td>\n",
              "      <td>chocolate slice</td>\n",
              "    </tr>\n",
              "    <tr>\n",
              "      <th>2</th>\n",
              "      <td>2</td>\n",
              "      <td>2</td>\n",
              "      <td>w21xxgu</td>\n",
              "      <td>pcs spicy</td>\n",
              "    </tr>\n",
              "    <tr>\n",
              "      <th>3</th>\n",
              "      <td>3</td>\n",
              "      <td>3</td>\n",
              "      <td>w23b4u1</td>\n",
              "      <td>contain minced mutton meat</td>\n",
              "    </tr>\n",
              "    <tr>\n",
              "      <th>4</th>\n",
              "      <td>4</td>\n",
              "      <td>4</td>\n",
              "      <td>w21ztq4</td>\n",
              "      <td>toasted perfection this sandwich hits all the ...</td>\n",
              "    </tr>\n",
              "    <tr>\n",
              "      <th>7</th>\n",
              "      <td>7</td>\n",
              "      <td>7</td>\n",
              "      <td>w23b1tm</td>\n",
              "      <td>17 great food great value comes with pasta so...</td>\n",
              "    </tr>\n",
              "    <tr>\n",
              "      <th>...</th>\n",
              "      <td>...</td>\n",
              "      <td>...</td>\n",
              "      <td>...</td>\n",
              "      <td>...</td>\n",
              "    </tr>\n",
              "    <tr>\n",
              "      <th>633138</th>\n",
              "      <td>633138</td>\n",
              "      <td>3817</td>\n",
              "      <td>w21z3m2</td>\n",
              "      <td>pan fried japanese pork belly with sweet sauce...</td>\n",
              "    </tr>\n",
              "    <tr>\n",
              "      <th>633141</th>\n",
              "      <td>633141</td>\n",
              "      <td>36</td>\n",
              "      <td>w21zey6</td>\n",
              "      <td>cocomax made from 100 thai coconut water is pu...</td>\n",
              "    </tr>\n",
              "    <tr>\n",
              "      <th>633144</th>\n",
              "      <td>633144</td>\n",
              "      <td>17</td>\n",
              "      <td>w23b5j9</td>\n",
              "      <td>dettol liquid hand wash kills germs ensuring ...</td>\n",
              "    </tr>\n",
              "    <tr>\n",
              "      <th>633145</th>\n",
              "      <td>633145</td>\n",
              "      <td>4135</td>\n",
              "      <td>w21ztw0</td>\n",
              "      <td>pcs</td>\n",
              "    </tr>\n",
              "    <tr>\n",
              "      <th>633146</th>\n",
              "      <td>633146</td>\n",
              "      <td>3121</td>\n",
              "      <td>w21z6vc</td>\n",
              "      <td>choice twister hash brown and choice drink</td>\n",
              "    </tr>\n",
              "  </tbody>\n",
              "</table>\n",
              "<p>298000 rows × 4 columns</p>\n",
              "</div>"
            ],
            "text/plain": [
              "        product_id  ...                                               text\n",
              "1                1  ...                                    chocolate slice\n",
              "2                2  ...                                          pcs spicy\n",
              "3                3  ...                         contain minced mutton meat\n",
              "4                4  ...  toasted perfection this sandwich hits all the ...\n",
              "7                7  ...   17 great food great value comes with pasta so...\n",
              "...            ...  ...                                                ...\n",
              "633138      633138  ...  pan fried japanese pork belly with sweet sauce...\n",
              "633141      633141  ...  cocomax made from 100 thai coconut water is pu...\n",
              "633144      633144  ...   dettol liquid hand wash kills germs ensuring ...\n",
              "633145      633145  ...                                                pcs\n",
              "633146      633146  ...         choice twister hash brown and choice drink\n",
              "\n",
              "[298000 rows x 4 columns]"
            ]
          },
          "metadata": {
            "tags": []
          },
          "execution_count": 26
        }
      ]
    },
    {
      "cell_type": "markdown",
      "metadata": {
        "id": "iJNyvHVtbhVj"
      },
      "source": [
        "## tokenization and stemming"
      ]
    },
    {
      "cell_type": "code",
      "metadata": {
        "id": "ZaJX9n1ObbgV"
      },
      "source": [
        "products_name_token_df = products_name_df.copy()\n",
        "products_description_token_df = products_description_df.copy()"
      ],
      "execution_count": 27,
      "outputs": []
    },
    {
      "cell_type": "code",
      "metadata": {
        "id": "xb4Tb6SCbi_M"
      },
      "source": [
        "# tokenization\n",
        "products_name_token_df[\"text_tokens\"] = products_name_token_df[\"text\"].transform(nltk.word_tokenize)\n",
        "products_description_token_df[\"text_tokens\"] = products_description_token_df[\"text\"].apply(nltk.word_tokenize)"
      ],
      "execution_count": 30,
      "outputs": []
    },
    {
      "cell_type": "code",
      "metadata": {
        "id": "ZbPRgUckbkCV"
      },
      "source": [
        "# add a position index and explode\n",
        "products_name_token_df[\"idx\"] = 1\n",
        "products_name_token_df = products_name_token_df.explode(\"text_tokens\")\n",
        "products_name_token_df[\"idx\"] = products_name_token_df.groupby(primary_keys)[\"idx\"].cumsum()\n",
        "\n",
        "products_description_token_df[\"idx\"] = 1\n",
        "products_description_token_df = products_description_token_df.explode(\"text_tokens\")\n",
        "products_description_token_df[\"idx\"] = products_description_token_df.groupby(primary_keys)[\"idx\"].cumsum()"
      ],
      "execution_count": 31,
      "outputs": []
    },
    {
      "cell_type": "code",
      "metadata": {
        "id": "4IYgcLnQb2Ef"
      },
      "source": [
        "# stemming\n",
        "snowball = nltk.stem.SnowballStemmer(language=\"english\")\n",
        "products_name_token_df[\"text_tokens_stemmed\"] = products_name_token_df[\"text_tokens\"].apply(lambda x: snowball.stem(x))\n",
        "products_description_token_df[\"text_tokens_stemmed\"] = products_description_token_df[\"text_tokens\"].apply(lambda x: snowball.stem(x))"
      ],
      "execution_count": 32,
      "outputs": []
    },
    {
      "cell_type": "markdown",
      "metadata": {
        "id": "dpBaTJz9cbco"
      },
      "source": [
        "## filter english items"
      ]
    },
    {
      "cell_type": "markdown",
      "metadata": {
        "id": "8IFa-I3Hcenn"
      },
      "source": [
        "The general idea here is to count the fraction of english words in name and description and to use this in some way to filter english items."
      ]
    },
    {
      "cell_type": "code",
      "metadata": {
        "id": "Jwke6Y3scThb"
      },
      "source": [
        "# check if text_tokens are in words corpus\n",
        "words = nltk.corpus.words.words()\n",
        "products_name_token_df[\"is_english\"] = products_name_token_df[\"text_tokens\"].isin(words)\n",
        "products_description_token_df[\"is_english\"] = products_description_token_df[\"text_tokens\"].isin(words)"
      ],
      "execution_count": 34,
      "outputs": []
    },
    {
      "cell_type": "code",
      "metadata": {
        "id": "AFNr0kvycn0k"
      },
      "source": [
        "products_english_df = products_df.copy()\n",
        "\n",
        "# count english words and total words for product name\n",
        "products_english_df = products_english_df.merge(\n",
        "    products_name_token_df.groupby(primary_keys)[\"is_english\"].sum().reset_index().rename({\"is_english\": \"name_is_english\"}, axis=1), \n",
        "    on=primary_keys, \n",
        "    how=\"left\")\n",
        "products_english_df = products_english_df.merge(\n",
        "    products_name_token_df.groupby(primary_keys)[\"is_english\"].size().reset_index().rename({\"is_english\": \"name_n_words\"}, axis=1), \n",
        "    on=primary_keys, \n",
        "    how=\"left\")\n",
        "\n",
        "# count english words and total words for product description\n",
        "products_english_df = products_english_df.merge(\n",
        "    products_description_token_df.groupby(primary_keys)[\"is_english\"].sum().reset_index().rename({\"is_english\": \"description_is_english\"}, axis=1), \n",
        "    on=primary_keys, \n",
        "    how=\"left\")\n",
        "products_english_df = products_english_df.merge(\n",
        "    products_description_token_df.groupby(primary_keys)[\"is_english\"].size().reset_index().rename({\"is_english\": \"description_n_words\"}, axis=1), \n",
        "    on=primary_keys, \n",
        "    how=\"left\")\n",
        "\n",
        "# replace nans etc. from empty text and cast back to int\n",
        "for col in [\"name_is_english\", \"name_n_words\", \"description_is_english\", \"description_n_words\"]:\n",
        "    products_english_df[col] = products_english_df[col].replace(np.nan, 0).astype(int)"
      ],
      "execution_count": 35,
      "outputs": []
    },
    {
      "cell_type": "code",
      "metadata": {
        "id": "okTixn46cq1Y"
      },
      "source": [
        "# calculate the actual frequency = score\n",
        "products_english_df[\"total_is_english\"] = products_english_df[\"name_is_english\"] + products_english_df[\"description_is_english\"]\n",
        "products_english_df[\"total_n_words\"] = products_english_df[\"name_n_words\"] + products_english_df[\"description_n_words\"]\n",
        "products_english_df[\"english_score\"] = products_english_df[\"total_is_english\"] / products_english_df[\"total_n_words\"]"
      ],
      "execution_count": 48,
      "outputs": []
    },
    {
      "cell_type": "code",
      "metadata": {
        "id": "uye4FXklcr3k"
      },
      "source": [
        "# drop ones with no english score\n",
        "products_english_df = products_english_df[~products_english_df[\"english_score\"].isna()]"
      ],
      "execution_count": 39,
      "outputs": []
    },
    {
      "cell_type": "markdown",
      "metadata": {
        "id": "DU8ufrGNgrbx"
      },
      "source": [
        "### filter metric exploration"
      ]
    },
    {
      "cell_type": "code",
      "metadata": {
        "colab": {
          "base_uri": "https://localhost:8080/",
          "height": 393
        },
        "id": "pVZ_YSB-dPAa",
        "outputId": "da865250-7d27-4188-8b21-61910f6ab474"
      },
      "source": [
        "# plot the english score ecdf\n",
        "fig, ax = plt.subplots(1, 1, figsize=(16,6))\n",
        "sns.ecdfplot(\n",
        "    data=products_english_df,\n",
        "    x=\"english_score\",\n",
        "    ax=ax\n",
        ")\n",
        "plt.show()"
      ],
      "execution_count": 58,
      "outputs": [
        {
          "output_type": "display_data",
          "data": {
            "image/png": "[encoded data removed]",
            "text/plain": [
              "<Figure size 1152x432 with 1 Axes>"
            ]
          },
          "metadata": {
            "tags": [],
            "needs_background": "light"
          }
        }
      ]
    },
    {
      "cell_type": "code",
      "metadata": {
        "colab": {
          "base_uri": "https://localhost:8080/",
          "height": 389
        },
        "id": "UCb90-vPfrGs",
        "outputId": "c0530c6e-94a1-44a7-c777-59b85af43b5b"
      },
      "source": [
        "# plot the english score as a function of english words\n",
        "fig, ax = plt.subplots(1, 1, figsize=(16,6))\n",
        "sns.scatterplot(\n",
        "    data=products_english_df,\n",
        "    x=\"total_is_english\",\n",
        "    y=\"english_score\",\n",
        "    ax=ax\n",
        ")\n",
        "ax.set_xlim(0, 100)\n",
        "plt.show()"
      ],
      "execution_count": 64,
      "outputs": [
        {
          "output_type": "display_data",
          "data": {
            "image/png": "[encoded data removed]",
            "text/plain": [
              "<Figure size 1152x432 with 1 Axes>"
            ]
          },
          "metadata": {
            "tags": [],
            "needs_background": "light"
          }
        }
      ]
    },
    {
      "cell_type": "code",
      "metadata": {
        "colab": {
          "base_uri": "https://localhost:8080/",
          "height": 419
        },
        "id": "ep1-juEbd9yI",
        "outputId": "3bf3e9d3-3f12-4e30-d232-5828463b6c0a"
      },
      "source": [
        "products_raw_df.merge(products_english_df[(products_english_df[\"english_score\"] > 0.2) & (products_english_df[\"english_score\"] < 0.3)][primary_keys], on=primary_keys, how=\"inner\")"
      ],
      "execution_count": 46,
      "outputs": [
        {
          "output_type": "execute_result",
          "data": {
            "text/html": [
              "<div>\n",
              "<style scoped>\n",
              "    .dataframe tbody tr th:only-of-type {\n",
              "        vertical-align: middle;\n",
              "    }\n",
              "\n",
              "    .dataframe tbody tr th {\n",
              "        vertical-align: top;\n",
              "    }\n",
              "\n",
              "    .dataframe thead th {\n",
              "        text-align: right;\n",
              "    }\n",
              "</style>\n",
              "<table border=\"1\" class=\"dataframe\">\n",
              "  <thead>\n",
              "    <tr style=\"text-align: right;\">\n",
              "      <th></th>\n",
              "      <th>product_id</th>\n",
              "      <th>vendor_id</th>\n",
              "      <th>vendor_geohash</th>\n",
              "      <th>product_name</th>\n",
              "      <th>product_description</th>\n",
              "      <th>order_count</th>\n",
              "    </tr>\n",
              "  </thead>\n",
              "  <tbody>\n",
              "    <tr>\n",
              "      <th>0</th>\n",
              "      <td>85</td>\n",
              "      <td>81</td>\n",
              "      <td>w21zsbb</td>\n",
              "      <td>Meiji Mixberry Yoghurt 135g</td>\n",
              "      <td></td>\n",
              "      <td>75</td>\n",
              "    </tr>\n",
              "    <tr>\n",
              "      <th>1</th>\n",
              "      <td>214</td>\n",
              "      <td>180</td>\n",
              "      <td>w21zsbc</td>\n",
              "      <td>SJORA Savers Combo Deal</td>\n",
              "      <td>None</td>\n",
              "      <td>23</td>\n",
              "    </tr>\n",
              "    <tr>\n",
              "      <th>2</th>\n",
              "      <td>466</td>\n",
              "      <td>332</td>\n",
              "      <td>w23b1tq</td>\n",
              "      <td>Portuguese Egg Tarts (2 pcs)</td>\n",
              "      <td>None</td>\n",
              "      <td>30</td>\n",
              "    </tr>\n",
              "    <tr>\n",
              "      <th>3</th>\n",
              "      <td>530</td>\n",
              "      <td>398</td>\n",
              "      <td>w23b1vv</td>\n",
              "      <td>Bak Kwa Pau (5pcs) 肉干包 (5粒)</td>\n",
              "      <td>None</td>\n",
              "      <td>23</td>\n",
              "    </tr>\n",
              "    <tr>\n",
              "      <th>4</th>\n",
              "      <td>679</td>\n",
              "      <td>61</td>\n",
              "      <td>w21z675</td>\n",
              "      <td>Meiji Mixberry Yoghurt 135g</td>\n",
              "      <td></td>\n",
              "      <td>88</td>\n",
              "    </tr>\n",
              "    <tr>\n",
              "      <th>...</th>\n",
              "      <td>...</td>\n",
              "      <td>...</td>\n",
              "      <td>...</td>\n",
              "      <td>...</td>\n",
              "      <td>...</td>\n",
              "      <td>...</td>\n",
              "    </tr>\n",
              "    <tr>\n",
              "      <th>11651</th>\n",
              "      <td>632778</td>\n",
              "      <td>11207</td>\n",
              "      <td>w23b66h</td>\n",
              "      <td>Bak Kut Mee Dry 招牌肉骨面乾</td>\n",
              "      <td>None</td>\n",
              "      <td>22</td>\n",
              "    </tr>\n",
              "    <tr>\n",
              "      <th>11652</th>\n",
              "      <td>632850</td>\n",
              "      <td>2302</td>\n",
              "      <td>w21z8dz</td>\n",
              "      <td>Bibim Myeon</td>\n",
              "      <td>Bimbimbap served with noodles instead.</td>\n",
              "      <td>22</td>\n",
              "    </tr>\n",
              "    <tr>\n",
              "      <th>11653</th>\n",
              "      <td>632887</td>\n",
              "      <td>1987</td>\n",
              "      <td>w21zsc6</td>\n",
              "      <td>IF27. Mutton Mysore Biriyani</td>\n",
              "      <td>None</td>\n",
              "      <td>22</td>\n",
              "    </tr>\n",
              "    <tr>\n",
              "      <th>11654</th>\n",
              "      <td>632988</td>\n",
              "      <td>3579</td>\n",
              "      <td>w21z77s</td>\n",
              "      <td>6 Pieces Boneless Wings</td>\n",
              "      <td>2 flavors</td>\n",
              "      <td>22</td>\n",
              "    </tr>\n",
              "    <tr>\n",
              "      <th>11655</th>\n",
              "      <td>633054</td>\n",
              "      <td>2364</td>\n",
              "      <td>w21ztkf</td>\n",
              "      <td>14. Prawn Feng Guo 鲜虾粉果</td>\n",
              "      <td>3 Pcs</td>\n",
              "      <td>22</td>\n",
              "    </tr>\n",
              "  </tbody>\n",
              "</table>\n",
              "<p>11656 rows × 6 columns</p>\n",
              "</div>"
            ],
            "text/plain": [
              "       product_id  ...  order_count\n",
              "0              85  ...           75\n",
              "1             214  ...           23\n",
              "2             466  ...           30\n",
              "3             530  ...           23\n",
              "4             679  ...           88\n",
              "...           ...  ...          ...\n",
              "11651      632778  ...           22\n",
              "11652      632850  ...           22\n",
              "11653      632887  ...           22\n",
              "11654      632988  ...           22\n",
              "11655      633054  ...           22\n",
              "\n",
              "[11656 rows x 6 columns]"
            ]
          },
          "metadata": {
            "tags": []
          },
          "execution_count": 46
        }
      ]
    },
    {
      "cell_type": "code",
      "metadata": {
        "colab": {
          "base_uri": "https://localhost:8080/",
          "height": 419
        },
        "id": "b7IUTLh0dj2B",
        "outputId": "19a68e56-a3fe-4b7d-ee3c-b6422e209a4b"
      },
      "source": [
        "products_raw_df.merge(products_english_df[(products_english_df[\"english_score\"] > 0.6) & (products_english_df[\"english_score\"] < 0.7)][primary_keys], on=primary_keys, how=\"inner\")"
      ],
      "execution_count": 47,
      "outputs": [
        {
          "output_type": "execute_result",
          "data": {
            "text/html": [
              "<div>\n",
              "<style scoped>\n",
              "    .dataframe tbody tr th:only-of-type {\n",
              "        vertical-align: middle;\n",
              "    }\n",
              "\n",
              "    .dataframe tbody tr th {\n",
              "        vertical-align: top;\n",
              "    }\n",
              "\n",
              "    .dataframe thead th {\n",
              "        text-align: right;\n",
              "    }\n",
              "</style>\n",
              "<table border=\"1\" class=\"dataframe\">\n",
              "  <thead>\n",
              "    <tr style=\"text-align: right;\">\n",
              "      <th></th>\n",
              "      <th>product_id</th>\n",
              "      <th>vendor_id</th>\n",
              "      <th>vendor_geohash</th>\n",
              "      <th>product_name</th>\n",
              "      <th>product_description</th>\n",
              "      <th>order_count</th>\n",
              "    </tr>\n",
              "  </thead>\n",
              "  <tbody>\n",
              "    <tr>\n",
              "      <th>0</th>\n",
              "      <td>2</td>\n",
              "      <td>2</td>\n",
              "      <td>w21xxgu</td>\n",
              "      <td>301. Pork Dumpling with Hot Chilli Vinaigrette...</td>\n",
              "      <td>6 Pcs, spicy</td>\n",
              "      <td>25</td>\n",
              "    </tr>\n",
              "    <tr>\n",
              "      <th>1</th>\n",
              "      <td>11</td>\n",
              "      <td>11</td>\n",
              "      <td>w21z704</td>\n",
              "      <td>Box B: McNuggets (6pc) + McWings (4pc)</td>\n",
              "      <td>McWings® or Chicken McNuggets®? Now you don’t ...</td>\n",
              "      <td>25</td>\n",
              "    </tr>\n",
              "    <tr>\n",
              "      <th>2</th>\n",
              "      <td>30</td>\n",
              "      <td>30</td>\n",
              "      <td>w21ze47</td>\n",
              "      <td>Meatball Marinara Melt Sub</td>\n",
              "      <td>Comes with a generous helping of Italian-style...</td>\n",
              "      <td>26</td>\n",
              "    </tr>\n",
              "    <tr>\n",
              "      <th>3</th>\n",
              "      <td>35</td>\n",
              "      <td>17</td>\n",
              "      <td>w23b5j9</td>\n",
              "      <td>The Silly Greens Fine Bean 150g</td>\n",
              "      <td>Country of Origin: Indonesia</td>\n",
              "      <td>49</td>\n",
              "    </tr>\n",
              "    <tr>\n",
              "      <th>4</th>\n",
              "      <td>37</td>\n",
              "      <td>35</td>\n",
              "      <td>w21zs05</td>\n",
              "      <td>3005. Signature Porridge</td>\n",
              "      <td>None</td>\n",
              "      <td>37</td>\n",
              "    </tr>\n",
              "    <tr>\n",
              "      <th>...</th>\n",
              "      <td>...</td>\n",
              "      <td>...</td>\n",
              "      <td>...</td>\n",
              "      <td>...</td>\n",
              "      <td>...</td>\n",
              "      <td>...</td>\n",
              "    </tr>\n",
              "    <tr>\n",
              "      <th>89210</th>\n",
              "      <td>633105</td>\n",
              "      <td>899</td>\n",
              "      <td>w21zc4y</td>\n",
              "      <td>Buna Shimeji Mushroom 灵芝菇</td>\n",
              "      <td>None</td>\n",
              "      <td>22</td>\n",
              "    </tr>\n",
              "    <tr>\n",
              "      <th>89211</th>\n",
              "      <td>633106</td>\n",
              "      <td>1593</td>\n",
              "      <td>w21zby6</td>\n",
              "      <td>Xmas Feast</td>\n",
              "      <td>2 pcs Chicken (Original Recipe / Hot &amp; Crispy)...</td>\n",
              "      <td>22</td>\n",
              "    </tr>\n",
              "    <tr>\n",
              "      <th>89212</th>\n",
              "      <td>633129</td>\n",
              "      <td>3431</td>\n",
              "      <td>w21zby3</td>\n",
              "      <td>Azuki Red Bean</td>\n",
              "      <td>None</td>\n",
              "      <td>22</td>\n",
              "    </tr>\n",
              "    <tr>\n",
              "      <th>89213</th>\n",
              "      <td>633133</td>\n",
              "      <td>1359</td>\n",
              "      <td>w21zc57</td>\n",
              "      <td>Seafood Fried Rice</td>\n",
              "      <td>None</td>\n",
              "      <td>22</td>\n",
              "    </tr>\n",
              "    <tr>\n",
              "      <th>89214</th>\n",
              "      <td>633145</td>\n",
              "      <td>4135</td>\n",
              "      <td>w21ztw0</td>\n",
              "      <td>Red Bean</td>\n",
              "      <td>4 Pcs</td>\n",
              "      <td>22</td>\n",
              "    </tr>\n",
              "  </tbody>\n",
              "</table>\n",
              "<p>89215 rows × 6 columns</p>\n",
              "</div>"
            ],
            "text/plain": [
              "       product_id  ...  order_count\n",
              "0               2  ...           25\n",
              "1              11  ...           25\n",
              "2              30  ...           26\n",
              "3              35  ...           49\n",
              "4              37  ...           37\n",
              "...           ...  ...          ...\n",
              "89210      633105  ...           22\n",
              "89211      633106  ...           22\n",
              "89212      633129  ...           22\n",
              "89213      633133  ...           22\n",
              "89214      633145  ...           22\n",
              "\n",
              "[89215 rows x 6 columns]"
            ]
          },
          "metadata": {
            "tags": []
          },
          "execution_count": 47
        }
      ]
    },
    {
      "cell_type": "code",
      "metadata": {
        "colab": {
          "base_uri": "https://localhost:8080/",
          "height": 419
        },
        "id": "Tnxwr8rsg3um",
        "outputId": "276f537f-0b9c-4d8c-bec1-985373d19923"
      },
      "source": [
        "products_raw_df.merge(products_english_df[products_english_df[\"total_is_english\"] == 0 ][primary_keys], on=primary_keys, how=\"inner\")"
      ],
      "execution_count": 70,
      "outputs": [
        {
          "output_type": "execute_result",
          "data": {
            "text/html": [
              "<div>\n",
              "<style scoped>\n",
              "    .dataframe tbody tr th:only-of-type {\n",
              "        vertical-align: middle;\n",
              "    }\n",
              "\n",
              "    .dataframe tbody tr th {\n",
              "        vertical-align: top;\n",
              "    }\n",
              "\n",
              "    .dataframe thead th {\n",
              "        text-align: right;\n",
              "    }\n",
              "</style>\n",
              "<table border=\"1\" class=\"dataframe\">\n",
              "  <thead>\n",
              "    <tr style=\"text-align: right;\">\n",
              "      <th></th>\n",
              "      <th>product_id</th>\n",
              "      <th>vendor_id</th>\n",
              "      <th>vendor_geohash</th>\n",
              "      <th>product_name</th>\n",
              "      <th>product_description</th>\n",
              "      <th>order_count</th>\n",
              "    </tr>\n",
              "  </thead>\n",
              "  <tbody>\n",
              "    <tr>\n",
              "      <th>0</th>\n",
              "      <td>10</td>\n",
              "      <td>10</td>\n",
              "      <td>w21ztrq</td>\n",
              "      <td>Laksa 叻沙</td>\n",
              "      <td>None</td>\n",
              "      <td>64</td>\n",
              "    </tr>\n",
              "    <tr>\n",
              "      <th>1</th>\n",
              "      <td>19</td>\n",
              "      <td>19</td>\n",
              "      <td>w23b4j4</td>\n",
              "      <td>Emborg Shredded Mozzarella 200g</td>\n",
              "      <td></td>\n",
              "      <td>74</td>\n",
              "    </tr>\n",
              "    <tr>\n",
              "      <th>2</th>\n",
              "      <td>54</td>\n",
              "      <td>51</td>\n",
              "      <td>w21zg1e</td>\n",
              "      <td>Cookie (3 Pieces)</td>\n",
              "      <td>None</td>\n",
              "      <td>23</td>\n",
              "    </tr>\n",
              "    <tr>\n",
              "      <th>3</th>\n",
              "      <td>63</td>\n",
              "      <td>60</td>\n",
              "      <td>w21z6ey</td>\n",
              "      <td>Masak Paprik</td>\n",
              "      <td>None</td>\n",
              "      <td>26</td>\n",
              "    </tr>\n",
              "    <tr>\n",
              "      <th>4</th>\n",
              "      <td>77</td>\n",
              "      <td>73</td>\n",
              "      <td>w21zsfw</td>\n",
              "      <td>Mee Goreng</td>\n",
              "      <td>None</td>\n",
              "      <td>29</td>\n",
              "    </tr>\n",
              "    <tr>\n",
              "      <th>...</th>\n",
              "      <td>...</td>\n",
              "      <td>...</td>\n",
              "      <td>...</td>\n",
              "      <td>...</td>\n",
              "      <td>...</td>\n",
              "      <td>...</td>\n",
              "    </tr>\n",
              "    <tr>\n",
              "      <th>24171</th>\n",
              "      <td>633087</td>\n",
              "      <td>1038</td>\n",
              "      <td>w23b1zp</td>\n",
              "      <td>HOMESTYLE BROWNIES (5001773) | 70 g</td>\n",
              "      <td>None</td>\n",
              "      <td>22</td>\n",
              "    </tr>\n",
              "    <tr>\n",
              "      <th>24172</th>\n",
              "      <td>633120</td>\n",
              "      <td>45</td>\n",
              "      <td>w21z7z3</td>\n",
              "      <td>Pepsi Cans 4s x 320ml</td>\n",
              "      <td>0</td>\n",
              "      <td>22</td>\n",
              "    </tr>\n",
              "    <tr>\n",
              "      <th>24173</th>\n",
              "      <td>633124</td>\n",
              "      <td>5586</td>\n",
              "      <td>w21zs4f</td>\n",
              "      <td>A2. Toroniku Tonkotsu Ramen</td>\n",
              "      <td>Toroniku, ni tamago, menma</td>\n",
              "      <td>22</td>\n",
              "    </tr>\n",
              "    <tr>\n",
              "      <th>24174</th>\n",
              "      <td>633132</td>\n",
              "      <td>10631</td>\n",
              "      <td>w23b4u1</td>\n",
              "      <td>Hokkien Mee</td>\n",
              "      <td>None</td>\n",
              "      <td>22</td>\n",
              "    </tr>\n",
              "    <tr>\n",
              "      <th>24175</th>\n",
              "      <td>633142</td>\n",
              "      <td>1221</td>\n",
              "      <td>w23b553</td>\n",
              "      <td>Masala Thosai</td>\n",
              "      <td>None</td>\n",
              "      <td>22</td>\n",
              "    </tr>\n",
              "  </tbody>\n",
              "</table>\n",
              "<p>24176 rows × 6 columns</p>\n",
              "</div>"
            ],
            "text/plain": [
              "       product_id  vendor_id  ...         product_description order_count\n",
              "0              10         10  ...                        None          64\n",
              "1              19         19  ...                                      74\n",
              "2              54         51  ...                        None          23\n",
              "3              63         60  ...                        None          26\n",
              "4              77         73  ...                        None          29\n",
              "...           ...        ...  ...                         ...         ...\n",
              "24171      633087       1038  ...                        None          22\n",
              "24172      633120         45  ...                           0          22\n",
              "24173      633124       5586  ...  Toroniku, ni tamago, menma          22\n",
              "24174      633132      10631  ...                        None          22\n",
              "24175      633142       1221  ...                        None          22\n",
              "\n",
              "[24176 rows x 6 columns]"
            ]
          },
          "metadata": {
            "tags": []
          },
          "execution_count": 70
        }
      ]
    },
    {
      "cell_type": "code",
      "metadata": {
        "colab": {
          "base_uri": "https://localhost:8080/",
          "height": 419
        },
        "id": "8gsGG3vhhbO6",
        "outputId": "4bf8a712-5ad2-4742-e3ad-7b8faef84ded"
      },
      "source": [
        "products_raw_df.merge(products_english_df[products_english_df[\"total_is_english\"] == 1][primary_keys], on=primary_keys, how=\"inner\")"
      ],
      "execution_count": 71,
      "outputs": [
        {
          "output_type": "execute_result",
          "data": {
            "text/html": [
              "<div>\n",
              "<style scoped>\n",
              "    .dataframe tbody tr th:only-of-type {\n",
              "        vertical-align: middle;\n",
              "    }\n",
              "\n",
              "    .dataframe tbody tr th {\n",
              "        vertical-align: top;\n",
              "    }\n",
              "\n",
              "    .dataframe thead th {\n",
              "        text-align: right;\n",
              "    }\n",
              "</style>\n",
              "<table border=\"1\" class=\"dataframe\">\n",
              "  <thead>\n",
              "    <tr style=\"text-align: right;\">\n",
              "      <th></th>\n",
              "      <th>product_id</th>\n",
              "      <th>vendor_id</th>\n",
              "      <th>vendor_geohash</th>\n",
              "      <th>product_name</th>\n",
              "      <th>product_description</th>\n",
              "      <th>order_count</th>\n",
              "    </tr>\n",
              "  </thead>\n",
              "  <tbody>\n",
              "    <tr>\n",
              "      <th>0</th>\n",
              "      <td>28</td>\n",
              "      <td>28</td>\n",
              "      <td>w21z8hc</td>\n",
              "      <td>Steamed Chicken 白鸡</td>\n",
              "      <td>None</td>\n",
              "      <td>47</td>\n",
              "    </tr>\n",
              "    <tr>\n",
              "      <th>1</th>\n",
              "      <td>42</td>\n",
              "      <td>39</td>\n",
              "      <td>w21zeqz</td>\n",
              "      <td>Fuel Up</td>\n",
              "      <td>None</td>\n",
              "      <td>163</td>\n",
              "    </tr>\n",
              "    <tr>\n",
              "      <th>2</th>\n",
              "      <td>44</td>\n",
              "      <td>41</td>\n",
              "      <td>w21z6ey</td>\n",
              "      <td>Plain Prata</td>\n",
              "      <td>2 Pcs</td>\n",
              "      <td>81</td>\n",
              "    </tr>\n",
              "    <tr>\n",
              "      <th>3</th>\n",
              "      <td>55</td>\n",
              "      <td>52</td>\n",
              "      <td>w21zbsp</td>\n",
              "      <td>Shiitake Mushroom 香菇</td>\n",
              "      <td>None</td>\n",
              "      <td>63</td>\n",
              "    </tr>\n",
              "    <tr>\n",
              "      <th>4</th>\n",
              "      <td>65</td>\n",
              "      <td>62</td>\n",
              "      <td>w21z7k1</td>\n",
              "      <td>French Toast 法式吐司</td>\n",
              "      <td>None</td>\n",
              "      <td>35</td>\n",
              "    </tr>\n",
              "    <tr>\n",
              "      <th>...</th>\n",
              "      <td>...</td>\n",
              "      <td>...</td>\n",
              "      <td>...</td>\n",
              "      <td>...</td>\n",
              "      <td>...</td>\n",
              "      <td>...</td>\n",
              "    </tr>\n",
              "    <tr>\n",
              "      <th>72199</th>\n",
              "      <td>633104</td>\n",
              "      <td>680</td>\n",
              "      <td>w21zbdp</td>\n",
              "      <td>P19. Claypot Tom Yum Mee Soup</td>\n",
              "      <td>None</td>\n",
              "      <td>22</td>\n",
              "    </tr>\n",
              "    <tr>\n",
              "      <th>72200</th>\n",
              "      <td>633111</td>\n",
              "      <td>1882</td>\n",
              "      <td>w23b1tq</td>\n",
              "      <td>Pezzo's Popular Combo</td>\n",
              "      <td>None</td>\n",
              "      <td>22</td>\n",
              "    </tr>\n",
              "    <tr>\n",
              "      <th>72201</th>\n",
              "      <td>633125</td>\n",
              "      <td>823</td>\n",
              "      <td>w21zunh</td>\n",
              "      <td>Classic Beancurd</td>\n",
              "      <td>None</td>\n",
              "      <td>22</td>\n",
              "    </tr>\n",
              "    <tr>\n",
              "      <th>72202</th>\n",
              "      <td>633137</td>\n",
              "      <td>2104</td>\n",
              "      <td>w21ztxb</td>\n",
              "      <td>Chicken Alfredo</td>\n",
              "      <td>None</td>\n",
              "      <td>22</td>\n",
              "    </tr>\n",
              "    <tr>\n",
              "      <th>72203</th>\n",
              "      <td>633147</td>\n",
              "      <td>2754</td>\n",
              "      <td>w21zu1v</td>\n",
              "      <td>Chocolate Croissant</td>\n",
              "      <td>None</td>\n",
              "      <td>22</td>\n",
              "    </tr>\n",
              "  </tbody>\n",
              "</table>\n",
              "<p>72204 rows × 6 columns</p>\n",
              "</div>"
            ],
            "text/plain": [
              "       product_id  vendor_id  ... product_description order_count\n",
              "0              28         28  ...                None          47\n",
              "1              42         39  ...                None         163\n",
              "2              44         41  ...               2 Pcs          81\n",
              "3              55         52  ...                None          63\n",
              "4              65         62  ...                None          35\n",
              "...           ...        ...  ...                 ...         ...\n",
              "72199      633104        680  ...                None          22\n",
              "72200      633111       1882  ...                None          22\n",
              "72201      633125        823  ...                None          22\n",
              "72202      633137       2104  ...                None          22\n",
              "72203      633147       2754  ...                None          22\n",
              "\n",
              "[72204 rows x 6 columns]"
            ]
          },
          "metadata": {
            "tags": []
          },
          "execution_count": 71
        }
      ]
    },
    {
      "cell_type": "code",
      "metadata": {
        "colab": {
          "base_uri": "https://localhost:8080/",
          "height": 419
        },
        "id": "CA8UnXEyhDfZ",
        "outputId": "e2fa9c55-e529-4258-883f-b08a251cec42"
      },
      "source": [
        "products_raw_df.merge(products_english_df[products_english_df[\"total_is_english\"] == 2][primary_keys], on=primary_keys, how=\"inner\")"
      ],
      "execution_count": 72,
      "outputs": [
        {
          "output_type": "execute_result",
          "data": {
            "text/html": [
              "<div>\n",
              "<style scoped>\n",
              "    .dataframe tbody tr th:only-of-type {\n",
              "        vertical-align: middle;\n",
              "    }\n",
              "\n",
              "    .dataframe tbody tr th {\n",
              "        vertical-align: top;\n",
              "    }\n",
              "\n",
              "    .dataframe thead th {\n",
              "        text-align: right;\n",
              "    }\n",
              "</style>\n",
              "<table border=\"1\" class=\"dataframe\">\n",
              "  <thead>\n",
              "    <tr style=\"text-align: right;\">\n",
              "      <th></th>\n",
              "      <th>product_id</th>\n",
              "      <th>vendor_id</th>\n",
              "      <th>vendor_geohash</th>\n",
              "      <th>product_name</th>\n",
              "      <th>product_description</th>\n",
              "      <th>order_count</th>\n",
              "    </tr>\n",
              "  </thead>\n",
              "  <tbody>\n",
              "    <tr>\n",
              "      <th>0</th>\n",
              "      <td>0</td>\n",
              "      <td>0</td>\n",
              "      <td>w21z6tu</td>\n",
              "      <td>Cheese Tofu</td>\n",
              "      <td>None</td>\n",
              "      <td>116</td>\n",
              "    </tr>\n",
              "    <tr>\n",
              "      <th>1</th>\n",
              "      <td>8</td>\n",
              "      <td>8</td>\n",
              "      <td>w21ze4k</td>\n",
              "      <td>13. Chicken Porridge</td>\n",
              "      <td>None</td>\n",
              "      <td>67</td>\n",
              "    </tr>\n",
              "    <tr>\n",
              "      <th>2</th>\n",
              "      <td>22</td>\n",
              "      <td>22</td>\n",
              "      <td>w23b4rw</td>\n",
              "      <td>Chilli Pan Mee Soup 辣椒板面汤</td>\n",
              "      <td>None</td>\n",
              "      <td>25</td>\n",
              "    </tr>\n",
              "    <tr>\n",
              "      <th>3</th>\n",
              "      <td>32</td>\n",
              "      <td>32</td>\n",
              "      <td>w21ztje</td>\n",
              "      <td>Tartar Sauce</td>\n",
              "      <td>None</td>\n",
              "      <td>47</td>\n",
              "    </tr>\n",
              "    <tr>\n",
              "      <th>4</th>\n",
              "      <td>37</td>\n",
              "      <td>35</td>\n",
              "      <td>w21zs05</td>\n",
              "      <td>3005. Signature Porridge</td>\n",
              "      <td>None</td>\n",
              "      <td>37</td>\n",
              "    </tr>\n",
              "    <tr>\n",
              "      <th>...</th>\n",
              "      <td>...</td>\n",
              "      <td>...</td>\n",
              "      <td>...</td>\n",
              "      <td>...</td>\n",
              "      <td>...</td>\n",
              "      <td>...</td>\n",
              "    </tr>\n",
              "    <tr>\n",
              "      <th>100894</th>\n",
              "      <td>633131</td>\n",
              "      <td>11980</td>\n",
              "      <td>w23b1mn</td>\n",
              "      <td>Roasted Char Siew Roasted Pork 叉烧烧肉</td>\n",
              "      <td>None</td>\n",
              "      <td>22</td>\n",
              "    </tr>\n",
              "    <tr>\n",
              "      <th>100895</th>\n",
              "      <td>633133</td>\n",
              "      <td>1359</td>\n",
              "      <td>w21zc57</td>\n",
              "      <td>Seafood Fried Rice</td>\n",
              "      <td>None</td>\n",
              "      <td>22</td>\n",
              "    </tr>\n",
              "    <tr>\n",
              "      <th>100896</th>\n",
              "      <td>633135</td>\n",
              "      <td>45</td>\n",
              "      <td>w21z7z3</td>\n",
              "      <td>Barilla Napoletana Pasta Sauce 400g</td>\n",
              "      <td></td>\n",
              "      <td>22</td>\n",
              "    </tr>\n",
              "    <tr>\n",
              "      <th>100897</th>\n",
              "      <td>633140</td>\n",
              "      <td>11216</td>\n",
              "      <td>w23b1vv</td>\n",
              "      <td>White Rice 白饭</td>\n",
              "      <td>None</td>\n",
              "      <td>22</td>\n",
              "    </tr>\n",
              "    <tr>\n",
              "      <th>100898</th>\n",
              "      <td>633145</td>\n",
              "      <td>4135</td>\n",
              "      <td>w21ztw0</td>\n",
              "      <td>Red Bean</td>\n",
              "      <td>4 Pcs</td>\n",
              "      <td>22</td>\n",
              "    </tr>\n",
              "  </tbody>\n",
              "</table>\n",
              "<p>100899 rows × 6 columns</p>\n",
              "</div>"
            ],
            "text/plain": [
              "        product_id  vendor_id  ... product_description order_count\n",
              "0                0          0  ...                None         116\n",
              "1                8          8  ...                None          67\n",
              "2               22         22  ...                None          25\n",
              "3               32         32  ...                None          47\n",
              "4               37         35  ...                None          37\n",
              "...            ...        ...  ...                 ...         ...\n",
              "100894      633131      11980  ...                None          22\n",
              "100895      633133       1359  ...                None          22\n",
              "100896      633135         45  ...                              22\n",
              "100897      633140      11216  ...                None          22\n",
              "100898      633145       4135  ...               4 Pcs          22\n",
              "\n",
              "[100899 rows x 6 columns]"
            ]
          },
          "metadata": {
            "tags": []
          },
          "execution_count": 72
        }
      ]
    },
    {
      "cell_type": "code",
      "metadata": {
        "colab": {
          "base_uri": "https://localhost:8080/",
          "height": 419
        },
        "id": "7U2W8tyWhEnw",
        "outputId": "8c82890a-36f1-44e3-97d7-0ebc074c08a7"
      },
      "source": [
        "products_raw_df.merge(products_english_df[products_english_df[\"total_is_english\"] == 3][primary_keys], on=primary_keys, how=\"inner\")"
      ],
      "execution_count": 73,
      "outputs": [
        {
          "output_type": "execute_result",
          "data": {
            "text/html": [
              "<div>\n",
              "<style scoped>\n",
              "    .dataframe tbody tr th:only-of-type {\n",
              "        vertical-align: middle;\n",
              "    }\n",
              "\n",
              "    .dataframe tbody tr th {\n",
              "        vertical-align: top;\n",
              "    }\n",
              "\n",
              "    .dataframe thead th {\n",
              "        text-align: right;\n",
              "    }\n",
              "</style>\n",
              "<table border=\"1\" class=\"dataframe\">\n",
              "  <thead>\n",
              "    <tr style=\"text-align: right;\">\n",
              "      <th></th>\n",
              "      <th>product_id</th>\n",
              "      <th>vendor_id</th>\n",
              "      <th>vendor_geohash</th>\n",
              "      <th>product_name</th>\n",
              "      <th>product_description</th>\n",
              "      <th>order_count</th>\n",
              "    </tr>\n",
              "  </thead>\n",
              "  <tbody>\n",
              "    <tr>\n",
              "      <th>0</th>\n",
              "      <td>3</td>\n",
              "      <td>3</td>\n",
              "      <td>w23b4u1</td>\n",
              "      <td>Mee Kuah</td>\n",
              "      <td>Contain minced mutton meat</td>\n",
              "      <td>45</td>\n",
              "    </tr>\n",
              "    <tr>\n",
              "      <th>1</th>\n",
              "      <td>5</td>\n",
              "      <td>5</td>\n",
              "      <td>w21z6dm</td>\n",
              "      <td>Chicken Dum Biryani Set</td>\n",
              "      <td>None</td>\n",
              "      <td>39</td>\n",
              "    </tr>\n",
              "    <tr>\n",
              "      <th>2</th>\n",
              "      <td>18</td>\n",
              "      <td>18</td>\n",
              "      <td>w21zc4v</td>\n",
              "      <td>35. Crispy Fried Chicken Wings</td>\n",
              "      <td>None</td>\n",
              "      <td>24</td>\n",
              "    </tr>\n",
              "    <tr>\n",
              "      <th>3</th>\n",
              "      <td>23</td>\n",
              "      <td>23</td>\n",
              "      <td>w21zux7</td>\n",
              "      <td>Mango Ice Blended</td>\n",
              "      <td>None</td>\n",
              "      <td>63</td>\n",
              "    </tr>\n",
              "    <tr>\n",
              "      <th>4</th>\n",
              "      <td>26</td>\n",
              "      <td>26</td>\n",
              "      <td>w21z741</td>\n",
              "      <td>Chicken Satay</td>\n",
              "      <td>Choice of size</td>\n",
              "      <td>23</td>\n",
              "    </tr>\n",
              "    <tr>\n",
              "      <th>...</th>\n",
              "      <td>...</td>\n",
              "      <td>...</td>\n",
              "      <td>...</td>\n",
              "      <td>...</td>\n",
              "      <td>...</td>\n",
              "      <td>...</td>\n",
              "    </tr>\n",
              "    <tr>\n",
              "      <th>88325</th>\n",
              "      <td>633109</td>\n",
              "      <td>698</td>\n",
              "      <td>w23b4rw</td>\n",
              "      <td>Iced Milo (Regular)</td>\n",
              "      <td>None</td>\n",
              "      <td>22</td>\n",
              "    </tr>\n",
              "    <tr>\n",
              "      <th>88326</th>\n",
              "      <td>633113</td>\n",
              "      <td>1677</td>\n",
              "      <td>w21zvbb</td>\n",
              "      <td>Lychee Rose Jing Syuan Tea</td>\n",
              "      <td>None</td>\n",
              "      <td>22</td>\n",
              "    </tr>\n",
              "    <tr>\n",
              "      <th>88327</th>\n",
              "      <td>633119</td>\n",
              "      <td>5</td>\n",
              "      <td>w21z6dm</td>\n",
              "      <td>Curry Puff Potato</td>\n",
              "      <td>None</td>\n",
              "      <td>22</td>\n",
              "    </tr>\n",
              "    <tr>\n",
              "      <th>88328</th>\n",
              "      <td>633127</td>\n",
              "      <td>106</td>\n",
              "      <td>w21z6cf</td>\n",
              "      <td>Ceres Fruit Juice - Whispers Of Summer 1L</td>\n",
              "      <td></td>\n",
              "      <td>22</td>\n",
              "    </tr>\n",
              "    <tr>\n",
              "      <th>88329</th>\n",
              "      <td>633136</td>\n",
              "      <td>3450</td>\n",
              "      <td>w21zkrd</td>\n",
              "      <td>Ham &amp; Mushroom Pizza</td>\n",
              "      <td>None</td>\n",
              "      <td>22</td>\n",
              "    </tr>\n",
              "  </tbody>\n",
              "</table>\n",
              "<p>88330 rows × 6 columns</p>\n",
              "</div>"
            ],
            "text/plain": [
              "       product_id  vendor_id  ...         product_description order_count\n",
              "0               3          3  ...  Contain minced mutton meat          45\n",
              "1               5          5  ...                        None          39\n",
              "2              18         18  ...                        None          24\n",
              "3              23         23  ...                        None          63\n",
              "4              26         26  ...              Choice of size          23\n",
              "...           ...        ...  ...                         ...         ...\n",
              "88325      633109        698  ...                        None          22\n",
              "88326      633113       1677  ...                        None          22\n",
              "88327      633119          5  ...                        None          22\n",
              "88328      633127        106  ...                                      22\n",
              "88329      633136       3450  ...                        None          22\n",
              "\n",
              "[88330 rows x 6 columns]"
            ]
          },
          "metadata": {
            "tags": []
          },
          "execution_count": 73
        }
      ]
    },
    {
      "cell_type": "markdown",
      "metadata": {
        "id": "Z7yRuY0AgxZZ"
      },
      "source": [
        "### actual filtering"
      ]
    },
    {
      "cell_type": "code",
      "metadata": {
        "id": "JlbX9ABVdTUq"
      },
      "source": [
        "products_english_filtered_df = products_english_df.copy()\n",
        "products_english_filtered_df = products_english_filtered_df[products_english_filtered_df[\"total_is_english\"] > 0]"
      ],
      "execution_count": 74,
      "outputs": []
    },
    {
      "cell_type": "code",
      "metadata": {
        "colab": {
          "base_uri": "https://localhost:8080/"
        },
        "id": "Hl285_5ziuU8",
        "outputId": "dcee9bbb-eb69-4d86-d96c-9063a6471ba5"
      },
      "source": [
        "len(products_df), len(products_english_filtered_df)"
      ],
      "execution_count": 75,
      "outputs": [
        {
          "output_type": "execute_result",
          "data": {
            "text/plain": [
              "(633148, 608876)"
            ]
          },
          "metadata": {
            "tags": []
          },
          "execution_count": 75
        }
      ]
    },
    {
      "cell_type": "markdown",
      "metadata": {
        "id": "mhVW3PuMh48q"
      },
      "source": [
        "# cleanup verdict\n",
        "Obviously we could improve our cleanup and subsequent filtering by a lot.\n",
        "* better character level cleaning\n",
        "* better dictionary (also include more culinary terms like croissant etc.)\n",
        "* english filtering is now only done by number of english words, but other metrics could be better (like and improved version of the english score I tried)\n",
        "For now it seems to be good enough."
      ]
    },
    {
      "cell_type": "code",
      "metadata": {
        "id": "VouV0P3PiUD4"
      },
      "source": [
        ""
      ],
      "execution_count": null,
      "outputs": []
    }
  ]
}