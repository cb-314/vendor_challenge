{
  "nbformat": 4,
  "nbformat_minor": 0,
  "metadata": {
    "colab": {
      "name": "vendor_challenge.ipynb",
      "provenance": [],
      "collapsed_sections": [],
      "authorship_tag": "ABX9TyMpCokWuV1s7IhD4xntjB+m",
      "include_colab_link": true
    },
    "kernelspec": {
      "name": "python3",
      "display_name": "Python 3"
    },
    "language_info": {
      "name": "python"
    }
  },
  "cells": [
    {
      "cell_type": "markdown",
      "metadata": {
        "id": "view-in-github",
        "colab_type": "text"
      },
      "source": [
        "<a href=\"https://colab.research.google.com/github/azz2k/vendor_challenge/blob/main/vendor_challenge.ipynb\" target=\"_parent\"><img src=\"https://colab.research.google.com/assets/colab-badge.svg\" alt=\"Open In Colab\"/></a>"
      ]
    },
    {
      "cell_type": "markdown",
      "metadata": {
        "id": "jy_C-pi4YPm3"
      },
      "source": [
        "# Introduction\n",
        "* To make my life easier I will remove everything but [a-zA-Z0-9] and whitespaces\n",
        "* For now I will use a bag-of-words approach as I have limited time"
      ]
    },
    {
      "cell_type": "markdown",
      "metadata": {
        "id": "ZoUyLyRLYUKT"
      },
      "source": [
        "# libraries, constants, etc."
      ]
    },
    {
      "cell_type": "code",
      "metadata": {
        "id": "Huk1EMxUXvZk"
      },
      "source": [
        "from google.colab import drive\n",
        "\n",
        "import pandas as pd\n",
        "import numpy as np\n",
        "import sklearn.model_selection\n",
        "\n",
        "import seaborn as sns\n",
        "from matplotlib import pyplot as plt\n",
        "\n",
        "import nltk"
      ],
      "execution_count": 1,
      "outputs": []
    },
    {
      "cell_type": "markdown",
      "metadata": {
        "id": "mYnjQDTrYYHC"
      },
      "source": [
        "This should later be put into: requirements installations (in separate requirements file)"
      ]
    },
    {
      "cell_type": "code",
      "metadata": {
        "colab": {
          "base_uri": "https://localhost:8080/"
        },
        "id": "I3ILA9pNbtfN",
        "outputId": "0ef5f0da-cda8-44c6-c250-5d35312cfcaf"
      },
      "source": [
        "# Punkt sentence tokenizer\n",
        "nltk.download(\"punkt\")\n",
        "# Word List Corpus\n",
        "nltk.download(\"words\")"
      ],
      "execution_count": 2,
      "outputs": [
        {
          "output_type": "stream",
          "text": [
            "[nltk_data] Downloading package punkt to /root/nltk_data...\n",
            "[nltk_data]   Package punkt is already up-to-date!\n",
            "[nltk_data] Downloading package words to /root/nltk_data...\n",
            "[nltk_data]   Package words is already up-to-date!\n"
          ],
          "name": "stdout"
        },
        {
          "output_type": "execute_result",
          "data": {
            "text/plain": [
              "True"
            ]
          },
          "metadata": {
            "tags": []
          },
          "execution_count": 2
        }
      ]
    },
    {
      "cell_type": "markdown",
      "metadata": {
        "id": "u3gGyr5-YbY8"
      },
      "source": [
        "# read data\n"
      ]
    },
    {
      "cell_type": "code",
      "metadata": {
        "colab": {
          "base_uri": "https://localhost:8080/"
        },
        "id": "h_t4ynxIYYpN",
        "outputId": "b4ff2685-073d-40bf-bf23-2bcb8e74ad97"
      },
      "source": [
        "# mount google drive\n",
        "drive.mount(\"/content/drive\")"
      ],
      "execution_count": 3,
      "outputs": [
        {
          "output_type": "stream",
          "text": [
            "Drive already mounted at /content/drive; to attempt to forcibly remount, call drive.mount(\"/content/drive\", force_remount=True).\n"
          ],
          "name": "stdout"
        }
      ]
    },
    {
      "cell_type": "code",
      "metadata": {
        "colab": {
          "base_uri": "https://localhost:8080/",
          "height": 419
        },
        "id": "QTUcF40uZBLr",
        "outputId": "c8cbb473-0f84-4e56-8b34-b8758994e01d"
      },
      "source": [
        "products_all_raw_df = pd.read_parquet(\"/content/drive/MyDrive/Data Science/products.parquet.gz\")\n",
        "products_all_raw_df"
      ],
      "execution_count": 4,
      "outputs": [
        {
          "output_type": "execute_result",
          "data": {
            "text/html": [
              "<div>\n",
              "<style scoped>\n",
              "    .dataframe tbody tr th:only-of-type {\n",
              "        vertical-align: middle;\n",
              "    }\n",
              "\n",
              "    .dataframe tbody tr th {\n",
              "        vertical-align: top;\n",
              "    }\n",
              "\n",
              "    .dataframe thead th {\n",
              "        text-align: right;\n",
              "    }\n",
              "</style>\n",
              "<table border=\"1\" class=\"dataframe\">\n",
              "  <thead>\n",
              "    <tr style=\"text-align: right;\">\n",
              "      <th></th>\n",
              "      <th>product_id</th>\n",
              "      <th>vendor_id</th>\n",
              "      <th>vendor_geohash</th>\n",
              "      <th>product_name</th>\n",
              "      <th>product_description</th>\n",
              "      <th>order_count</th>\n",
              "    </tr>\n",
              "  </thead>\n",
              "  <tbody>\n",
              "    <tr>\n",
              "      <th>0</th>\n",
              "      <td>0</td>\n",
              "      <td>0</td>\n",
              "      <td>w21z6tu</td>\n",
              "      <td>Cheese Tofu</td>\n",
              "      <td>None</td>\n",
              "      <td>116</td>\n",
              "    </tr>\n",
              "    <tr>\n",
              "      <th>1</th>\n",
              "      <td>1</td>\n",
              "      <td>1</td>\n",
              "      <td>w21z74d</td>\n",
              "      <td>Naughty &amp; Nice - Slice</td>\n",
              "      <td>Chocolate - Slice</td>\n",
              "      <td>30</td>\n",
              "    </tr>\n",
              "    <tr>\n",
              "      <th>2</th>\n",
              "      <td>2</td>\n",
              "      <td>2</td>\n",
              "      <td>w21xxgu</td>\n",
              "      <td>301. Pork Dumpling with Hot Chilli Vinaigrette...</td>\n",
              "      <td>6 Pcs, spicy</td>\n",
              "      <td>25</td>\n",
              "    </tr>\n",
              "    <tr>\n",
              "      <th>3</th>\n",
              "      <td>3</td>\n",
              "      <td>3</td>\n",
              "      <td>w23b4u1</td>\n",
              "      <td>Mee Kuah</td>\n",
              "      <td>Contain minced mutton meat</td>\n",
              "      <td>45</td>\n",
              "    </tr>\n",
              "    <tr>\n",
              "      <th>4</th>\n",
              "      <td>4</td>\n",
              "      <td>4</td>\n",
              "      <td>w21ztq4</td>\n",
              "      <td>Ham &amp; Cheese Sandwich Set</td>\n",
              "      <td>Toasted to perfection, this sandwich hits all ...</td>\n",
              "      <td>24</td>\n",
              "    </tr>\n",
              "    <tr>\n",
              "      <th>...</th>\n",
              "      <td>...</td>\n",
              "      <td>...</td>\n",
              "      <td>...</td>\n",
              "      <td>...</td>\n",
              "      <td>...</td>\n",
              "      <td>...</td>\n",
              "    </tr>\n",
              "    <tr>\n",
              "      <th>633143</th>\n",
              "      <td>633143</td>\n",
              "      <td>701</td>\n",
              "      <td>w21zkpm</td>\n",
              "      <td>Sriracha Chicken Whole Wheat Pita</td>\n",
              "      <td>None</td>\n",
              "      <td>22</td>\n",
              "    </tr>\n",
              "    <tr>\n",
              "      <th>633144</th>\n",
              "      <td>633144</td>\n",
              "      <td>17</td>\n",
              "      <td>w23b5j9</td>\n",
              "      <td>Dettol Liquid Hand wash Sensitive 250ml</td>\n",
              "      <td>â€¢ Dettol Liquid Hand Wash kills 99.9% of ger...</td>\n",
              "      <td>22</td>\n",
              "    </tr>\n",
              "    <tr>\n",
              "      <th>633145</th>\n",
              "      <td>633145</td>\n",
              "      <td>4135</td>\n",
              "      <td>w21ztw0</td>\n",
              "      <td>Red Bean</td>\n",
              "      <td>4 Pcs</td>\n",
              "      <td>22</td>\n",
              "    </tr>\n",
              "    <tr>\n",
              "      <th>633146</th>\n",
              "      <td>633146</td>\n",
              "      <td>3121</td>\n",
              "      <td>w21z6vc</td>\n",
              "      <td>Twister Meal</td>\n",
              "      <td>Choice of 1 Twister, 1 Hash Brown and choice o...</td>\n",
              "      <td>22</td>\n",
              "    </tr>\n",
              "    <tr>\n",
              "      <th>633147</th>\n",
              "      <td>633147</td>\n",
              "      <td>2754</td>\n",
              "      <td>w21zu1v</td>\n",
              "      <td>Chocolate Croissant</td>\n",
              "      <td>None</td>\n",
              "      <td>22</td>\n",
              "    </tr>\n",
              "  </tbody>\n",
              "</table>\n",
              "<p>633148 rows × 6 columns</p>\n",
              "</div>"
            ],
            "text/plain": [
              "        product_id  ...  order_count\n",
              "0                0  ...          116\n",
              "1                1  ...           30\n",
              "2                2  ...           25\n",
              "3                3  ...           45\n",
              "4                4  ...           24\n",
              "...            ...  ...          ...\n",
              "633143      633143  ...           22\n",
              "633144      633144  ...           22\n",
              "633145      633145  ...           22\n",
              "633146      633146  ...           22\n",
              "633147      633147  ...           22\n",
              "\n",
              "[633148 rows x 6 columns]"
            ]
          },
          "metadata": {
            "tags": []
          },
          "execution_count": 4
        }
      ]
    },
    {
      "cell_type": "markdown",
      "metadata": {
        "id": "8VWjgLuiayQF"
      },
      "source": [
        "# look at target"
      ]
    },
    {
      "cell_type": "code",
      "metadata": {
        "colab": {
          "base_uri": "https://localhost:8080/"
        },
        "id": "cOKBPxc1a1yp",
        "outputId": "567d6167-232f-4f37-89ba-86e2572af197"
      },
      "source": [
        "products_all_raw_df[\"order_count\"].describe()"
      ],
      "execution_count": 5,
      "outputs": [
        {
          "output_type": "execute_result",
          "data": {
            "text/plain": [
              "count    633148.000000\n",
              "mean          9.482963\n",
              "std          24.025783\n",
              "min           1.000000\n",
              "25%           1.000000\n",
              "50%           3.000000\n",
              "75%           8.000000\n",
              "max        1386.000000\n",
              "Name: order_count, dtype: float64"
            ]
          },
          "metadata": {
            "tags": []
          },
          "execution_count": 5
        }
      ]
    },
    {
      "cell_type": "code",
      "metadata": {
        "colab": {
          "base_uri": "https://localhost:8080/",
          "height": 397
        },
        "id": "JEBqvpMUa3vd",
        "outputId": "382478e6-40f6-4df1-b868-b88a47bdb1b2"
      },
      "source": [
        "# plot the order count ecdf\n",
        "fig, ax = plt.subplots(1, 1, figsize = (20, 6))\n",
        "sns.ecdfplot(\n",
        "    data=products_all_raw_df,\n",
        "    x=\"order_count\",\n",
        "    ax=ax,\n",
        "    log_scale=True\n",
        ")\n",
        "ax.set_xticks([1, 10, 100, 1000, 1500])\n",
        "plt.show()"
      ],
      "execution_count": 6,
      "outputs": [
        {
          "output_type": "display_data",
          "data": {
            "image/png": "[encoded data removed]",
            "text/plain": [
              "<Figure size 1440x432 with 1 Axes>"
            ]
          },
          "metadata": {
            "tags": [],
            "needs_background": "light"
          }
        }
      ]
    },
    {
      "cell_type": "markdown",
      "metadata": {
        "id": "og34xRpFa51h"
      },
      "source": [
        "That is a target distribution we don't really want to see. Most orders are less than five and only a few orders have a significant number. We need to sample from more than just one month to make useful predictions."
      ]
    },
    {
      "cell_type": "markdown",
      "metadata": {
        "id": "C6TOOz-NZbcq"
      },
      "source": [
        "# data cleanup"
      ]
    },
    {
      "cell_type": "markdown",
      "metadata": {
        "id": "4VIliroYadBb"
      },
      "source": [
        "## train test split"
      ]
    },
    {
      "cell_type": "code",
      "metadata": {
        "id": "GaWnLFiOZgDG"
      },
      "source": [
        "# sample data for testing\n",
        "products_sample_raw_df = products_all_raw_df.copy() #sample(20000)"
      ],
      "execution_count": 7,
      "outputs": []
    },
    {
      "cell_type": "code",
      "metadata": {
        "id": "dy7u2CojZr-T"
      },
      "source": [
        "# train test split\n",
        "products_sample_raw_train_df, products_sample_raw_test_df = sklearn.model_selection.train_test_split(products_sample_raw_df, test_size=0.2)"
      ],
      "execution_count": 8,
      "outputs": []
    },
    {
      "cell_type": "markdown",
      "metadata": {
        "id": "nZjesnFjZd2I"
      },
      "source": [
        "## data normalization"
      ]
    },
    {
      "cell_type": "code",
      "metadata": {
        "id": "gcknsDK7Za18"
      },
      "source": [
        "# use these keys to normalize\n",
        "primary_keys = [\"product_id\", \"vendor_id\", \"vendor_geohash\"]"
      ],
      "execution_count": 9,
      "outputs": []
    },
    {
      "cell_type": "code",
      "metadata": {
        "id": "KFNEam9SZizR"
      },
      "source": [
        "# split into a more normalized form\n",
        "products_raw_df = products_sample_raw_train_df[primary_keys + [\"order_count\"]].copy()\n",
        "products_name_raw_df = products_sample_raw_train_df[primary_keys + [\"product_name\"]].copy().rename({\"product_name\": \"text\"}, axis=1)\n",
        "products_description_raw_df = products_sample_raw_train_df[primary_keys + [\"product_description\"]].copy().rename({\"product_description\": \"text\"}, axis=1)"
      ],
      "execution_count": 10,
      "outputs": []
    },
    {
      "cell_type": "markdown",
      "metadata": {
        "id": "x57pfIVjbMWn"
      },
      "source": [
        "## basic cleanup"
      ]
    },
    {
      "cell_type": "code",
      "metadata": {
        "id": "_WvuqwFcjHLI"
      },
      "source": [
        "products_df = products_raw_df.copy()\n",
        "products_name_df = products_name_raw_df.copy()\n",
        "products_description_df = products_description_raw_df.copy()"
      ],
      "execution_count": 11,
      "outputs": []
    },
    {
      "cell_type": "code",
      "metadata": {
        "id": "SS0mbHVfbOIH"
      },
      "source": [
        "# drop empty text\n",
        "products_name_df.dropna(inplace=True)\n",
        "products_description_df.dropna(inplace=True)\n",
        "\n",
        "# replace everything but basic chars for now\n",
        "products_name_df[\"text\"].replace(\"[^a-zA-Z0-9 ]\", \" \", inplace=True, regex=True)\n",
        "products_description_df[\"text\"].replace(\"[^a-zA-Z0-9 ]\", \" \", inplace=True, regex=True)\n",
        "\n",
        "# remove single and double characters\n",
        "products_name_df[\"text\"].replace(\"(^| ).( |$)\", \" \", inplace=True, regex=True)\n",
        "products_name_df[\"text\"].replace(\"(^| )..( |$)\", \" \", inplace=True, regex=True)\n",
        "products_description_df[\"text\"].replace(\"(^| ).( |$)\", \" \", inplace=True, regex=True)\n",
        "products_description_df[\"text\"].replace(\"(^| )..( |$)\", \" \", inplace=True, regex=True)\n",
        "\n",
        "# remove all double whitespaces\n",
        "products_name_df[\"text\"].replace(\"[ ]+\", \" \", inplace=True, regex=True)\n",
        "products_description_df[\"text\"].replace(\"[ ]+\", \" \", inplace=True, regex=True)\n",
        "\n",
        "# drop empty text\n",
        "products_name_df[\"text\"].replace(\"^[ ]+$\", \"\", inplace=True, regex=True)\n",
        "products_name_df = products_name_df[products_name_df[\"text\"] != \"\"]\n",
        "\n",
        "products_description_df[\"text\"].replace(\"^[ ]+$\", \"\", inplace=True, regex=True)\n",
        "products_description_df = products_description_df[products_description_df[\"text\"] != \"\"]"
      ],
      "execution_count": 12,
      "outputs": []
    },
    {
      "cell_type": "markdown",
      "metadata": {
        "id": "dD4k05ZiYOGh"
      },
      "source": [
        ""
      ]
    },
    {
      "cell_type": "code",
      "metadata": {
        "id": "Prl4tQnfbVZU"
      },
      "source": [
        "# to lower\n",
        "products_name_df[\"text\"] = products_name_df[\"text\"].str.lower()\n",
        "products_description_df[\"text\"] = products_description_df[\"text\"].str.lower()"
      ],
      "execution_count": 13,
      "outputs": []
    },
    {
      "cell_type": "code",
      "metadata": {
        "colab": {
          "base_uri": "https://localhost:8080/",
          "height": 419
        },
        "id": "tLFb0Px8bYtt",
        "outputId": "8aa5594b-de5c-4b72-fcdb-d683b743b274"
      },
      "source": [
        "products_name_df"
      ],
      "execution_count": 14,
      "outputs": [
        {
          "output_type": "execute_result",
          "data": {
            "text/html": [
              "<div>\n",
              "<style scoped>\n",
              "    .dataframe tbody tr th:only-of-type {\n",
              "        vertical-align: middle;\n",
              "    }\n",
              "\n",
              "    .dataframe tbody tr th {\n",
              "        vertical-align: top;\n",
              "    }\n",
              "\n",
              "    .dataframe thead th {\n",
              "        text-align: right;\n",
              "    }\n",
              "</style>\n",
              "<table border=\"1\" class=\"dataframe\">\n",
              "  <thead>\n",
              "    <tr style=\"text-align: right;\">\n",
              "      <th></th>\n",
              "      <th>product_id</th>\n",
              "      <th>vendor_id</th>\n",
              "      <th>vendor_geohash</th>\n",
              "      <th>text</th>\n",
              "    </tr>\n",
              "  </thead>\n",
              "  <tbody>\n",
              "    <tr>\n",
              "      <th>412979</th>\n",
              "      <td>412979</td>\n",
              "      <td>10303</td>\n",
              "      <td>w21zed3</td>\n",
              "      <td>sliced fish mian</td>\n",
              "    </tr>\n",
              "    <tr>\n",
              "      <th>331200</th>\n",
              "      <td>331200</td>\n",
              "      <td>1063</td>\n",
              "      <td>w21zetv</td>\n",
              "      <td>big mac</td>\n",
              "    </tr>\n",
              "    <tr>\n",
              "      <th>531398</th>\n",
              "      <td>531398</td>\n",
              "      <td>6648</td>\n",
              "      <td>w21z63v</td>\n",
              "      <td>chicken ham sub</td>\n",
              "    </tr>\n",
              "    <tr>\n",
              "      <th>232774</th>\n",
              "      <td>232774</td>\n",
              "      <td>1367</td>\n",
              "      <td>w21zc6u</td>\n",
              "      <td>16 dumpling soup</td>\n",
              "    </tr>\n",
              "    <tr>\n",
              "      <th>476988</th>\n",
              "      <td>476988</td>\n",
              "      <td>8749</td>\n",
              "      <td>w21z71p</td>\n",
              "      <td>taro pie</td>\n",
              "    </tr>\n",
              "    <tr>\n",
              "      <th>...</th>\n",
              "      <td>...</td>\n",
              "      <td>...</td>\n",
              "      <td>...</td>\n",
              "      <td>...</td>\n",
              "    </tr>\n",
              "    <tr>\n",
              "      <th>410370</th>\n",
              "      <td>410370</td>\n",
              "      <td>561</td>\n",
              "      <td>w21z7nq</td>\n",
              "      <td>pineapple juice</td>\n",
              "    </tr>\n",
              "    <tr>\n",
              "      <th>146735</th>\n",
              "      <td>146735</td>\n",
              "      <td>8326</td>\n",
              "      <td>w21ze4e</td>\n",
              "      <td>13122096 treats frozen rendang chicken baked g...</td>\n",
              "    </tr>\n",
              "    <tr>\n",
              "      <th>619301</th>\n",
              "      <td>619301</td>\n",
              "      <td>912</td>\n",
              "      <td>w23b1s5</td>\n",
              "      <td>box mcnuggets 6pc mcwings 4pc</td>\n",
              "    </tr>\n",
              "    <tr>\n",
              "      <th>613170</th>\n",
              "      <td>613170</td>\n",
              "      <td>10040</td>\n",
              "      <td>w21z7k2</td>\n",
              "      <td>tom yum chicken rice bowl</td>\n",
              "    </tr>\n",
              "    <tr>\n",
              "      <th>28963</th>\n",
              "      <td>28963</td>\n",
              "      <td>55</td>\n",
              "      <td>w21ze1r</td>\n",
              "      <td>pringles galaxy hot spicy potato chips 147g</td>\n",
              "    </tr>\n",
              "  </tbody>\n",
              "</table>\n",
              "<p>506419 rows × 4 columns</p>\n",
              "</div>"
            ],
            "text/plain": [
              "        product_id  ...                                               text\n",
              "412979      412979  ...                                   sliced fish mian\n",
              "331200      331200  ...                                           big mac \n",
              "531398      531398  ...                                    chicken ham sub\n",
              "232774      232774  ...                                   16 dumpling soup\n",
              "476988      476988  ...                                           taro pie\n",
              "...            ...  ...                                                ...\n",
              "410370      410370  ...                                    pineapple juice\n",
              "146735      146735  ...  13122096 treats frozen rendang chicken baked g...\n",
              "619301      619301  ...                     box mcnuggets 6pc mcwings 4pc \n",
              "613170      613170  ...                          tom yum chicken rice bowl\n",
              "28963        28963  ...        pringles galaxy hot spicy potato chips 147g\n",
              "\n",
              "[506419 rows x 4 columns]"
            ]
          },
          "metadata": {
            "tags": []
          },
          "execution_count": 14
        }
      ]
    },
    {
      "cell_type": "code",
      "metadata": {
        "colab": {
          "base_uri": "https://localhost:8080/",
          "height": 419
        },
        "id": "tI4yQgIPbZ60",
        "outputId": "b8f1671e-4207-4fb2-fee2-8011ab9630a0"
      },
      "source": [
        "products_description_df"
      ],
      "execution_count": 15,
      "outputs": [
        {
          "output_type": "execute_result",
          "data": {
            "text/html": [
              "<div>\n",
              "<style scoped>\n",
              "    .dataframe tbody tr th:only-of-type {\n",
              "        vertical-align: middle;\n",
              "    }\n",
              "\n",
              "    .dataframe tbody tr th {\n",
              "        vertical-align: top;\n",
              "    }\n",
              "\n",
              "    .dataframe thead th {\n",
              "        text-align: right;\n",
              "    }\n",
              "</style>\n",
              "<table border=\"1\" class=\"dataframe\">\n",
              "  <thead>\n",
              "    <tr style=\"text-align: right;\">\n",
              "      <th></th>\n",
              "      <th>product_id</th>\n",
              "      <th>vendor_id</th>\n",
              "      <th>vendor_geohash</th>\n",
              "      <th>text</th>\n",
              "    </tr>\n",
              "  </thead>\n",
              "  <tbody>\n",
              "    <tr>\n",
              "      <th>331200</th>\n",
              "      <td>331200</td>\n",
              "      <td>1063</td>\n",
              "      <td>w21zetv</td>\n",
              "      <td>just classic two all 100 beef patties special ...</td>\n",
              "    </tr>\n",
              "    <tr>\n",
              "      <th>531398</th>\n",
              "      <td>531398</td>\n",
              "      <td>6648</td>\n",
              "      <td>w21z63v</td>\n",
              "      <td>lean and tender sliced chicken ham with your c...</td>\n",
              "    </tr>\n",
              "    <tr>\n",
              "      <th>232774</th>\n",
              "      <td>232774</td>\n",
              "      <td>1367</td>\n",
              "      <td>w21zc6u</td>\n",
              "      <td>traditional dumplings steamy broth comforting ...</td>\n",
              "    </tr>\n",
              "    <tr>\n",
              "      <th>199400</th>\n",
              "      <td>199400</td>\n",
              "      <td>12611</td>\n",
              "      <td>w21ze02</td>\n",
              "      <td>smoked salmon overeasy egg mesclun salad avoca...</td>\n",
              "    </tr>\n",
              "    <tr>\n",
              "      <th>19473</th>\n",
              "      <td>19473</td>\n",
              "      <td>3309</td>\n",
              "      <td>w21ztq6</td>\n",
              "      <td>pcs</td>\n",
              "    </tr>\n",
              "    <tr>\n",
              "      <th>...</th>\n",
              "      <td>...</td>\n",
              "      <td>...</td>\n",
              "      <td>...</td>\n",
              "      <td>...</td>\n",
              "    </tr>\n",
              "    <tr>\n",
              "      <th>454183</th>\n",
              "      <td>454183</td>\n",
              "      <td>9364</td>\n",
              "      <td>w21zd1p</td>\n",
              "      <td>ramen inspired dish with fork tender kakuni br...</td>\n",
              "    </tr>\n",
              "    <tr>\n",
              "      <th>302821</th>\n",
              "      <td>302821</td>\n",
              "      <td>3929</td>\n",
              "      <td>w23bh0z</td>\n",
              "      <td>beef pepperoni cabanossi ground beef onions gr...</td>\n",
              "    </tr>\n",
              "    <tr>\n",
              "      <th>387889</th>\n",
              "      <td>387889</td>\n",
              "      <td>450</td>\n",
              "      <td>w21zezr</td>\n",
              "      <td>satisfy your burning desire for bites with tha...</td>\n",
              "    </tr>\n",
              "    <tr>\n",
              "      <th>619301</th>\n",
              "      <td>619301</td>\n",
              "      <td>912</td>\n",
              "      <td>w23b1s5</td>\n",
              "      <td>mcwings chicken mcnuggets now you don have cho...</td>\n",
              "    </tr>\n",
              "    <tr>\n",
              "      <th>613170</th>\n",
              "      <td>613170</td>\n",
              "      <td>10040</td>\n",
              "      <td>w21z7k2</td>\n",
              "      <td>fried chicken bites with tom yam sauce rice</td>\n",
              "    </tr>\n",
              "  </tbody>\n",
              "</table>\n",
              "<p>238899 rows × 4 columns</p>\n",
              "</div>"
            ],
            "text/plain": [
              "        product_id  ...                                               text\n",
              "331200      331200  ...  just classic two all 100 beef patties special ...\n",
              "531398      531398  ...  lean and tender sliced chicken ham with your c...\n",
              "232774      232774  ...  traditional dumplings steamy broth comforting ...\n",
              "199400      199400  ...  smoked salmon overeasy egg mesclun salad avoca...\n",
              "19473        19473  ...                                                pcs\n",
              "...            ...  ...                                                ...\n",
              "454183      454183  ...  ramen inspired dish with fork tender kakuni br...\n",
              "302821      302821  ...  beef pepperoni cabanossi ground beef onions gr...\n",
              "387889      387889  ...  satisfy your burning desire for bites with tha...\n",
              "619301      619301  ...  mcwings chicken mcnuggets now you don have cho...\n",
              "613170      613170  ...        fried chicken bites with tom yam sauce rice\n",
              "\n",
              "[238899 rows x 4 columns]"
            ]
          },
          "metadata": {
            "tags": []
          },
          "execution_count": 15
        }
      ]
    },
    {
      "cell_type": "markdown",
      "metadata": {
        "id": "iJNyvHVtbhVj"
      },
      "source": [
        "## tokenization and stemming"
      ]
    },
    {
      "cell_type": "code",
      "metadata": {
        "id": "ZaJX9n1ObbgV"
      },
      "source": [
        "products_name_token_df = products_name_df.copy()\n",
        "products_description_token_df = products_description_df.copy()"
      ],
      "execution_count": 16,
      "outputs": []
    },
    {
      "cell_type": "code",
      "metadata": {
        "id": "xb4Tb6SCbi_M"
      },
      "source": [
        "# tokenization\n",
        "products_name_token_df[\"text_tokens\"] = products_name_token_df[\"text\"].transform(nltk.word_tokenize)\n",
        "products_description_token_df[\"text_tokens\"] = products_description_token_df[\"text\"].apply(nltk.word_tokenize)"
      ],
      "execution_count": 17,
      "outputs": []
    },
    {
      "cell_type": "code",
      "metadata": {
        "id": "ZbPRgUckbkCV"
      },
      "source": [
        "# add a position index and explode\n",
        "products_name_token_df[\"idx\"] = 1\n",
        "products_name_token_df = products_name_token_df.explode(\"text_tokens\")\n",
        "products_name_token_df[\"idx\"] = products_name_token_df.groupby(primary_keys)[\"idx\"].cumsum()\n",
        "\n",
        "products_description_token_df[\"idx\"] = 1\n",
        "products_description_token_df = products_description_token_df.explode(\"text_tokens\")\n",
        "products_description_token_df[\"idx\"] = products_description_token_df.groupby(primary_keys)[\"idx\"].cumsum()"
      ],
      "execution_count": 18,
      "outputs": []
    },
    {
      "cell_type": "code",
      "metadata": {
        "id": "4IYgcLnQb2Ef"
      },
      "source": [
        "# stemming\n",
        "snowball = nltk.stem.SnowballStemmer(language=\"english\")\n",
        "products_name_token_df[\"text_tokens_stemmed\"] = products_name_token_df[\"text_tokens\"].apply(lambda x: snowball.stem(x))\n",
        "products_description_token_df[\"text_tokens_stemmed\"] = products_description_token_df[\"text_tokens\"].apply(lambda x: snowball.stem(x))"
      ],
      "execution_count": 19,
      "outputs": []
    },
    {
      "cell_type": "markdown",
      "metadata": {
        "id": "dpBaTJz9cbco"
      },
      "source": [
        "## filter english items"
      ]
    },
    {
      "cell_type": "markdown",
      "metadata": {
        "id": "8IFa-I3Hcenn"
      },
      "source": [
        "The general idea here is to count the fraction of english words in name and description and to use this in some way to filter english items."
      ]
    },
    {
      "cell_type": "markdown",
      "metadata": {
        "id": "XsKrGWNukdhs"
      },
      "source": [
        "### checking if tokens are english and couting etc."
      ]
    },
    {
      "cell_type": "code",
      "metadata": {
        "id": "Jwke6Y3scThb"
      },
      "source": [
        "# check if text_tokens are in words corpus\n",
        "words = nltk.corpus.words.words()\n",
        "products_name_token_df[\"is_english\"] = products_name_token_df[\"text_tokens\"].isin(words)\n",
        "products_description_token_df[\"is_english\"] = products_description_token_df[\"text_tokens\"].isin(words)"
      ],
      "execution_count": 20,
      "outputs": []
    },
    {
      "cell_type": "code",
      "metadata": {
        "id": "AFNr0kvycn0k"
      },
      "source": [
        "products_english_df = products_df.copy()\n",
        "\n",
        "# count english words and total words for product name\n",
        "products_english_df = products_english_df.merge(\n",
        "    products_name_token_df.groupby(primary_keys)[\"is_english\"].sum().reset_index().rename({\"is_english\": \"name_is_english\"}, axis=1), \n",
        "    on=primary_keys, \n",
        "    how=\"left\")\n",
        "products_english_df = products_english_df.merge(\n",
        "    products_name_token_df.groupby(primary_keys)[\"is_english\"].size().reset_index().rename({\"is_english\": \"name_n_words\"}, axis=1), \n",
        "    on=primary_keys, \n",
        "    how=\"left\")\n",
        "\n",
        "# count english words and total words for product description\n",
        "products_english_df = products_english_df.merge(\n",
        "    products_description_token_df.groupby(primary_keys)[\"is_english\"].sum().reset_index().rename({\"is_english\": \"description_is_english\"}, axis=1), \n",
        "    on=primary_keys, \n",
        "    how=\"left\")\n",
        "products_english_df = products_english_df.merge(\n",
        "    products_description_token_df.groupby(primary_keys)[\"is_english\"].size().reset_index().rename({\"is_english\": \"description_n_words\"}, axis=1), \n",
        "    on=primary_keys, \n",
        "    how=\"left\")\n",
        "\n",
        "# replace nans etc. from empty text and cast back to int\n",
        "for col in [\"name_is_english\", \"name_n_words\", \"description_is_english\", \"description_n_words\"]:\n",
        "    products_english_df[col] = products_english_df[col].replace(np.nan, 0).astype(int)"
      ],
      "execution_count": 21,
      "outputs": []
    },
    {
      "cell_type": "code",
      "metadata": {
        "id": "okTixn46cq1Y"
      },
      "source": [
        "# calculate the actual frequency = score\n",
        "products_english_df[\"total_is_english\"] = products_english_df[\"name_is_english\"] + products_english_df[\"description_is_english\"]\n",
        "products_english_df[\"total_n_words\"] = products_english_df[\"name_n_words\"] + products_english_df[\"description_n_words\"]\n",
        "products_english_df[\"english_score\"] = products_english_df[\"total_is_english\"] / products_english_df[\"total_n_words\"]"
      ],
      "execution_count": 22,
      "outputs": []
    },
    {
      "cell_type": "code",
      "metadata": {
        "id": "uye4FXklcr3k"
      },
      "source": [
        "# drop ones with no english score\n",
        "products_english_df = products_english_df[~products_english_df[\"english_score\"].isna()]"
      ],
      "execution_count": 23,
      "outputs": []
    },
    {
      "cell_type": "markdown",
      "metadata": {
        "id": "DU8ufrGNgrbx"
      },
      "source": [
        "### filter metric exploration"
      ]
    },
    {
      "cell_type": "code",
      "metadata": {
        "colab": {
          "base_uri": "https://localhost:8080/",
          "height": 393
        },
        "id": "pVZ_YSB-dPAa",
        "outputId": "1cf5de96-841d-40d2-ed81-76b5d9f4704a"
      },
      "source": [
        "# plot the english score ecdf\n",
        "fig, ax = plt.subplots(1, 1, figsize=(16,6))\n",
        "sns.ecdfplot(\n",
        "    data=products_english_df,\n",
        "    x=\"english_score\",\n",
        "    ax=ax\n",
        ")\n",
        "plt.show()"
      ],
      "execution_count": 24,
      "outputs": [
        {
          "output_type": "display_data",
          "data": {
            "image/png": "[encoded data removed]",
            "text/plain": [
              "<Figure size 1152x432 with 1 Axes>"
            ]
          },
          "metadata": {
            "tags": [],
            "needs_background": "light"
          }
        }
      ]
    },
    {
      "cell_type": "code",
      "metadata": {
        "colab": {
          "base_uri": "https://localhost:8080/",
          "height": 389
        },
        "id": "UCb90-vPfrGs",
        "outputId": "6f282b9d-da2f-4989-c5cd-af15e2e482fc"
      },
      "source": [
        "# plot the english score as a function of english words\n",
        "fig, ax = plt.subplots(1, 1, figsize=(16,6))\n",
        "sns.scatterplot(\n",
        "    data=products_english_df,\n",
        "    x=\"total_is_english\",\n",
        "    y=\"english_score\",\n",
        "    ax=ax\n",
        ")\n",
        "ax.set_xlim(0, 100)\n",
        "plt.show()"
      ],
      "execution_count": 25,
      "outputs": [
        {
          "output_type": "display_data",
          "data": {
            "image/png": "[encoded data removed]",
            "text/plain": [
              "<Figure size 1152x432 with 1 Axes>"
            ]
          },
          "metadata": {
            "tags": [],
            "needs_background": "light"
          }
        }
      ]
    },
    {
      "cell_type": "code",
      "metadata": {
        "colab": {
          "base_uri": "https://localhost:8080/",
          "height": 419
        },
        "id": "ep1-juEbd9yI",
        "outputId": "0db33aa2-f400-459d-8b98-f2d1d7820c08"
      },
      "source": [
        "products_sample_raw_train_df.merge(products_english_df[(products_english_df[\"english_score\"] > 0.2) & (products_english_df[\"english_score\"] < 0.3)][primary_keys], on=primary_keys, how=\"inner\")"
      ],
      "execution_count": 26,
      "outputs": [
        {
          "output_type": "execute_result",
          "data": {
            "text/html": [
              "<div>\n",
              "<style scoped>\n",
              "    .dataframe tbody tr th:only-of-type {\n",
              "        vertical-align: middle;\n",
              "    }\n",
              "\n",
              "    .dataframe tbody tr th {\n",
              "        vertical-align: top;\n",
              "    }\n",
              "\n",
              "    .dataframe thead th {\n",
              "        text-align: right;\n",
              "    }\n",
              "</style>\n",
              "<table border=\"1\" class=\"dataframe\">\n",
              "  <thead>\n",
              "    <tr style=\"text-align: right;\">\n",
              "      <th></th>\n",
              "      <th>product_id</th>\n",
              "      <th>vendor_id</th>\n",
              "      <th>vendor_geohash</th>\n",
              "      <th>product_name</th>\n",
              "      <th>product_description</th>\n",
              "      <th>order_count</th>\n",
              "    </tr>\n",
              "  </thead>\n",
              "  <tbody>\n",
              "    <tr>\n",
              "      <th>0</th>\n",
              "      <td>330523</td>\n",
              "      <td>8207</td>\n",
              "      <td>w21z9pj</td>\n",
              "      <td>SF YoMate Vanilla Yogurt 哟美香草酸奶 | 150 g</td>\n",
              "      <td>YoMate Vanilla Yogurt</td>\n",
              "      <td>2</td>\n",
              "    </tr>\n",
              "    <tr>\n",
              "      <th>1</th>\n",
              "      <td>583345</td>\n",
              "      <td>69</td>\n",
              "      <td>w21zv1d</td>\n",
              "      <td>Brown Brothers Moscato 750ml</td>\n",
              "      <td></td>\n",
              "      <td>13</td>\n",
              "    </tr>\n",
              "    <tr>\n",
              "      <th>2</th>\n",
              "      <td>95331</td>\n",
              "      <td>7738</td>\n",
              "      <td>w21ztrs</td>\n",
              "      <td>61747 Panadol Children's Suspension - Strawber...</td>\n",
              "      <td>None</td>\n",
              "      <td>1</td>\n",
              "    </tr>\n",
              "    <tr>\n",
              "      <th>3</th>\n",
              "      <td>197252</td>\n",
              "      <td>6000</td>\n",
              "      <td>w21z70g</td>\n",
              "      <td>SMIRNOFF RED 5CL (5007262)</td>\n",
              "      <td>None</td>\n",
              "      <td>1</td>\n",
              "    </tr>\n",
              "    <tr>\n",
              "      <th>4</th>\n",
              "      <td>82358</td>\n",
              "      <td>3194</td>\n",
              "      <td>w21zetg</td>\n",
              "      <td>R16. Nasi Udang Kunyit</td>\n",
              "      <td>None</td>\n",
              "      <td>1</td>\n",
              "    </tr>\n",
              "    <tr>\n",
              "      <th>...</th>\n",
              "      <td>...</td>\n",
              "      <td>...</td>\n",
              "      <td>...</td>\n",
              "      <td>...</td>\n",
              "      <td>...</td>\n",
              "      <td>...</td>\n",
              "    </tr>\n",
              "    <tr>\n",
              "      <th>9282</th>\n",
              "      <td>287641</td>\n",
              "      <td>323</td>\n",
              "      <td>w21zux7</td>\n",
              "      <td>DAYPLUS DBL CHOCOLATE (5000479) | 80 g</td>\n",
              "      <td>None</td>\n",
              "      <td>2</td>\n",
              "    </tr>\n",
              "    <tr>\n",
              "      <th>9283</th>\n",
              "      <td>16994</td>\n",
              "      <td>131</td>\n",
              "      <td>w23bhdd</td>\n",
              "      <td>Springfresh Siew Pak Choy 300g</td>\n",
              "      <td>Country of Origin: Malaysia</td>\n",
              "      <td>77</td>\n",
              "    </tr>\n",
              "    <tr>\n",
              "      <th>9284</th>\n",
              "      <td>448113</td>\n",
              "      <td>1453</td>\n",
              "      <td>w23b4u6</td>\n",
              "      <td>Mekajiki Sushi</td>\n",
              "      <td>2 Pcs, swordfish</td>\n",
              "      <td>5</td>\n",
              "    </tr>\n",
              "    <tr>\n",
              "      <th>9285</th>\n",
              "      <td>133495</td>\n",
              "      <td>7835</td>\n",
              "      <td>w21z63b</td>\n",
              "      <td>Viking Danish Camembert 125g | 125 piece</td>\n",
              "      <td>Danish Camembert 125g</td>\n",
              "      <td>1</td>\n",
              "    </tr>\n",
              "    <tr>\n",
              "      <th>9286</th>\n",
              "      <td>471553</td>\n",
              "      <td>7313</td>\n",
              "      <td>w21z836</td>\n",
              "      <td>Dry Bak Kut Teh 干闷特级肉骨茶</td>\n",
              "      <td>None</td>\n",
              "      <td>6</td>\n",
              "    </tr>\n",
              "  </tbody>\n",
              "</table>\n",
              "<p>9287 rows × 6 columns</p>\n",
              "</div>"
            ],
            "text/plain": [
              "      product_id  vendor_id  ...           product_description order_count\n",
              "0         330523       8207  ...         YoMate Vanilla Yogurt           2\n",
              "1         583345         69  ...                                        13\n",
              "2          95331       7738  ...                          None           1\n",
              "3         197252       6000  ...                          None           1\n",
              "4          82358       3194  ...                          None           1\n",
              "...          ...        ...  ...                           ...         ...\n",
              "9282      287641        323  ...                          None           2\n",
              "9283       16994        131  ...  Country of Origin: Malaysia           77\n",
              "9284      448113       1453  ...              2 Pcs, swordfish           5\n",
              "9285      133495       7835  ...         Danish Camembert 125g           1\n",
              "9286      471553       7313  ...                          None           6\n",
              "\n",
              "[9287 rows x 6 columns]"
            ]
          },
          "metadata": {
            "tags": []
          },
          "execution_count": 26
        }
      ]
    },
    {
      "cell_type": "code",
      "metadata": {
        "colab": {
          "base_uri": "https://localhost:8080/",
          "height": 419
        },
        "id": "b7IUTLh0dj2B",
        "outputId": "b0d93770-8cfb-4770-c609-43ac66639738"
      },
      "source": [
        "products_sample_raw_train_df.merge(products_english_df[(products_english_df[\"english_score\"] > 0.6) & (products_english_df[\"english_score\"] < 0.7)][primary_keys], on=primary_keys, how=\"inner\")"
      ],
      "execution_count": 27,
      "outputs": [
        {
          "output_type": "execute_result",
          "data": {
            "text/html": [
              "<div>\n",
              "<style scoped>\n",
              "    .dataframe tbody tr th:only-of-type {\n",
              "        vertical-align: middle;\n",
              "    }\n",
              "\n",
              "    .dataframe tbody tr th {\n",
              "        vertical-align: top;\n",
              "    }\n",
              "\n",
              "    .dataframe thead th {\n",
              "        text-align: right;\n",
              "    }\n",
              "</style>\n",
              "<table border=\"1\" class=\"dataframe\">\n",
              "  <thead>\n",
              "    <tr style=\"text-align: right;\">\n",
              "      <th></th>\n",
              "      <th>product_id</th>\n",
              "      <th>vendor_id</th>\n",
              "      <th>vendor_geohash</th>\n",
              "      <th>product_name</th>\n",
              "      <th>product_description</th>\n",
              "      <th>order_count</th>\n",
              "    </tr>\n",
              "  </thead>\n",
              "  <tbody>\n",
              "    <tr>\n",
              "      <th>0</th>\n",
              "      <td>407110</td>\n",
              "      <td>4137</td>\n",
              "      <td>w21z8zg</td>\n",
              "      <td>Ayataka Green Tea 绿茶</td>\n",
              "      <td>None</td>\n",
              "      <td>4</td>\n",
              "    </tr>\n",
              "    <tr>\n",
              "      <th>1</th>\n",
              "      <td>24071</td>\n",
              "      <td>63</td>\n",
              "      <td>w21z8uw</td>\n",
              "      <td>100Plus Isotonic Drink 1.5L</td>\n",
              "      <td></td>\n",
              "      <td>111</td>\n",
              "    </tr>\n",
              "    <tr>\n",
              "      <th>2</th>\n",
              "      <td>437331</td>\n",
              "      <td>2960</td>\n",
              "      <td>w21zs27</td>\n",
              "      <td>Lobster Salad Gunkan</td>\n",
              "      <td>None</td>\n",
              "      <td>5</td>\n",
              "    </tr>\n",
              "    <tr>\n",
              "      <th>3</th>\n",
              "      <td>445393</td>\n",
              "      <td>3656</td>\n",
              "      <td>w21zv4r</td>\n",
              "      <td>13179226 Coca Cola Original Taste - Less sugar...</td>\n",
              "      <td>None</td>\n",
              "      <td>5</td>\n",
              "    </tr>\n",
              "    <tr>\n",
              "      <th>4</th>\n",
              "      <td>337982</td>\n",
              "      <td>2812</td>\n",
              "      <td>w21z6uf</td>\n",
              "      <td>Veggie Deluxe Sub</td>\n",
              "      <td>None</td>\n",
              "      <td>3</td>\n",
              "    </tr>\n",
              "    <tr>\n",
              "      <th>...</th>\n",
              "      <td>...</td>\n",
              "      <td>...</td>\n",
              "      <td>...</td>\n",
              "      <td>...</td>\n",
              "      <td>...</td>\n",
              "      <td>...</td>\n",
              "    </tr>\n",
              "    <tr>\n",
              "      <th>71437</th>\n",
              "      <td>107075</td>\n",
              "      <td>10900</td>\n",
              "      <td>w23b1ww</td>\n",
              "      <td>Shredded Chicken Macaroni</td>\n",
              "      <td>None</td>\n",
              "      <td>1</td>\n",
              "    </tr>\n",
              "    <tr>\n",
              "      <th>71438</th>\n",
              "      <td>433223</td>\n",
              "      <td>5415</td>\n",
              "      <td>w21zwre</td>\n",
              "      <td>931. Shrimps Fried Rice with XO Sauce</td>\n",
              "      <td>None</td>\n",
              "      <td>4</td>\n",
              "    </tr>\n",
              "    <tr>\n",
              "      <th>71439</th>\n",
              "      <td>146735</td>\n",
              "      <td>8326</td>\n",
              "      <td>w21ze4e</td>\n",
              "      <td>13122096 Treats Frozen Rendang Chicken Baked G...</td>\n",
              "      <td>None</td>\n",
              "      <td>1</td>\n",
              "    </tr>\n",
              "    <tr>\n",
              "      <th>71440</th>\n",
              "      <td>619301</td>\n",
              "      <td>912</td>\n",
              "      <td>w23b1s5</td>\n",
              "      <td>Box B: McNuggets (6pc) + McWings (4pc)</td>\n",
              "      <td>McWings® or Chicken McNuggets®? Now you don’t ...</td>\n",
              "      <td>19</td>\n",
              "    </tr>\n",
              "    <tr>\n",
              "      <th>71441</th>\n",
              "      <td>613170</td>\n",
              "      <td>10040</td>\n",
              "      <td>w21z7k2</td>\n",
              "      <td>Tom Yum Chicken Rice Bowl</td>\n",
              "      <td>Fried chicken bites with tom yam sauce on rice</td>\n",
              "      <td>17</td>\n",
              "    </tr>\n",
              "  </tbody>\n",
              "</table>\n",
              "<p>71442 rows × 6 columns</p>\n",
              "</div>"
            ],
            "text/plain": [
              "       product_id  ...  order_count\n",
              "0          407110  ...            4\n",
              "1           24071  ...          111\n",
              "2          437331  ...            5\n",
              "3          445393  ...            5\n",
              "4          337982  ...            3\n",
              "...           ...  ...          ...\n",
              "71437      107075  ...            1\n",
              "71438      433223  ...            4\n",
              "71439      146735  ...            1\n",
              "71440      619301  ...           19\n",
              "71441      613170  ...           17\n",
              "\n",
              "[71442 rows x 6 columns]"
            ]
          },
          "metadata": {
            "tags": []
          },
          "execution_count": 27
        }
      ]
    },
    {
      "cell_type": "code",
      "metadata": {
        "colab": {
          "base_uri": "https://localhost:8080/",
          "height": 419
        },
        "id": "Tnxwr8rsg3um",
        "outputId": "1fdcb9d1-838d-427a-b0d2-85c7b4ef45f9"
      },
      "source": [
        "products_sample_raw_train_df.merge(products_english_df[products_english_df[\"total_is_english\"] == 0 ][primary_keys], on=primary_keys, how=\"inner\")"
      ],
      "execution_count": 28,
      "outputs": [
        {
          "output_type": "execute_result",
          "data": {
            "text/html": [
              "<div>\n",
              "<style scoped>\n",
              "    .dataframe tbody tr th:only-of-type {\n",
              "        vertical-align: middle;\n",
              "    }\n",
              "\n",
              "    .dataframe tbody tr th {\n",
              "        vertical-align: top;\n",
              "    }\n",
              "\n",
              "    .dataframe thead th {\n",
              "        text-align: right;\n",
              "    }\n",
              "</style>\n",
              "<table border=\"1\" class=\"dataframe\">\n",
              "  <thead>\n",
              "    <tr style=\"text-align: right;\">\n",
              "      <th></th>\n",
              "      <th>product_id</th>\n",
              "      <th>vendor_id</th>\n",
              "      <th>vendor_geohash</th>\n",
              "      <th>product_name</th>\n",
              "      <th>product_description</th>\n",
              "      <th>order_count</th>\n",
              "    </tr>\n",
              "  </thead>\n",
              "  <tbody>\n",
              "    <tr>\n",
              "      <th>0</th>\n",
              "      <td>19473</td>\n",
              "      <td>3309</td>\n",
              "      <td>w21ztq6</td>\n",
              "      <td>Chwee Kueh</td>\n",
              "      <td>4 Pcs</td>\n",
              "      <td>68</td>\n",
              "    </tr>\n",
              "    <tr>\n",
              "      <th>1</th>\n",
              "      <td>131537</td>\n",
              "      <td>5859</td>\n",
              "      <td>w21zg3c</td>\n",
              "      <td>Mee Goreng Pattaya Daging</td>\n",
              "      <td>None</td>\n",
              "      <td>1</td>\n",
              "    </tr>\n",
              "    <tr>\n",
              "      <th>2</th>\n",
              "      <td>201633</td>\n",
              "      <td>7145</td>\n",
              "      <td>w21z96w</td>\n",
              "      <td>Cookie (3 Pieces)</td>\n",
              "      <td>None</td>\n",
              "      <td>1</td>\n",
              "    </tr>\n",
              "    <tr>\n",
              "      <th>3</th>\n",
              "      <td>80259</td>\n",
              "      <td>3938</td>\n",
              "      <td>w23b1ux</td>\n",
              "      <td>Maggi Prata</td>\n",
              "      <td>None</td>\n",
              "      <td>1</td>\n",
              "    </tr>\n",
              "    <tr>\n",
              "      <th>4</th>\n",
              "      <td>302724</td>\n",
              "      <td>1306</td>\n",
              "      <td>w21z8gm</td>\n",
              "      <td>Maggi Goreng Ikan Bilis</td>\n",
              "      <td>None</td>\n",
              "      <td>2</td>\n",
              "    </tr>\n",
              "    <tr>\n",
              "      <th>...</th>\n",
              "      <td>...</td>\n",
              "      <td>...</td>\n",
              "      <td>...</td>\n",
              "      <td>...</td>\n",
              "      <td>...</td>\n",
              "      <td>...</td>\n",
              "    </tr>\n",
              "    <tr>\n",
              "      <th>19274</th>\n",
              "      <td>570622</td>\n",
              "      <td>3241</td>\n",
              "      <td>w21z8zh</td>\n",
              "      <td>Kueh Keria</td>\n",
              "      <td>None</td>\n",
              "      <td>11</td>\n",
              "    </tr>\n",
              "    <tr>\n",
              "      <th>19275</th>\n",
              "      <td>425446</td>\n",
              "      <td>6355</td>\n",
              "      <td>w21z8dy</td>\n",
              "      <td>Shizuoka Matcha Latte 静岡の抹茶拿铁</td>\n",
              "      <td>None</td>\n",
              "      <td>4</td>\n",
              "    </tr>\n",
              "    <tr>\n",
              "      <th>19276</th>\n",
              "      <td>300312</td>\n",
              "      <td>9069</td>\n",
              "      <td>w21zkpm</td>\n",
              "      <td>Cappuccino</td>\n",
              "      <td>None</td>\n",
              "      <td>2</td>\n",
              "    </tr>\n",
              "    <tr>\n",
              "      <th>19277</th>\n",
              "      <td>584855</td>\n",
              "      <td>5154</td>\n",
              "      <td>w23b610</td>\n",
              "      <td>Siew Mai</td>\n",
              "      <td>None</td>\n",
              "      <td>13</td>\n",
              "    </tr>\n",
              "    <tr>\n",
              "      <th>19278</th>\n",
              "      <td>522201</td>\n",
              "      <td>6680</td>\n",
              "      <td>w21zekc</td>\n",
              "      <td>N18. Mee Goreng</td>\n",
              "      <td>None</td>\n",
              "      <td>8</td>\n",
              "    </tr>\n",
              "  </tbody>\n",
              "</table>\n",
              "<p>19279 rows × 6 columns</p>\n",
              "</div>"
            ],
            "text/plain": [
              "       product_id  vendor_id  ... product_description order_count\n",
              "0           19473       3309  ...               4 Pcs          68\n",
              "1          131537       5859  ...                None           1\n",
              "2          201633       7145  ...                None           1\n",
              "3           80259       3938  ...                None           1\n",
              "4          302724       1306  ...                None           2\n",
              "...           ...        ...  ...                 ...         ...\n",
              "19274      570622       3241  ...                None          11\n",
              "19275      425446       6355  ...                None           4\n",
              "19276      300312       9069  ...                None           2\n",
              "19277      584855       5154  ...                None          13\n",
              "19278      522201       6680  ...                None           8\n",
              "\n",
              "[19279 rows x 6 columns]"
            ]
          },
          "metadata": {
            "tags": []
          },
          "execution_count": 28
        }
      ]
    },
    {
      "cell_type": "code",
      "metadata": {
        "colab": {
          "base_uri": "https://localhost:8080/",
          "height": 419
        },
        "id": "8gsGG3vhhbO6",
        "outputId": "ed82c577-3b1b-4db5-e7a0-8a2155ec9f29"
      },
      "source": [
        "products_sample_raw_train_df.merge(products_english_df[products_english_df[\"total_is_english\"] == 1][primary_keys], on=primary_keys, how=\"inner\")"
      ],
      "execution_count": 29,
      "outputs": [
        {
          "output_type": "execute_result",
          "data": {
            "text/html": [
              "<div>\n",
              "<style scoped>\n",
              "    .dataframe tbody tr th:only-of-type {\n",
              "        vertical-align: middle;\n",
              "    }\n",
              "\n",
              "    .dataframe tbody tr th {\n",
              "        vertical-align: top;\n",
              "    }\n",
              "\n",
              "    .dataframe thead th {\n",
              "        text-align: right;\n",
              "    }\n",
              "</style>\n",
              "<table border=\"1\" class=\"dataframe\">\n",
              "  <thead>\n",
              "    <tr style=\"text-align: right;\">\n",
              "      <th></th>\n",
              "      <th>product_id</th>\n",
              "      <th>vendor_id</th>\n",
              "      <th>vendor_geohash</th>\n",
              "      <th>product_name</th>\n",
              "      <th>product_description</th>\n",
              "      <th>order_count</th>\n",
              "    </tr>\n",
              "  </thead>\n",
              "  <tbody>\n",
              "    <tr>\n",
              "      <th>0</th>\n",
              "      <td>425321</td>\n",
              "      <td>2855</td>\n",
              "      <td>w21z75m</td>\n",
              "      <td>Carrot Halwa</td>\n",
              "      <td>None</td>\n",
              "      <td>4</td>\n",
              "    </tr>\n",
              "    <tr>\n",
              "      <th>1</th>\n",
              "      <td>210188</td>\n",
              "      <td>5849</td>\n",
              "      <td>w21ze3t</td>\n",
              "      <td>Smirnoff Red 40% 70cl</td>\n",
              "      <td>None</td>\n",
              "      <td>1</td>\n",
              "    </tr>\n",
              "    <tr>\n",
              "      <th>2</th>\n",
              "      <td>26444</td>\n",
              "      <td>1054</td>\n",
              "      <td>w21zuk4</td>\n",
              "      <td>25.Katsu Don 猪扒丼</td>\n",
              "      <td>None</td>\n",
              "      <td>30</td>\n",
              "    </tr>\n",
              "    <tr>\n",
              "      <th>3</th>\n",
              "      <td>561318</td>\n",
              "      <td>60</td>\n",
              "      <td>w21z6ey</td>\n",
              "      <td>Fish Briyani</td>\n",
              "      <td>None</td>\n",
              "      <td>11</td>\n",
              "    </tr>\n",
              "    <tr>\n",
              "      <th>4</th>\n",
              "      <td>622574</td>\n",
              "      <td>349</td>\n",
              "      <td>w23b1tq</td>\n",
              "      <td>Caramel Latte</td>\n",
              "      <td>None</td>\n",
              "      <td>20</td>\n",
              "    </tr>\n",
              "    <tr>\n",
              "      <th>...</th>\n",
              "      <td>...</td>\n",
              "      <td>...</td>\n",
              "      <td>...</td>\n",
              "      <td>...</td>\n",
              "      <td>...</td>\n",
              "      <td>...</td>\n",
              "    </tr>\n",
              "    <tr>\n",
              "      <th>57550</th>\n",
              "      <td>370034</td>\n",
              "      <td>3524</td>\n",
              "      <td>w21z7kv</td>\n",
              "      <td>Chicken Murtabak</td>\n",
              "      <td>None</td>\n",
              "      <td>3</td>\n",
              "    </tr>\n",
              "    <tr>\n",
              "      <th>57551</th>\n",
              "      <td>471553</td>\n",
              "      <td>7313</td>\n",
              "      <td>w21z836</td>\n",
              "      <td>Dry Bak Kut Teh 干闷特级肉骨茶</td>\n",
              "      <td>None</td>\n",
              "      <td>6</td>\n",
              "    </tr>\n",
              "    <tr>\n",
              "      <th>57552</th>\n",
              "      <td>287937</td>\n",
              "      <td>4131</td>\n",
              "      <td>w21z8tp</td>\n",
              "      <td>Hui Fan 烩饭</td>\n",
              "      <td>None</td>\n",
              "      <td>2</td>\n",
              "    </tr>\n",
              "    <tr>\n",
              "      <th>57553</th>\n",
              "      <td>579372</td>\n",
              "      <td>659</td>\n",
              "      <td>w21z7qd</td>\n",
              "      <td>Chicken Quesadilla</td>\n",
              "      <td>None</td>\n",
              "      <td>12</td>\n",
              "    </tr>\n",
              "    <tr>\n",
              "      <th>57554</th>\n",
              "      <td>239255</td>\n",
              "      <td>323</td>\n",
              "      <td>w21zux7</td>\n",
              "      <td>NESCAFE ICED CAPPUCCINO (5007162) | 500 ml</td>\n",
              "      <td>None</td>\n",
              "      <td>2</td>\n",
              "    </tr>\n",
              "  </tbody>\n",
              "</table>\n",
              "<p>57555 rows × 6 columns</p>\n",
              "</div>"
            ],
            "text/plain": [
              "       product_id  vendor_id  ... product_description order_count\n",
              "0          425321       2855  ...                None           4\n",
              "1          210188       5849  ...                None           1\n",
              "2           26444       1054  ...                None          30\n",
              "3          561318         60  ...                None          11\n",
              "4          622574        349  ...                None          20\n",
              "...           ...        ...  ...                 ...         ...\n",
              "57550      370034       3524  ...                None           3\n",
              "57551      471553       7313  ...                None           6\n",
              "57552      287937       4131  ...                None           2\n",
              "57553      579372        659  ...                None          12\n",
              "57554      239255        323  ...                None           2\n",
              "\n",
              "[57555 rows x 6 columns]"
            ]
          },
          "metadata": {
            "tags": []
          },
          "execution_count": 29
        }
      ]
    },
    {
      "cell_type": "code",
      "metadata": {
        "colab": {
          "base_uri": "https://localhost:8080/",
          "height": 419
        },
        "id": "CA8UnXEyhDfZ",
        "outputId": "fd987e07-9ea5-4b6a-c884-b9aca240bccb"
      },
      "source": [
        "products_sample_raw_train_df.merge(products_english_df[products_english_df[\"total_is_english\"] == 2][primary_keys], on=primary_keys, how=\"inner\")"
      ],
      "execution_count": 30,
      "outputs": [
        {
          "output_type": "execute_result",
          "data": {
            "text/html": [
              "<div>\n",
              "<style scoped>\n",
              "    .dataframe tbody tr th:only-of-type {\n",
              "        vertical-align: middle;\n",
              "    }\n",
              "\n",
              "    .dataframe tbody tr th {\n",
              "        vertical-align: top;\n",
              "    }\n",
              "\n",
              "    .dataframe thead th {\n",
              "        text-align: right;\n",
              "    }\n",
              "</style>\n",
              "<table border=\"1\" class=\"dataframe\">\n",
              "  <thead>\n",
              "    <tr style=\"text-align: right;\">\n",
              "      <th></th>\n",
              "      <th>product_id</th>\n",
              "      <th>vendor_id</th>\n",
              "      <th>vendor_geohash</th>\n",
              "      <th>product_name</th>\n",
              "      <th>product_description</th>\n",
              "      <th>order_count</th>\n",
              "    </tr>\n",
              "  </thead>\n",
              "  <tbody>\n",
              "    <tr>\n",
              "      <th>0</th>\n",
              "      <td>476988</td>\n",
              "      <td>8749</td>\n",
              "      <td>w21z71p</td>\n",
              "      <td>Taro Pie</td>\n",
              "      <td>None</td>\n",
              "      <td>6</td>\n",
              "    </tr>\n",
              "    <tr>\n",
              "      <th>1</th>\n",
              "      <td>480114</td>\n",
              "      <td>482</td>\n",
              "      <td>w21z6v7</td>\n",
              "      <td>Tamago Maki</td>\n",
              "      <td>6 Pcs, omelette</td>\n",
              "      <td>6</td>\n",
              "    </tr>\n",
              "    <tr>\n",
              "      <th>2</th>\n",
              "      <td>407110</td>\n",
              "      <td>4137</td>\n",
              "      <td>w21z8zg</td>\n",
              "      <td>Ayataka Green Tea 绿茶</td>\n",
              "      <td>None</td>\n",
              "      <td>4</td>\n",
              "    </tr>\n",
              "    <tr>\n",
              "      <th>3</th>\n",
              "      <td>24071</td>\n",
              "      <td>63</td>\n",
              "      <td>w21z8uw</td>\n",
              "      <td>100Plus Isotonic Drink 1.5L</td>\n",
              "      <td></td>\n",
              "      <td>111</td>\n",
              "    </tr>\n",
              "    <tr>\n",
              "      <th>4</th>\n",
              "      <td>437331</td>\n",
              "      <td>2960</td>\n",
              "      <td>w21zs27</td>\n",
              "      <td>Lobster Salad Gunkan</td>\n",
              "      <td>None</td>\n",
              "      <td>5</td>\n",
              "    </tr>\n",
              "    <tr>\n",
              "      <th>...</th>\n",
              "      <td>...</td>\n",
              "      <td>...</td>\n",
              "      <td>...</td>\n",
              "      <td>...</td>\n",
              "      <td>...</td>\n",
              "      <td>...</td>\n",
              "    </tr>\n",
              "    <tr>\n",
              "      <th>80659</th>\n",
              "      <td>540624</td>\n",
              "      <td>2063</td>\n",
              "      <td>w21z7zj</td>\n",
              "      <td>Spring Roll 春卷</td>\n",
              "      <td>None</td>\n",
              "      <td>9</td>\n",
              "    </tr>\n",
              "    <tr>\n",
              "      <th>80660</th>\n",
              "      <td>107075</td>\n",
              "      <td>10900</td>\n",
              "      <td>w23b1ww</td>\n",
              "      <td>Shredded Chicken Macaroni</td>\n",
              "      <td>None</td>\n",
              "      <td>1</td>\n",
              "    </tr>\n",
              "    <tr>\n",
              "      <th>80661</th>\n",
              "      <td>312308</td>\n",
              "      <td>5255</td>\n",
              "      <td>w21ze4s</td>\n",
              "      <td>CheezHO Jing Syuan Tea</td>\n",
              "      <td>None</td>\n",
              "      <td>2</td>\n",
              "    </tr>\n",
              "    <tr>\n",
              "      <th>80662</th>\n",
              "      <td>373426</td>\n",
              "      <td>2869</td>\n",
              "      <td>w21z8zk</td>\n",
              "      <td>Coffee Pau 咖啡包</td>\n",
              "      <td>1 Pc 1粒</td>\n",
              "      <td>3</td>\n",
              "    </tr>\n",
              "    <tr>\n",
              "      <th>80663</th>\n",
              "      <td>410370</td>\n",
              "      <td>561</td>\n",
              "      <td>w21z7nq</td>\n",
              "      <td>Pineapple Juice</td>\n",
              "      <td>None</td>\n",
              "      <td>4</td>\n",
              "    </tr>\n",
              "  </tbody>\n",
              "</table>\n",
              "<p>80664 rows × 6 columns</p>\n",
              "</div>"
            ],
            "text/plain": [
              "       product_id  vendor_id  ... product_description order_count\n",
              "0          476988       8749  ...                None           6\n",
              "1          480114        482  ...     6 Pcs, omelette           6\n",
              "2          407110       4137  ...                None           4\n",
              "3           24071         63  ...                             111\n",
              "4          437331       2960  ...                None           5\n",
              "...           ...        ...  ...                 ...         ...\n",
              "80659      540624       2063  ...                None           9\n",
              "80660      107075      10900  ...                None           1\n",
              "80661      312308       5255  ...                None           2\n",
              "80662      373426       2869  ...             1 Pc 1粒           3\n",
              "80663      410370        561  ...                None           4\n",
              "\n",
              "[80664 rows x 6 columns]"
            ]
          },
          "metadata": {
            "tags": []
          },
          "execution_count": 30
        }
      ]
    },
    {
      "cell_type": "code",
      "metadata": {
        "colab": {
          "base_uri": "https://localhost:8080/",
          "height": 419
        },
        "id": "7U2W8tyWhEnw",
        "outputId": "0b9b06e8-8b76-4198-e38b-e15aed371bbb"
      },
      "source": [
        "products_sample_raw_train_df.merge(products_english_df[products_english_df[\"total_is_english\"] == 3][primary_keys], on=primary_keys, how=\"inner\")"
      ],
      "execution_count": 31,
      "outputs": [
        {
          "output_type": "execute_result",
          "data": {
            "text/html": [
              "<div>\n",
              "<style scoped>\n",
              "    .dataframe tbody tr th:only-of-type {\n",
              "        vertical-align: middle;\n",
              "    }\n",
              "\n",
              "    .dataframe tbody tr th {\n",
              "        vertical-align: top;\n",
              "    }\n",
              "\n",
              "    .dataframe thead th {\n",
              "        text-align: right;\n",
              "    }\n",
              "</style>\n",
              "<table border=\"1\" class=\"dataframe\">\n",
              "  <thead>\n",
              "    <tr style=\"text-align: right;\">\n",
              "      <th></th>\n",
              "      <th>product_id</th>\n",
              "      <th>vendor_id</th>\n",
              "      <th>vendor_geohash</th>\n",
              "      <th>product_name</th>\n",
              "      <th>product_description</th>\n",
              "      <th>order_count</th>\n",
              "    </tr>\n",
              "  </thead>\n",
              "  <tbody>\n",
              "    <tr>\n",
              "      <th>0</th>\n",
              "      <td>412979</td>\n",
              "      <td>10303</td>\n",
              "      <td>w21zed3</td>\n",
              "      <td>Sliced Fish U Mian</td>\n",
              "      <td>None</td>\n",
              "      <td>4</td>\n",
              "    </tr>\n",
              "    <tr>\n",
              "      <th>1</th>\n",
              "      <td>620062</td>\n",
              "      <td>1123</td>\n",
              "      <td>w21ze2c</td>\n",
              "      <td>Sour &amp; Spicy Noodle 酸辣面</td>\n",
              "      <td>None</td>\n",
              "      <td>19</td>\n",
              "    </tr>\n",
              "    <tr>\n",
              "      <th>2</th>\n",
              "      <td>334320</td>\n",
              "      <td>7937</td>\n",
              "      <td>w21zg81</td>\n",
              "      <td>NBJ06 Netflix &amp; Chilll'd Pint X 1 | \\nChip Hap...</td>\n",
              "      <td>None</td>\n",
              "      <td>3</td>\n",
              "    </tr>\n",
              "    <tr>\n",
              "      <th>3</th>\n",
              "      <td>383495</td>\n",
              "      <td>6685</td>\n",
              "      <td>w21zew6</td>\n",
              "      <td>Old Monk Rum | 180 ml</td>\n",
              "      <td>None</td>\n",
              "      <td>3</td>\n",
              "    </tr>\n",
              "    <tr>\n",
              "      <th>4</th>\n",
              "      <td>566844</td>\n",
              "      <td>604</td>\n",
              "      <td>w21zscp</td>\n",
              "      <td>Blueberry Green Tea</td>\n",
              "      <td>None</td>\n",
              "      <td>11</td>\n",
              "    </tr>\n",
              "    <tr>\n",
              "      <th>...</th>\n",
              "      <td>...</td>\n",
              "      <td>...</td>\n",
              "      <td>...</td>\n",
              "      <td>...</td>\n",
              "      <td>...</td>\n",
              "      <td>...</td>\n",
              "    </tr>\n",
              "    <tr>\n",
              "      <th>70486</th>\n",
              "      <td>316163</td>\n",
              "      <td>5945</td>\n",
              "      <td>w21z6zd</td>\n",
              "      <td>GLACEAU VITAMIN WATER RESTORE (5007011) | 500 ml</td>\n",
              "      <td>None</td>\n",
              "      <td>2</td>\n",
              "    </tr>\n",
              "    <tr>\n",
              "      <th>70487</th>\n",
              "      <td>453633</td>\n",
              "      <td>5497</td>\n",
              "      <td>w21z3nh</td>\n",
              "      <td>10989836 Anchor Can Beer 320ml x 6's</td>\n",
              "      <td>None</td>\n",
              "      <td>5</td>\n",
              "    </tr>\n",
              "    <tr>\n",
              "      <th>70488</th>\n",
              "      <td>493470</td>\n",
              "      <td>2057</td>\n",
              "      <td>w21ztrn</td>\n",
              "      <td>P6. Ham &amp; Mushroom Spaghetti</td>\n",
              "      <td>None</td>\n",
              "      <td>6</td>\n",
              "    </tr>\n",
              "    <tr>\n",
              "      <th>70489</th>\n",
              "      <td>421340</td>\n",
              "      <td>1780</td>\n",
              "      <td>w21z3yu</td>\n",
              "      <td>Pop Corn Chicken</td>\n",
              "      <td>None</td>\n",
              "      <td>4</td>\n",
              "    </tr>\n",
              "    <tr>\n",
              "      <th>70490</th>\n",
              "      <td>370092</td>\n",
              "      <td>7922</td>\n",
              "      <td>w21z7hp</td>\n",
              "      <td>458564 Farmhouse Milk - Fresh (1 litre)</td>\n",
              "      <td>None</td>\n",
              "      <td>3</td>\n",
              "    </tr>\n",
              "  </tbody>\n",
              "</table>\n",
              "<p>70491 rows × 6 columns</p>\n",
              "</div>"
            ],
            "text/plain": [
              "       product_id  vendor_id  ... product_description order_count\n",
              "0          412979      10303  ...                None           4\n",
              "1          620062       1123  ...                None          19\n",
              "2          334320       7937  ...                None           3\n",
              "3          383495       6685  ...                None           3\n",
              "4          566844        604  ...                None          11\n",
              "...           ...        ...  ...                 ...         ...\n",
              "70486      316163       5945  ...                None           2\n",
              "70487      453633       5497  ...                None           5\n",
              "70488      493470       2057  ...                None           6\n",
              "70489      421340       1780  ...                None           4\n",
              "70490      370092       7922  ...                None           3\n",
              "\n",
              "[70491 rows x 6 columns]"
            ]
          },
          "metadata": {
            "tags": []
          },
          "execution_count": 31
        }
      ]
    },
    {
      "cell_type": "markdown",
      "metadata": {
        "id": "Z7yRuY0AgxZZ"
      },
      "source": [
        "### actual filtering"
      ]
    },
    {
      "cell_type": "code",
      "metadata": {
        "id": "JlbX9ABVdTUq"
      },
      "source": [
        "products_english_filtered_df = products_english_df.copy()\n",
        "products_english_filtered_df = products_english_filtered_df[products_english_filtered_df[\"total_is_english\"] > 0]"
      ],
      "execution_count": 32,
      "outputs": []
    },
    {
      "cell_type": "code",
      "metadata": {
        "colab": {
          "base_uri": "https://localhost:8080/"
        },
        "id": "Hl285_5ziuU8",
        "outputId": "ca4fdfbb-8d30-4f6b-eb64-281537499df9"
      },
      "source": [
        "len(products_df), len(products_english_filtered_df)"
      ],
      "execution_count": 33,
      "outputs": [
        {
          "output_type": "execute_result",
          "data": {
            "text/plain": [
              "(506518, 487168)"
            ]
          },
          "metadata": {
            "tags": []
          },
          "execution_count": 33
        }
      ]
    },
    {
      "cell_type": "markdown",
      "metadata": {
        "id": "mhVW3PuMh48q"
      },
      "source": [
        "# cleanup verdict\n",
        "Obviously we could improve our cleanup and subsequent filtering by a lot.\n",
        "\n",
        "* better character level cleaning\n",
        "* better dictionary (also include more culinary terms like croissant, alfredo, pepsi, some basic chinese dishes, etc.)\n",
        "* english filtering is now only done by number of english words, but other metrics could be better (like and improved version of the english score I tried)\n",
        "\n",
        "For now it seems to be good enough."
      ]
    },
    {
      "cell_type": "markdown",
      "metadata": {
        "id": "31YgTSB3lzWG"
      },
      "source": [
        "# doc2vec embedding"
      ]
    },
    {
      "cell_type": "code",
      "metadata": {
        "id": "VouV0P3PiUD4"
      },
      "source": [
        ""
      ],
      "execution_count": 33,
      "outputs": []
    }
  ]
}