{
  "nbformat": 4,
  "nbformat_minor": 0,
  "metadata": {
    "colab": {
      "name": "vendor_challenge.ipynb",
      "provenance": [],
      "collapsed_sections": [],
      "authorship_tag": "ABX9TyNPbPkgMsdmQXU4CJ5HyLiA",
      "include_colab_link": true
    },
    "kernelspec": {
      "name": "python3",
      "display_name": "Python 3"
    },
    "language_info": {
      "name": "python"
    }
  },
  "cells": [
    {
      "cell_type": "markdown",
      "metadata": {
        "id": "view-in-github",
        "colab_type": "text"
      },
      "source": [
        "<a href=\"https://colab.research.google.com/github/azz2k/vendor_challenge/blob/main/vendor_challenge.ipynb\" target=\"_parent\"><img src=\"https://colab.research.google.com/assets/colab-badge.svg\" alt=\"Open In Colab\"/></a>"
      ]
    },
    {
      "cell_type": "markdown",
      "metadata": {
        "id": "jy_C-pi4YPm3"
      },
      "source": [
        "# Introduction\n",
        "* To make my life easier I will remove everything but [a-zA-Z0-9] and whitespaces\n",
        "* For now I will use a bag-of-words approach as I have limited time"
      ]
    },
    {
      "cell_type": "markdown",
      "metadata": {
        "id": "ZoUyLyRLYUKT"
      },
      "source": [
        "# libraries, constants, etc."
      ]
    },
    {
      "cell_type": "code",
      "metadata": {
        "id": "Huk1EMxUXvZk"
      },
      "source": [
        "from google.colab import drive\n",
        "\n",
        "import pandas as pd\n",
        "import numpy as np\n",
        "import sklearn.model_selection\n",
        "\n",
        "import seaborn as sns\n",
        "from matplotlib import pyplot as plt\n",
        "\n",
        "import nltk"
      ],
      "execution_count": 16,
      "outputs": []
    },
    {
      "cell_type": "markdown",
      "metadata": {
        "id": "mYnjQDTrYYHC"
      },
      "source": [
        "This should later be put into: requirements installations (in separate requirements file)"
      ]
    },
    {
      "cell_type": "markdown",
      "metadata": {
        "id": "u3gGyr5-YbY8"
      },
      "source": [
        "# read data\n"
      ]
    },
    {
      "cell_type": "code",
      "metadata": {
        "colab": {
          "base_uri": "https://localhost:8080/"
        },
        "id": "h_t4ynxIYYpN",
        "outputId": "0e9a2e4c-c9ad-49b2-a892-dc8e9841702c"
      },
      "source": [
        "# mount google drive\n",
        "drive.mount(\"/content/drive\")"
      ],
      "execution_count": 2,
      "outputs": [
        {
          "output_type": "stream",
          "text": [
            "Mounted at /content/drive\n"
          ],
          "name": "stdout"
        }
      ]
    },
    {
      "cell_type": "code",
      "metadata": {
        "colab": {
          "base_uri": "https://localhost:8080/",
          "height": 419
        },
        "id": "QTUcF40uZBLr",
        "outputId": "89db2d48-65de-45b1-8c58-5531cd1f7a30"
      },
      "source": [
        "products_raw_df = pd.read_parquet(\"/content/drive/MyDrive/Data Science/products.parquet.gz\")\n",
        "products_raw_df"
      ],
      "execution_count": 9,
      "outputs": [
        {
          "output_type": "execute_result",
          "data": {
            "text/html": [
              "<div>\n",
              "<style scoped>\n",
              "    .dataframe tbody tr th:only-of-type {\n",
              "        vertical-align: middle;\n",
              "    }\n",
              "\n",
              "    .dataframe tbody tr th {\n",
              "        vertical-align: top;\n",
              "    }\n",
              "\n",
              "    .dataframe thead th {\n",
              "        text-align: right;\n",
              "    }\n",
              "</style>\n",
              "<table border=\"1\" class=\"dataframe\">\n",
              "  <thead>\n",
              "    <tr style=\"text-align: right;\">\n",
              "      <th></th>\n",
              "      <th>product_id</th>\n",
              "      <th>vendor_id</th>\n",
              "      <th>vendor_geohash</th>\n",
              "      <th>product_name</th>\n",
              "      <th>product_description</th>\n",
              "      <th>order_count</th>\n",
              "    </tr>\n",
              "  </thead>\n",
              "  <tbody>\n",
              "    <tr>\n",
              "      <th>0</th>\n",
              "      <td>0</td>\n",
              "      <td>0</td>\n",
              "      <td>w21z6tu</td>\n",
              "      <td>Cheese Tofu</td>\n",
              "      <td>None</td>\n",
              "      <td>116</td>\n",
              "    </tr>\n",
              "    <tr>\n",
              "      <th>1</th>\n",
              "      <td>1</td>\n",
              "      <td>1</td>\n",
              "      <td>w21z74d</td>\n",
              "      <td>Naughty &amp; Nice - Slice</td>\n",
              "      <td>Chocolate - Slice</td>\n",
              "      <td>30</td>\n",
              "    </tr>\n",
              "    <tr>\n",
              "      <th>2</th>\n",
              "      <td>2</td>\n",
              "      <td>2</td>\n",
              "      <td>w21xxgu</td>\n",
              "      <td>301. Pork Dumpling with Hot Chilli Vinaigrette...</td>\n",
              "      <td>6 Pcs, spicy</td>\n",
              "      <td>25</td>\n",
              "    </tr>\n",
              "    <tr>\n",
              "      <th>3</th>\n",
              "      <td>3</td>\n",
              "      <td>3</td>\n",
              "      <td>w23b4u1</td>\n",
              "      <td>Mee Kuah</td>\n",
              "      <td>Contain minced mutton meat</td>\n",
              "      <td>45</td>\n",
              "    </tr>\n",
              "    <tr>\n",
              "      <th>4</th>\n",
              "      <td>4</td>\n",
              "      <td>4</td>\n",
              "      <td>w21ztq4</td>\n",
              "      <td>Ham &amp; Cheese Sandwich Set</td>\n",
              "      <td>Toasted to perfection, this sandwich hits all ...</td>\n",
              "      <td>24</td>\n",
              "    </tr>\n",
              "    <tr>\n",
              "      <th>...</th>\n",
              "      <td>...</td>\n",
              "      <td>...</td>\n",
              "      <td>...</td>\n",
              "      <td>...</td>\n",
              "      <td>...</td>\n",
              "      <td>...</td>\n",
              "    </tr>\n",
              "    <tr>\n",
              "      <th>633143</th>\n",
              "      <td>633143</td>\n",
              "      <td>701</td>\n",
              "      <td>w21zkpm</td>\n",
              "      <td>Sriracha Chicken Whole Wheat Pita</td>\n",
              "      <td>None</td>\n",
              "      <td>22</td>\n",
              "    </tr>\n",
              "    <tr>\n",
              "      <th>633144</th>\n",
              "      <td>633144</td>\n",
              "      <td>17</td>\n",
              "      <td>w23b5j9</td>\n",
              "      <td>Dettol Liquid Hand wash Sensitive 250ml</td>\n",
              "      <td>â€¢ Dettol Liquid Hand Wash kills 99.9% of ger...</td>\n",
              "      <td>22</td>\n",
              "    </tr>\n",
              "    <tr>\n",
              "      <th>633145</th>\n",
              "      <td>633145</td>\n",
              "      <td>4135</td>\n",
              "      <td>w21ztw0</td>\n",
              "      <td>Red Bean</td>\n",
              "      <td>4 Pcs</td>\n",
              "      <td>22</td>\n",
              "    </tr>\n",
              "    <tr>\n",
              "      <th>633146</th>\n",
              "      <td>633146</td>\n",
              "      <td>3121</td>\n",
              "      <td>w21z6vc</td>\n",
              "      <td>Twister Meal</td>\n",
              "      <td>Choice of 1 Twister, 1 Hash Brown and choice o...</td>\n",
              "      <td>22</td>\n",
              "    </tr>\n",
              "    <tr>\n",
              "      <th>633147</th>\n",
              "      <td>633147</td>\n",
              "      <td>2754</td>\n",
              "      <td>w21zu1v</td>\n",
              "      <td>Chocolate Croissant</td>\n",
              "      <td>None</td>\n",
              "      <td>22</td>\n",
              "    </tr>\n",
              "  </tbody>\n",
              "</table>\n",
              "<p>633148 rows × 6 columns</p>\n",
              "</div>"
            ],
            "text/plain": [
              "        product_id  ...  order_count\n",
              "0                0  ...          116\n",
              "1                1  ...           30\n",
              "2                2  ...           25\n",
              "3                3  ...           45\n",
              "4                4  ...           24\n",
              "...            ...  ...          ...\n",
              "633143      633143  ...           22\n",
              "633144      633144  ...           22\n",
              "633145      633145  ...           22\n",
              "633146      633146  ...           22\n",
              "633147      633147  ...           22\n",
              "\n",
              "[633148 rows x 6 columns]"
            ]
          },
          "metadata": {
            "tags": []
          },
          "execution_count": 9
        }
      ]
    },
    {
      "cell_type": "markdown",
      "metadata": {
        "id": "C6TOOz-NZbcq"
      },
      "source": [
        "# data cleanup"
      ]
    },
    {
      "cell_type": "markdown",
      "metadata": {
        "id": "4VIliroYadBb"
      },
      "source": [
        "## train test split"
      ]
    },
    {
      "cell_type": "code",
      "metadata": {
        "id": "GaWnLFiOZgDG"
      },
      "source": [
        "# sample data for testing\n",
        "products_sample_df = products_raw_df.copy() #sample(20000)"
      ],
      "execution_count": 11,
      "outputs": []
    },
    {
      "cell_type": "code",
      "metadata": {
        "id": "dy7u2CojZr-T"
      },
      "source": [
        "# train test split\n",
        "products_sample_train_df, products_sample_test_df = sklearn.model_selection.train_test_split(products_sample_df, test_size=0.2)"
      ],
      "execution_count": 19,
      "outputs": []
    },
    {
      "cell_type": "markdown",
      "metadata": {
        "id": "nZjesnFjZd2I"
      },
      "source": [
        "## data normalization"
      ]
    },
    {
      "cell_type": "code",
      "metadata": {
        "id": "gcknsDK7Za18"
      },
      "source": [
        "# use these keys to normalize\n",
        "primary_keys = [\"product_id\", \"vendor_id\", \"vendor_geohash\"]"
      ],
      "execution_count": 10,
      "outputs": []
    },
    {
      "cell_type": "code",
      "metadata": {
        "id": "KFNEam9SZizR"
      },
      "source": [
        "# split into a more normalized form\n",
        "products_df = products_sample_train_df[primary_keys + [\"order_count\"]].copy()\n",
        "products_name_df = products_sample_train_df[primary_keys + [\"product_name\"]].copy().rename({\"product_name\": \"text\"}, axis=1)\n",
        "products_description_df = products_sample_train_df[primary_keys + [\"product_description\"]].copy().rename({\"product_description\": \"text\"}, axis=1)"
      ],
      "execution_count": 12,
      "outputs": []
    },
    {
      "cell_type": "markdown",
      "metadata": {
        "id": "dD4k05ZiYOGh"
      },
      "source": [
        ""
      ]
    }
  ]
}