{
  "nbformat": 4,
  "nbformat_minor": 0,
  "metadata": {
    "colab": {
      "name": "vendor_challenge.ipynb",
      "provenance": [],
      "collapsed_sections": [],
      "authorship_tag": "ABX9TyMyOy6jm2BBlM3DLKKE7gKa",
      "include_colab_link": true
    },
    "kernelspec": {
      "name": "python3",
      "display_name": "Python 3"
    },
    "language_info": {
      "name": "python"
    }
  },
  "cells": [
    {
      "cell_type": "markdown",
      "metadata": {
        "id": "view-in-github",
        "colab_type": "text"
      },
      "source": [
        "<a href=\"https://colab.research.google.com/github/azz2k/vendor_challenge/blob/main/vendor_challenge.ipynb\" target=\"_parent\"><img src=\"https://colab.research.google.com/assets/colab-badge.svg\" alt=\"Open In Colab\"/></a>"
      ]
    },
    {
      "cell_type": "markdown",
      "metadata": {
        "id": "jy_C-pi4YPm3"
      },
      "source": [
        "# Introduction\n",
        "* To make my life easier I will remove everything but [a-zA-Z0-9] and whitespaces\n",
        "* For now I will use a bag-of-words approach as I have limited time"
      ]
    },
    {
      "cell_type": "markdown",
      "metadata": {
        "id": "ZoUyLyRLYUKT"
      },
      "source": [
        "# libraries, constants, etc."
      ]
    },
    {
      "cell_type": "code",
      "metadata": {
        "id": "Huk1EMxUXvZk"
      },
      "source": [
        "from google.colab import drive\n",
        "\n",
        "import pandas as pd\n",
        "import numpy as np\n",
        "import sklearn.model_selection\n",
        "\n",
        "import seaborn as sns\n",
        "from matplotlib import pyplot as plt\n",
        "\n",
        "import nltk"
      ],
      "execution_count": 1,
      "outputs": []
    },
    {
      "cell_type": "markdown",
      "metadata": {
        "id": "mYnjQDTrYYHC"
      },
      "source": [
        "This should later be put into: requirements installations (in separate requirements file)"
      ]
    },
    {
      "cell_type": "code",
      "metadata": {
        "colab": {
          "base_uri": "https://localhost:8080/"
        },
        "id": "I3ILA9pNbtfN",
        "outputId": "7601b8f5-735c-483c-cd0b-8b7d475c593e"
      },
      "source": [
        "# Punkt sentence tokenizer\n",
        "nltk.download(\"punkt\")\n",
        "# Word List Corpus\n",
        "nltk.download(\"words\")"
      ],
      "execution_count": 2,
      "outputs": [
        {
          "output_type": "stream",
          "text": [
            "[nltk_data] Downloading package punkt to /root/nltk_data...\n",
            "[nltk_data]   Package punkt is already up-to-date!\n",
            "[nltk_data] Downloading package words to /root/nltk_data...\n",
            "[nltk_data]   Package words is already up-to-date!\n"
          ],
          "name": "stdout"
        },
        {
          "output_type": "execute_result",
          "data": {
            "text/plain": [
              "True"
            ]
          },
          "metadata": {
            "tags": []
          },
          "execution_count": 2
        }
      ]
    },
    {
      "cell_type": "markdown",
      "metadata": {
        "id": "u3gGyr5-YbY8"
      },
      "source": [
        "# read data\n"
      ]
    },
    {
      "cell_type": "code",
      "metadata": {
        "colab": {
          "base_uri": "https://localhost:8080/"
        },
        "id": "h_t4ynxIYYpN",
        "outputId": "54c96cb3-0a1f-402e-d1c3-1213bbf864fb"
      },
      "source": [
        "# mount google drive\n",
        "drive.mount(\"/content/drive\")"
      ],
      "execution_count": 3,
      "outputs": [
        {
          "output_type": "stream",
          "text": [
            "Drive already mounted at /content/drive; to attempt to forcibly remount, call drive.mount(\"/content/drive\", force_remount=True).\n"
          ],
          "name": "stdout"
        }
      ]
    },
    {
      "cell_type": "code",
      "metadata": {
        "colab": {
          "base_uri": "https://localhost:8080/",
          "height": 419
        },
        "id": "QTUcF40uZBLr",
        "outputId": "16372e0b-d0f1-4702-99d7-d335c146a453"
      },
      "source": [
        "products_raw_df = pd.read_parquet(\"/content/drive/MyDrive/Data Science/products.parquet.gz\")\n",
        "products_raw_df"
      ],
      "execution_count": 4,
      "outputs": [
        {
          "output_type": "execute_result",
          "data": {
            "text/html": [
              "<div>\n",
              "<style scoped>\n",
              "    .dataframe tbody tr th:only-of-type {\n",
              "        vertical-align: middle;\n",
              "    }\n",
              "\n",
              "    .dataframe tbody tr th {\n",
              "        vertical-align: top;\n",
              "    }\n",
              "\n",
              "    .dataframe thead th {\n",
              "        text-align: right;\n",
              "    }\n",
              "</style>\n",
              "<table border=\"1\" class=\"dataframe\">\n",
              "  <thead>\n",
              "    <tr style=\"text-align: right;\">\n",
              "      <th></th>\n",
              "      <th>product_id</th>\n",
              "      <th>vendor_id</th>\n",
              "      <th>vendor_geohash</th>\n",
              "      <th>product_name</th>\n",
              "      <th>product_description</th>\n",
              "      <th>order_count</th>\n",
              "    </tr>\n",
              "  </thead>\n",
              "  <tbody>\n",
              "    <tr>\n",
              "      <th>0</th>\n",
              "      <td>0</td>\n",
              "      <td>0</td>\n",
              "      <td>w21z6tu</td>\n",
              "      <td>Cheese Tofu</td>\n",
              "      <td>None</td>\n",
              "      <td>116</td>\n",
              "    </tr>\n",
              "    <tr>\n",
              "      <th>1</th>\n",
              "      <td>1</td>\n",
              "      <td>1</td>\n",
              "      <td>w21z74d</td>\n",
              "      <td>Naughty &amp; Nice - Slice</td>\n",
              "      <td>Chocolate - Slice</td>\n",
              "      <td>30</td>\n",
              "    </tr>\n",
              "    <tr>\n",
              "      <th>2</th>\n",
              "      <td>2</td>\n",
              "      <td>2</td>\n",
              "      <td>w21xxgu</td>\n",
              "      <td>301. Pork Dumpling with Hot Chilli Vinaigrette...</td>\n",
              "      <td>6 Pcs, spicy</td>\n",
              "      <td>25</td>\n",
              "    </tr>\n",
              "    <tr>\n",
              "      <th>3</th>\n",
              "      <td>3</td>\n",
              "      <td>3</td>\n",
              "      <td>w23b4u1</td>\n",
              "      <td>Mee Kuah</td>\n",
              "      <td>Contain minced mutton meat</td>\n",
              "      <td>45</td>\n",
              "    </tr>\n",
              "    <tr>\n",
              "      <th>4</th>\n",
              "      <td>4</td>\n",
              "      <td>4</td>\n",
              "      <td>w21ztq4</td>\n",
              "      <td>Ham &amp; Cheese Sandwich Set</td>\n",
              "      <td>Toasted to perfection, this sandwich hits all ...</td>\n",
              "      <td>24</td>\n",
              "    </tr>\n",
              "    <tr>\n",
              "      <th>...</th>\n",
              "      <td>...</td>\n",
              "      <td>...</td>\n",
              "      <td>...</td>\n",
              "      <td>...</td>\n",
              "      <td>...</td>\n",
              "      <td>...</td>\n",
              "    </tr>\n",
              "    <tr>\n",
              "      <th>633143</th>\n",
              "      <td>633143</td>\n",
              "      <td>701</td>\n",
              "      <td>w21zkpm</td>\n",
              "      <td>Sriracha Chicken Whole Wheat Pita</td>\n",
              "      <td>None</td>\n",
              "      <td>22</td>\n",
              "    </tr>\n",
              "    <tr>\n",
              "      <th>633144</th>\n",
              "      <td>633144</td>\n",
              "      <td>17</td>\n",
              "      <td>w23b5j9</td>\n",
              "      <td>Dettol Liquid Hand wash Sensitive 250ml</td>\n",
              "      <td>â€¢ Dettol Liquid Hand Wash kills 99.9% of ger...</td>\n",
              "      <td>22</td>\n",
              "    </tr>\n",
              "    <tr>\n",
              "      <th>633145</th>\n",
              "      <td>633145</td>\n",
              "      <td>4135</td>\n",
              "      <td>w21ztw0</td>\n",
              "      <td>Red Bean</td>\n",
              "      <td>4 Pcs</td>\n",
              "      <td>22</td>\n",
              "    </tr>\n",
              "    <tr>\n",
              "      <th>633146</th>\n",
              "      <td>633146</td>\n",
              "      <td>3121</td>\n",
              "      <td>w21z6vc</td>\n",
              "      <td>Twister Meal</td>\n",
              "      <td>Choice of 1 Twister, 1 Hash Brown and choice o...</td>\n",
              "      <td>22</td>\n",
              "    </tr>\n",
              "    <tr>\n",
              "      <th>633147</th>\n",
              "      <td>633147</td>\n",
              "      <td>2754</td>\n",
              "      <td>w21zu1v</td>\n",
              "      <td>Chocolate Croissant</td>\n",
              "      <td>None</td>\n",
              "      <td>22</td>\n",
              "    </tr>\n",
              "  </tbody>\n",
              "</table>\n",
              "<p>633148 rows × 6 columns</p>\n",
              "</div>"
            ],
            "text/plain": [
              "        product_id  ...  order_count\n",
              "0                0  ...          116\n",
              "1                1  ...           30\n",
              "2                2  ...           25\n",
              "3                3  ...           45\n",
              "4                4  ...           24\n",
              "...            ...  ...          ...\n",
              "633143      633143  ...           22\n",
              "633144      633144  ...           22\n",
              "633145      633145  ...           22\n",
              "633146      633146  ...           22\n",
              "633147      633147  ...           22\n",
              "\n",
              "[633148 rows x 6 columns]"
            ]
          },
          "metadata": {
            "tags": []
          },
          "execution_count": 4
        }
      ]
    },
    {
      "cell_type": "markdown",
      "metadata": {
        "id": "8VWjgLuiayQF"
      },
      "source": [
        "# look at target"
      ]
    },
    {
      "cell_type": "code",
      "metadata": {
        "colab": {
          "base_uri": "https://localhost:8080/"
        },
        "id": "cOKBPxc1a1yp",
        "outputId": "576792d3-9576-4942-bc5d-8b7b6925573f"
      },
      "source": [
        "products_raw_df[\"order_count\"].describe()"
      ],
      "execution_count": 5,
      "outputs": [
        {
          "output_type": "execute_result",
          "data": {
            "text/plain": [
              "count    633148.000000\n",
              "mean          9.482963\n",
              "std          24.025783\n",
              "min           1.000000\n",
              "25%           1.000000\n",
              "50%           3.000000\n",
              "75%           8.000000\n",
              "max        1386.000000\n",
              "Name: order_count, dtype: float64"
            ]
          },
          "metadata": {
            "tags": []
          },
          "execution_count": 5
        }
      ]
    },
    {
      "cell_type": "code",
      "metadata": {
        "colab": {
          "base_uri": "https://localhost:8080/",
          "height": 397
        },
        "id": "JEBqvpMUa3vd",
        "outputId": "631b63d5-6157-4302-be8b-1fad5ce03b85"
      },
      "source": [
        "# plot the order count ecdf\n",
        "fig, ax = plt.subplots(1, 1, figsize = (20, 6))\n",
        "sns.ecdfplot(\n",
        "    data=products_raw_df,\n",
        "    x=\"order_count\",\n",
        "    ax=ax,\n",
        "    log_scale=True\n",
        ")\n",
        "ax.set_xticks([1, 10, 100, 1000, 1500])\n",
        "plt.show()"
      ],
      "execution_count": 6,
      "outputs": [
        {
          "output_type": "display_data",
          "data": {
            "image/png": "[encoded data removed]",
            "text/plain": [
              "<Figure size 1440x432 with 1 Axes>"
            ]
          },
          "metadata": {
            "tags": [],
            "needs_background": "light"
          }
        }
      ]
    },
    {
      "cell_type": "markdown",
      "metadata": {
        "id": "og34xRpFa51h"
      },
      "source": [
        "That is a target distribution we don't really want to see. Most orders are less than five and only a few orders have a significant number. We need to sample from more than just one month to make useful predictions."
      ]
    },
    {
      "cell_type": "markdown",
      "metadata": {
        "id": "C6TOOz-NZbcq"
      },
      "source": [
        "# data cleanup"
      ]
    },
    {
      "cell_type": "markdown",
      "metadata": {
        "id": "4VIliroYadBb"
      },
      "source": [
        "## train test split"
      ]
    },
    {
      "cell_type": "code",
      "metadata": {
        "id": "GaWnLFiOZgDG"
      },
      "source": [
        "# sample data for testing\n",
        "products_sample_raw_df = products_raw_df.copy() #sample(20000)"
      ],
      "execution_count": 7,
      "outputs": []
    },
    {
      "cell_type": "code",
      "metadata": {
        "id": "dy7u2CojZr-T"
      },
      "source": [
        "# train test split\n",
        "products_sample_raw_train_df, products_sample_raw_test_df = sklearn.model_selection.train_test_split(products_sample_raw_df, test_size=0.2)"
      ],
      "execution_count": 8,
      "outputs": []
    },
    {
      "cell_type": "markdown",
      "metadata": {
        "id": "nZjesnFjZd2I"
      },
      "source": [
        "## data normalization"
      ]
    },
    {
      "cell_type": "code",
      "metadata": {
        "id": "gcknsDK7Za18"
      },
      "source": [
        "# use these keys to normalize\n",
        "primary_keys = [\"product_id\", \"vendor_id\", \"vendor_geohash\"]"
      ],
      "execution_count": 9,
      "outputs": []
    },
    {
      "cell_type": "code",
      "metadata": {
        "id": "KFNEam9SZizR"
      },
      "source": [
        "# split into a more normalized form\n",
        "products_raw_df = products_sample_raw_train_df[primary_keys + [\"order_count\"]].copy()\n",
        "products_name_raw_df = products_sample_raw_train_df[primary_keys + [\"product_name\"]].copy().rename({\"product_name\": \"text\"}, axis=1)\n",
        "products_description_raw_df = products_sample_raw_train_df[primary_keys + [\"product_description\"]].copy().rename({\"product_description\": \"text\"}, axis=1)"
      ],
      "execution_count": 10,
      "outputs": []
    },
    {
      "cell_type": "markdown",
      "metadata": {
        "id": "x57pfIVjbMWn"
      },
      "source": [
        "## basic cleanup"
      ]
    },
    {
      "cell_type": "code",
      "metadata": {
        "id": "_WvuqwFcjHLI"
      },
      "source": [
        "products_df = products_raw_df.copy()\n",
        "products_name_df = products_name_raw_df.copy()\n",
        "products_description_df = products_description_raw_df.copy()"
      ],
      "execution_count": 11,
      "outputs": []
    },
    {
      "cell_type": "code",
      "metadata": {
        "id": "SS0mbHVfbOIH"
      },
      "source": [
        "# drop empty text\n",
        "products_name_df.dropna(inplace=True)\n",
        "products_description_df.dropna(inplace=True)\n",
        "\n",
        "# replace everything but basic chars for now\n",
        "products_name_df[\"text\"].replace(\"[^a-zA-Z0-9 ]\", \" \", inplace=True, regex=True)\n",
        "products_description_df[\"text\"].replace(\"[^a-zA-Z0-9 ]\", \" \", inplace=True, regex=True)\n",
        "\n",
        "# remove single and double characters\n",
        "products_name_df[\"text\"].replace(\"(^| ).( |$)\", \" \", inplace=True, regex=True)\n",
        "products_name_df[\"text\"].replace(\"(^| )..( |$)\", \" \", inplace=True, regex=True)\n",
        "products_description_df[\"text\"].replace(\"(^| ).( |$)\", \" \", inplace=True, regex=True)\n",
        "products_description_df[\"text\"].replace(\"(^| )..( |$)\", \" \", inplace=True, regex=True)\n",
        "\n",
        "# remove all double whitespaces\n",
        "products_name_df[\"text\"].replace(\"[ ]+\", \" \", inplace=True, regex=True)\n",
        "products_description_df[\"text\"].replace(\"[ ]+\", \" \", inplace=True, regex=True)\n",
        "\n",
        "# drop empty text\n",
        "products_name_df[\"text\"].replace(\"^[ ]+$\", \"\", inplace=True, regex=True)\n",
        "products_name_df = products_name_df[products_name_df[\"text\"] != \"\"]\n",
        "\n",
        "products_description_df[\"text\"].replace(\"^[ ]+$\", \"\", inplace=True, regex=True)\n",
        "products_description_df = products_description_df[products_description_df[\"text\"] != \"\"]"
      ],
      "execution_count": 12,
      "outputs": []
    },
    {
      "cell_type": "markdown",
      "metadata": {
        "id": "dD4k05ZiYOGh"
      },
      "source": [
        ""
      ]
    },
    {
      "cell_type": "code",
      "metadata": {
        "id": "Prl4tQnfbVZU"
      },
      "source": [
        "# to lower\n",
        "products_name_df[\"text\"] = products_name_df[\"text\"].str.lower()\n",
        "products_description_df[\"text\"] = products_description_df[\"text\"].str.lower()"
      ],
      "execution_count": 13,
      "outputs": []
    },
    {
      "cell_type": "code",
      "metadata": {
        "colab": {
          "base_uri": "https://localhost:8080/",
          "height": 419
        },
        "id": "tLFb0Px8bYtt",
        "outputId": "12819bc2-f0cc-4332-cae7-51de58185c07"
      },
      "source": [
        "products_name_df"
      ],
      "execution_count": 14,
      "outputs": [
        {
          "output_type": "execute_result",
          "data": {
            "text/html": [
              "<div>\n",
              "<style scoped>\n",
              "    .dataframe tbody tr th:only-of-type {\n",
              "        vertical-align: middle;\n",
              "    }\n",
              "\n",
              "    .dataframe tbody tr th {\n",
              "        vertical-align: top;\n",
              "    }\n",
              "\n",
              "    .dataframe thead th {\n",
              "        text-align: right;\n",
              "    }\n",
              "</style>\n",
              "<table border=\"1\" class=\"dataframe\">\n",
              "  <thead>\n",
              "    <tr style=\"text-align: right;\">\n",
              "      <th></th>\n",
              "      <th>product_id</th>\n",
              "      <th>vendor_id</th>\n",
              "      <th>vendor_geohash</th>\n",
              "      <th>text</th>\n",
              "    </tr>\n",
              "  </thead>\n",
              "  <tbody>\n",
              "    <tr>\n",
              "      <th>370373</th>\n",
              "      <td>370373</td>\n",
              "      <td>2671</td>\n",
              "      <td>w21zu1b</td>\n",
              "      <td>sambal sweet potato leaf</td>\n",
              "    </tr>\n",
              "    <tr>\n",
              "      <th>604160</th>\n",
              "      <td>604160</td>\n",
              "      <td>55</td>\n",
              "      <td>w21ze1r</td>\n",
              "      <td>daucy sweet corn 340g</td>\n",
              "    </tr>\n",
              "    <tr>\n",
              "      <th>593393</th>\n",
              "      <td>593393</td>\n",
              "      <td>1271</td>\n",
              "      <td>w21z7qd</td>\n",
              "      <td>trio pancakes</td>\n",
              "    </tr>\n",
              "    <tr>\n",
              "      <th>39784</th>\n",
              "      <td>39784</td>\n",
              "      <td>1572</td>\n",
              "      <td>w23b1tq</td>\n",
              "      <td>matcha boba milk</td>\n",
              "    </tr>\n",
              "    <tr>\n",
              "      <th>13441</th>\n",
              "      <td>13441</td>\n",
              "      <td>2532</td>\n",
              "      <td>w21z601</td>\n",
              "      <td>ebi fried teriyaki chicken bento</td>\n",
              "    </tr>\n",
              "    <tr>\n",
              "      <th>...</th>\n",
              "      <td>...</td>\n",
              "      <td>...</td>\n",
              "      <td>...</td>\n",
              "      <td>...</td>\n",
              "    </tr>\n",
              "    <tr>\n",
              "      <th>351087</th>\n",
              "      <td>351087</td>\n",
              "      <td>573</td>\n",
              "      <td>w21z74k</td>\n",
              "      <td>vegetable biryani</td>\n",
              "    </tr>\n",
              "    <tr>\n",
              "      <th>358430</th>\n",
              "      <td>358430</td>\n",
              "      <td>4860</td>\n",
              "      <td>w21zkkv</td>\n",
              "      <td>fishball soup</td>\n",
              "    </tr>\n",
              "    <tr>\n",
              "      <th>37901</th>\n",
              "      <td>37901</td>\n",
              "      <td>4012</td>\n",
              "      <td>w21zt11</td>\n",
              "      <td>thai green milk tea</td>\n",
              "    </tr>\n",
              "    <tr>\n",
              "      <th>486547</th>\n",
              "      <td>486547</td>\n",
              "      <td>2772</td>\n",
              "      <td>w23b4u4</td>\n",
              "      <td>ribena ice</td>\n",
              "    </tr>\n",
              "    <tr>\n",
              "      <th>339466</th>\n",
              "      <td>339466</td>\n",
              "      <td>104</td>\n",
              "      <td>w21z7qd</td>\n",
              "      <td>strawberry action</td>\n",
              "    </tr>\n",
              "  </tbody>\n",
              "</table>\n",
              "<p>506416 rows × 4 columns</p>\n",
              "</div>"
            ],
            "text/plain": [
              "        product_id  vendor_id vendor_geohash                               text\n",
              "370373      370373       2671        w21zu1b          sambal sweet potato leaf \n",
              "604160      604160         55        w21ze1r              daucy sweet corn 340g\n",
              "593393      593393       1271        w21z7qd                      trio pancakes\n",
              "39784        39784       1572        w23b1tq                   matcha boba milk\n",
              "13441        13441       2532        w21z601  ebi fried teriyaki chicken bento \n",
              "...            ...        ...            ...                                ...\n",
              "351087      351087        573        w21z74k                  vegetable biryani\n",
              "358430      358430       4860        w21zkkv                      fishball soup\n",
              "37901        37901       4012        w21zt11                thai green milk tea\n",
              "486547      486547       2772        w23b4u4                         ribena ice\n",
              "339466      339466        104        w21z7qd                  strawberry action\n",
              "\n",
              "[506416 rows x 4 columns]"
            ]
          },
          "metadata": {
            "tags": []
          },
          "execution_count": 14
        }
      ]
    },
    {
      "cell_type": "code",
      "metadata": {
        "colab": {
          "base_uri": "https://localhost:8080/",
          "height": 419
        },
        "id": "tI4yQgIPbZ60",
        "outputId": "51053436-7908-4c09-dec2-87e33380016d"
      },
      "source": [
        "products_description_df"
      ],
      "execution_count": 15,
      "outputs": [
        {
          "output_type": "execute_result",
          "data": {
            "text/html": [
              "<div>\n",
              "<style scoped>\n",
              "    .dataframe tbody tr th:only-of-type {\n",
              "        vertical-align: middle;\n",
              "    }\n",
              "\n",
              "    .dataframe tbody tr th {\n",
              "        vertical-align: top;\n",
              "    }\n",
              "\n",
              "    .dataframe thead th {\n",
              "        text-align: right;\n",
              "    }\n",
              "</style>\n",
              "<table border=\"1\" class=\"dataframe\">\n",
              "  <thead>\n",
              "    <tr style=\"text-align: right;\">\n",
              "      <th></th>\n",
              "      <th>product_id</th>\n",
              "      <th>vendor_id</th>\n",
              "      <th>vendor_geohash</th>\n",
              "      <th>text</th>\n",
              "    </tr>\n",
              "  </thead>\n",
              "  <tbody>\n",
              "    <tr>\n",
              "      <th>115131</th>\n",
              "      <td>115131</td>\n",
              "      <td>9830</td>\n",
              "      <td>w21ztwt</td>\n",
              "      <td>feel peckish for chicken then try our oven roa...</td>\n",
              "    </tr>\n",
              "    <tr>\n",
              "      <th>9114</th>\n",
              "      <td>9114</td>\n",
              "      <td>1358</td>\n",
              "      <td>w21zujm</td>\n",
              "      <td>asam laksa noodles topped with fishball onion ...</td>\n",
              "    </tr>\n",
              "    <tr>\n",
              "      <th>339176</th>\n",
              "      <td>339176</td>\n",
              "      <td>8911</td>\n",
              "      <td>w21z6vj</td>\n",
              "      <td>signature lucknawi paratha made an inverted gr...</td>\n",
              "    </tr>\n",
              "    <tr>\n",
              "      <th>191290</th>\n",
              "      <td>191290</td>\n",
              "      <td>5814</td>\n",
              "      <td>w23b1tq</td>\n",
              "      <td>dermatologically tested and proven kills germs...</td>\n",
              "    </tr>\n",
              "    <tr>\n",
              "      <th>184525</th>\n",
              "      <td>184525</td>\n",
              "      <td>1037</td>\n",
              "      <td>w21z7qn</td>\n",
              "      <td>chicken your thing our mcwings will send you ...</td>\n",
              "    </tr>\n",
              "    <tr>\n",
              "      <th>...</th>\n",
              "      <td>...</td>\n",
              "      <td>...</td>\n",
              "      <td>...</td>\n",
              "      <td>...</td>\n",
              "    </tr>\n",
              "    <tr>\n",
              "      <th>363195</th>\n",
              "      <td>363195</td>\n",
              "      <td>9394</td>\n",
              "      <td>w21z62w</td>\n",
              "      <td>piece</td>\n",
              "    </tr>\n",
              "    <tr>\n",
              "      <th>246191</th>\n",
              "      <td>246191</td>\n",
              "      <td>5847</td>\n",
              "      <td>w21ze4s</td>\n",
              "      <td>mcdonald icon our apple pies have been meltin...</td>\n",
              "    </tr>\n",
              "    <tr>\n",
              "      <th>316904</th>\n",
              "      <td>316904</td>\n",
              "      <td>598</td>\n",
              "      <td>w23b1tr</td>\n",
              "      <td>spicy chicken mcnuggets 12pc served together w...</td>\n",
              "    </tr>\n",
              "    <tr>\n",
              "      <th>351087</th>\n",
              "      <td>351087</td>\n",
              "      <td>573</td>\n",
              "      <td>w21z74k</td>\n",
              "      <td>assorted fresh vegetable with saffron flavoure...</td>\n",
              "    </tr>\n",
              "    <tr>\n",
              "      <th>358430</th>\n",
              "      <td>358430</td>\n",
              "      <td>4860</td>\n",
              "      <td>w21zkkv</td>\n",
              "      <td>pcs add ons available</td>\n",
              "    </tr>\n",
              "  </tbody>\n",
              "</table>\n",
              "<p>238526 rows × 4 columns</p>\n",
              "</div>"
            ],
            "text/plain": [
              "        product_id  ...                                               text\n",
              "115131      115131  ...  feel peckish for chicken then try our oven roa...\n",
              "9114          9114  ...  asam laksa noodles topped with fishball onion ...\n",
              "339176      339176  ...  signature lucknawi paratha made an inverted gr...\n",
              "191290      191290  ...  dermatologically tested and proven kills germs...\n",
              "184525      184525  ...   chicken your thing our mcwings will send you ...\n",
              "...            ...  ...                                                ...\n",
              "363195      363195  ...                                              piece\n",
              "246191      246191  ...   mcdonald icon our apple pies have been meltin...\n",
              "316904      316904  ...  spicy chicken mcnuggets 12pc served together w...\n",
              "351087      351087  ...  assorted fresh vegetable with saffron flavoure...\n",
              "358430      358430  ...                              pcs add ons available\n",
              "\n",
              "[238526 rows x 4 columns]"
            ]
          },
          "metadata": {
            "tags": []
          },
          "execution_count": 15
        }
      ]
    },
    {
      "cell_type": "markdown",
      "metadata": {
        "id": "iJNyvHVtbhVj"
      },
      "source": [
        "## tokenization and stemming"
      ]
    },
    {
      "cell_type": "code",
      "metadata": {
        "id": "ZaJX9n1ObbgV"
      },
      "source": [
        "products_name_token_df = products_name_df.copy()\n",
        "products_description_token_df = products_description_df.copy()"
      ],
      "execution_count": 16,
      "outputs": []
    },
    {
      "cell_type": "code",
      "metadata": {
        "id": "xb4Tb6SCbi_M"
      },
      "source": [
        "# tokenization\n",
        "products_name_token_df[\"text_tokens\"] = products_name_token_df[\"text\"].transform(nltk.word_tokenize)\n",
        "products_description_token_df[\"text_tokens\"] = products_description_token_df[\"text\"].apply(nltk.word_tokenize)"
      ],
      "execution_count": 17,
      "outputs": []
    },
    {
      "cell_type": "code",
      "metadata": {
        "id": "ZbPRgUckbkCV"
      },
      "source": [
        "# add a position index and explode\n",
        "products_name_token_df[\"idx\"] = 1\n",
        "products_name_token_df = products_name_token_df.explode(\"text_tokens\")\n",
        "products_name_token_df[\"idx\"] = products_name_token_df.groupby(primary_keys)[\"idx\"].cumsum()\n",
        "\n",
        "products_description_token_df[\"idx\"] = 1\n",
        "products_description_token_df = products_description_token_df.explode(\"text_tokens\")\n",
        "products_description_token_df[\"idx\"] = products_description_token_df.groupby(primary_keys)[\"idx\"].cumsum()"
      ],
      "execution_count": 18,
      "outputs": []
    },
    {
      "cell_type": "code",
      "metadata": {
        "id": "4IYgcLnQb2Ef"
      },
      "source": [
        "# stemming\n",
        "snowball = nltk.stem.SnowballStemmer(language=\"english\")\n",
        "products_name_token_df[\"text_tokens_stemmed\"] = products_name_token_df[\"text_tokens\"].apply(lambda x: snowball.stem(x))\n",
        "products_description_token_df[\"text_tokens_stemmed\"] = products_description_token_df[\"text_tokens\"].apply(lambda x: snowball.stem(x))"
      ],
      "execution_count": 19,
      "outputs": []
    },
    {
      "cell_type": "markdown",
      "metadata": {
        "id": "dpBaTJz9cbco"
      },
      "source": [
        "## filter english items"
      ]
    },
    {
      "cell_type": "markdown",
      "metadata": {
        "id": "8IFa-I3Hcenn"
      },
      "source": [
        "The general idea here is to count the fraction of english words in name and description and to use this in some way to filter english items."
      ]
    },
    {
      "cell_type": "markdown",
      "metadata": {
        "id": "XsKrGWNukdhs"
      },
      "source": [
        "### checking if tokens are english and couting etc."
      ]
    },
    {
      "cell_type": "code",
      "metadata": {
        "id": "Jwke6Y3scThb"
      },
      "source": [
        "# check if text_tokens are in words corpus\n",
        "words = nltk.corpus.words.words()\n",
        "products_name_token_df[\"is_english\"] = products_name_token_df[\"text_tokens\"].isin(words)\n",
        "products_description_token_df[\"is_english\"] = products_description_token_df[\"text_tokens\"].isin(words)"
      ],
      "execution_count": 20,
      "outputs": []
    },
    {
      "cell_type": "code",
      "metadata": {
        "id": "AFNr0kvycn0k"
      },
      "source": [
        "products_english_df = products_df.copy()\n",
        "\n",
        "# count english words and total words for product name\n",
        "products_english_df = products_english_df.merge(\n",
        "    products_name_token_df.groupby(primary_keys)[\"is_english\"].sum().reset_index().rename({\"is_english\": \"name_is_english\"}, axis=1), \n",
        "    on=primary_keys, \n",
        "    how=\"left\")\n",
        "products_english_df = products_english_df.merge(\n",
        "    products_name_token_df.groupby(primary_keys)[\"is_english\"].size().reset_index().rename({\"is_english\": \"name_n_words\"}, axis=1), \n",
        "    on=primary_keys, \n",
        "    how=\"left\")\n",
        "\n",
        "# count english words and total words for product description\n",
        "products_english_df = products_english_df.merge(\n",
        "    products_description_token_df.groupby(primary_keys)[\"is_english\"].sum().reset_index().rename({\"is_english\": \"description_is_english\"}, axis=1), \n",
        "    on=primary_keys, \n",
        "    how=\"left\")\n",
        "products_english_df = products_english_df.merge(\n",
        "    products_description_token_df.groupby(primary_keys)[\"is_english\"].size().reset_index().rename({\"is_english\": \"description_n_words\"}, axis=1), \n",
        "    on=primary_keys, \n",
        "    how=\"left\")\n",
        "\n",
        "# replace nans etc. from empty text and cast back to int\n",
        "for col in [\"name_is_english\", \"name_n_words\", \"description_is_english\", \"description_n_words\"]:\n",
        "    products_english_df[col] = products_english_df[col].replace(np.nan, 0).astype(int)"
      ],
      "execution_count": 21,
      "outputs": []
    },
    {
      "cell_type": "code",
      "metadata": {
        "id": "okTixn46cq1Y"
      },
      "source": [
        "# calculate the actual frequency = score\n",
        "products_english_df[\"total_is_english\"] = products_english_df[\"name_is_english\"] + products_english_df[\"description_is_english\"]\n",
        "products_english_df[\"total_n_words\"] = products_english_df[\"name_n_words\"] + products_english_df[\"description_n_words\"]\n",
        "products_english_df[\"english_score\"] = products_english_df[\"total_is_english\"] / products_english_df[\"total_n_words\"]"
      ],
      "execution_count": 22,
      "outputs": []
    },
    {
      "cell_type": "code",
      "metadata": {
        "id": "uye4FXklcr3k"
      },
      "source": [
        "# drop ones with no english score\n",
        "products_english_df = products_english_df[~products_english_df[\"english_score\"].isna()]"
      ],
      "execution_count": 23,
      "outputs": []
    },
    {
      "cell_type": "markdown",
      "metadata": {
        "id": "DU8ufrGNgrbx"
      },
      "source": [
        "### filter metric exploration"
      ]
    },
    {
      "cell_type": "code",
      "metadata": {
        "colab": {
          "base_uri": "https://localhost:8080/",
          "height": 393
        },
        "id": "pVZ_YSB-dPAa",
        "outputId": "62f2f11f-0609-4c9a-c9e2-7aa7a772dcb7"
      },
      "source": [
        "# plot the english score ecdf\n",
        "fig, ax = plt.subplots(1, 1, figsize=(16,6))\n",
        "sns.ecdfplot(\n",
        "    data=products_english_df,\n",
        "    x=\"english_score\",\n",
        "    ax=ax\n",
        ")\n",
        "plt.show()"
      ],
      "execution_count": 24,
      "outputs": [
        {
          "output_type": "display_data",
          "data": {
            "image/png": "[encoded data removed]",
            "text/plain": [
              "<Figure size 1152x432 with 1 Axes>"
            ]
          },
          "metadata": {
            "tags": [],
            "needs_background": "light"
          }
        }
      ]
    },
    {
      "cell_type": "code",
      "metadata": {
        "colab": {
          "base_uri": "https://localhost:8080/",
          "height": 389
        },
        "id": "UCb90-vPfrGs",
        "outputId": "3f8e8431-ea9a-4b52-94bd-d1562f2b3d1e"
      },
      "source": [
        "# plot the english score as a function of english words\n",
        "fig, ax = plt.subplots(1, 1, figsize=(16,6))\n",
        "sns.scatterplot(\n",
        "    data=products_english_df,\n",
        "    x=\"total_is_english\",\n",
        "    y=\"english_score\",\n",
        "    ax=ax\n",
        ")\n",
        "ax.set_xlim(0, 100)\n",
        "plt.show()"
      ],
      "execution_count": 25,
      "outputs": [
        {
          "output_type": "display_data",
          "data": {
            "image/png": "[encoded data removed]",
            "text/plain": [
              "<Figure size 1152x432 with 1 Axes>"
            ]
          },
          "metadata": {
            "tags": [],
            "needs_background": "light"
          }
        }
      ]
    },
    {
      "cell_type": "code",
      "metadata": {
        "colab": {
          "base_uri": "https://localhost:8080/",
          "height": 419
        },
        "id": "ep1-juEbd9yI",
        "outputId": "ac9b74a6-0180-4aa2-f27e-05986fc335e5"
      },
      "source": [
        "products_raw_df.merge(products_english_df[(products_english_df[\"english_score\"] > 0.2) & (products_english_df[\"english_score\"] < 0.3)][primary_keys], on=primary_keys, how=\"inner\")"
      ],
      "execution_count": 26,
      "outputs": [
        {
          "output_type": "execute_result",
          "data": {
            "text/html": [
              "<div>\n",
              "<style scoped>\n",
              "    .dataframe tbody tr th:only-of-type {\n",
              "        vertical-align: middle;\n",
              "    }\n",
              "\n",
              "    .dataframe tbody tr th {\n",
              "        vertical-align: top;\n",
              "    }\n",
              "\n",
              "    .dataframe thead th {\n",
              "        text-align: right;\n",
              "    }\n",
              "</style>\n",
              "<table border=\"1\" class=\"dataframe\">\n",
              "  <thead>\n",
              "    <tr style=\"text-align: right;\">\n",
              "      <th></th>\n",
              "      <th>product_id</th>\n",
              "      <th>vendor_id</th>\n",
              "      <th>vendor_geohash</th>\n",
              "      <th>order_count</th>\n",
              "    </tr>\n",
              "  </thead>\n",
              "  <tbody>\n",
              "    <tr>\n",
              "      <th>0</th>\n",
              "      <td>219836</td>\n",
              "      <td>5241</td>\n",
              "      <td>w21zsd2</td>\n",
              "      <td>1</td>\n",
              "    </tr>\n",
              "    <tr>\n",
              "      <th>1</th>\n",
              "      <td>47216</td>\n",
              "      <td>465</td>\n",
              "      <td>w21zurm</td>\n",
              "      <td>48</td>\n",
              "    </tr>\n",
              "    <tr>\n",
              "      <th>2</th>\n",
              "      <td>440387</td>\n",
              "      <td>9740</td>\n",
              "      <td>w21z9kh</td>\n",
              "      <td>5</td>\n",
              "    </tr>\n",
              "    <tr>\n",
              "      <th>3</th>\n",
              "      <td>508619</td>\n",
              "      <td>106</td>\n",
              "      <td>w21z6cf</td>\n",
              "      <td>7</td>\n",
              "    </tr>\n",
              "    <tr>\n",
              "      <th>4</th>\n",
              "      <td>521741</td>\n",
              "      <td>3179</td>\n",
              "      <td>w23b51b</td>\n",
              "      <td>8</td>\n",
              "    </tr>\n",
              "    <tr>\n",
              "      <th>...</th>\n",
              "      <td>...</td>\n",
              "      <td>...</td>\n",
              "      <td>...</td>\n",
              "      <td>...</td>\n",
              "    </tr>\n",
              "    <tr>\n",
              "      <th>9383</th>\n",
              "      <td>340506</td>\n",
              "      <td>5160</td>\n",
              "      <td>w21z744</td>\n",
              "      <td>3</td>\n",
              "    </tr>\n",
              "    <tr>\n",
              "      <th>9384</th>\n",
              "      <td>142148</td>\n",
              "      <td>6112</td>\n",
              "      <td>w21zffe</td>\n",
              "      <td>1</td>\n",
              "    </tr>\n",
              "    <tr>\n",
              "      <th>9385</th>\n",
              "      <td>46716</td>\n",
              "      <td>131</td>\n",
              "      <td>w23bhdd</td>\n",
              "      <td>110</td>\n",
              "    </tr>\n",
              "    <tr>\n",
              "      <th>9386</th>\n",
              "      <td>347947</td>\n",
              "      <td>6766</td>\n",
              "      <td>w21ze06</td>\n",
              "      <td>3</td>\n",
              "    </tr>\n",
              "    <tr>\n",
              "      <th>9387</th>\n",
              "      <td>94010</td>\n",
              "      <td>2976</td>\n",
              "      <td>w21z3pz</td>\n",
              "      <td>1</td>\n",
              "    </tr>\n",
              "  </tbody>\n",
              "</table>\n",
              "<p>9388 rows × 4 columns</p>\n",
              "</div>"
            ],
            "text/plain": [
              "      product_id  vendor_id vendor_geohash  order_count\n",
              "0         219836       5241        w21zsd2            1\n",
              "1          47216        465        w21zurm           48\n",
              "2         440387       9740        w21z9kh            5\n",
              "3         508619        106        w21z6cf            7\n",
              "4         521741       3179        w23b51b            8\n",
              "...          ...        ...            ...          ...\n",
              "9383      340506       5160        w21z744            3\n",
              "9384      142148       6112        w21zffe            1\n",
              "9385       46716        131        w23bhdd          110\n",
              "9386      347947       6766        w21ze06            3\n",
              "9387       94010       2976        w21z3pz            1\n",
              "\n",
              "[9388 rows x 4 columns]"
            ]
          },
          "metadata": {
            "tags": []
          },
          "execution_count": 26
        }
      ]
    },
    {
      "cell_type": "code",
      "metadata": {
        "colab": {
          "base_uri": "https://localhost:8080/",
          "height": 419
        },
        "id": "b7IUTLh0dj2B",
        "outputId": "ab52cffc-16c3-4944-c558-e6b4935e0358"
      },
      "source": [
        "products_raw_df.merge(products_english_df[(products_english_df[\"english_score\"] > 0.6) & (products_english_df[\"english_score\"] < 0.7)][primary_keys], on=primary_keys, how=\"inner\")"
      ],
      "execution_count": 27,
      "outputs": [
        {
          "output_type": "execute_result",
          "data": {
            "text/html": [
              "<div>\n",
              "<style scoped>\n",
              "    .dataframe tbody tr th:only-of-type {\n",
              "        vertical-align: middle;\n",
              "    }\n",
              "\n",
              "    .dataframe tbody tr th {\n",
              "        vertical-align: top;\n",
              "    }\n",
              "\n",
              "    .dataframe thead th {\n",
              "        text-align: right;\n",
              "    }\n",
              "</style>\n",
              "<table border=\"1\" class=\"dataframe\">\n",
              "  <thead>\n",
              "    <tr style=\"text-align: right;\">\n",
              "      <th></th>\n",
              "      <th>product_id</th>\n",
              "      <th>vendor_id</th>\n",
              "      <th>vendor_geohash</th>\n",
              "      <th>order_count</th>\n",
              "    </tr>\n",
              "  </thead>\n",
              "  <tbody>\n",
              "    <tr>\n",
              "      <th>0</th>\n",
              "      <td>39784</td>\n",
              "      <td>1572</td>\n",
              "      <td>w23b1tq</td>\n",
              "      <td>40</td>\n",
              "    </tr>\n",
              "    <tr>\n",
              "      <th>1</th>\n",
              "      <td>388787</td>\n",
              "      <td>440</td>\n",
              "      <td>w21zujm</td>\n",
              "      <td>3</td>\n",
              "    </tr>\n",
              "    <tr>\n",
              "      <th>2</th>\n",
              "      <td>584473</td>\n",
              "      <td>1932</td>\n",
              "      <td>w23b4uy</td>\n",
              "      <td>13</td>\n",
              "    </tr>\n",
              "    <tr>\n",
              "      <th>3</th>\n",
              "      <td>260023</td>\n",
              "      <td>12888</td>\n",
              "      <td>w21zefw</td>\n",
              "      <td>2</td>\n",
              "    </tr>\n",
              "    <tr>\n",
              "      <th>4</th>\n",
              "      <td>191290</td>\n",
              "      <td>5814</td>\n",
              "      <td>w23b1tq</td>\n",
              "      <td>1</td>\n",
              "    </tr>\n",
              "    <tr>\n",
              "      <th>...</th>\n",
              "      <td>...</td>\n",
              "      <td>...</td>\n",
              "      <td>...</td>\n",
              "      <td>...</td>\n",
              "    </tr>\n",
              "    <tr>\n",
              "      <th>71182</th>\n",
              "      <td>93297</td>\n",
              "      <td>9265</td>\n",
              "      <td>w21zexw</td>\n",
              "      <td>1</td>\n",
              "    </tr>\n",
              "    <tr>\n",
              "      <th>71183</th>\n",
              "      <td>375166</td>\n",
              "      <td>767</td>\n",
              "      <td>w21zv97</td>\n",
              "      <td>3</td>\n",
              "    </tr>\n",
              "    <tr>\n",
              "      <th>71184</th>\n",
              "      <td>363195</td>\n",
              "      <td>9394</td>\n",
              "      <td>w21z62w</td>\n",
              "      <td>3</td>\n",
              "    </tr>\n",
              "    <tr>\n",
              "      <th>71185</th>\n",
              "      <td>485801</td>\n",
              "      <td>2996</td>\n",
              "      <td>w21zkzs</td>\n",
              "      <td>6</td>\n",
              "    </tr>\n",
              "    <tr>\n",
              "      <th>71186</th>\n",
              "      <td>358430</td>\n",
              "      <td>4860</td>\n",
              "      <td>w21zkkv</td>\n",
              "      <td>3</td>\n",
              "    </tr>\n",
              "  </tbody>\n",
              "</table>\n",
              "<p>71187 rows × 4 columns</p>\n",
              "</div>"
            ],
            "text/plain": [
              "       product_id  vendor_id vendor_geohash  order_count\n",
              "0           39784       1572        w23b1tq           40\n",
              "1          388787        440        w21zujm            3\n",
              "2          584473       1932        w23b4uy           13\n",
              "3          260023      12888        w21zefw            2\n",
              "4          191290       5814        w23b1tq            1\n",
              "...           ...        ...            ...          ...\n",
              "71182       93297       9265        w21zexw            1\n",
              "71183      375166        767        w21zv97            3\n",
              "71184      363195       9394        w21z62w            3\n",
              "71185      485801       2996        w21zkzs            6\n",
              "71186      358430       4860        w21zkkv            3\n",
              "\n",
              "[71187 rows x 4 columns]"
            ]
          },
          "metadata": {
            "tags": []
          },
          "execution_count": 27
        }
      ]
    },
    {
      "cell_type": "code",
      "metadata": {
        "colab": {
          "base_uri": "https://localhost:8080/",
          "height": 419
        },
        "id": "Tnxwr8rsg3um",
        "outputId": "dd7dcbbf-b1d9-4abf-d887-89dd29b812b5"
      },
      "source": [
        "products_raw_df.merge(products_english_df[products_english_df[\"total_is_english\"] == 0 ][primary_keys], on=primary_keys, how=\"inner\")"
      ],
      "execution_count": 28,
      "outputs": [
        {
          "output_type": "execute_result",
          "data": {
            "text/html": [
              "<div>\n",
              "<style scoped>\n",
              "    .dataframe tbody tr th:only-of-type {\n",
              "        vertical-align: middle;\n",
              "    }\n",
              "\n",
              "    .dataframe tbody tr th {\n",
              "        vertical-align: top;\n",
              "    }\n",
              "\n",
              "    .dataframe thead th {\n",
              "        text-align: right;\n",
              "    }\n",
              "</style>\n",
              "<table border=\"1\" class=\"dataframe\">\n",
              "  <thead>\n",
              "    <tr style=\"text-align: right;\">\n",
              "      <th></th>\n",
              "      <th>product_id</th>\n",
              "      <th>vendor_id</th>\n",
              "      <th>vendor_geohash</th>\n",
              "      <th>order_count</th>\n",
              "    </tr>\n",
              "  </thead>\n",
              "  <tbody>\n",
              "    <tr>\n",
              "      <th>0</th>\n",
              "      <td>157617</td>\n",
              "      <td>9147</td>\n",
              "      <td>w21z76c</td>\n",
              "      <td>1</td>\n",
              "    </tr>\n",
              "    <tr>\n",
              "      <th>1</th>\n",
              "      <td>121658</td>\n",
              "      <td>4293</td>\n",
              "      <td>w21zu1q</td>\n",
              "      <td>1</td>\n",
              "    </tr>\n",
              "    <tr>\n",
              "      <th>2</th>\n",
              "      <td>241306</td>\n",
              "      <td>7557</td>\n",
              "      <td>w21z7nn</td>\n",
              "      <td>2</td>\n",
              "    </tr>\n",
              "    <tr>\n",
              "      <th>3</th>\n",
              "      <td>104098</td>\n",
              "      <td>9389</td>\n",
              "      <td>w21ztg0</td>\n",
              "      <td>1</td>\n",
              "    </tr>\n",
              "    <tr>\n",
              "      <th>4</th>\n",
              "      <td>427328</td>\n",
              "      <td>7072</td>\n",
              "      <td>w21z6m1</td>\n",
              "      <td>4</td>\n",
              "    </tr>\n",
              "    <tr>\n",
              "      <th>...</th>\n",
              "      <td>...</td>\n",
              "      <td>...</td>\n",
              "      <td>...</td>\n",
              "      <td>...</td>\n",
              "    </tr>\n",
              "    <tr>\n",
              "      <th>19323</th>\n",
              "      <td>166800</td>\n",
              "      <td>6117</td>\n",
              "      <td>w21z9h2</td>\n",
              "      <td>1</td>\n",
              "    </tr>\n",
              "    <tr>\n",
              "      <th>19324</th>\n",
              "      <td>565945</td>\n",
              "      <td>5764</td>\n",
              "      <td>w21z6uv</td>\n",
              "      <td>11</td>\n",
              "    </tr>\n",
              "    <tr>\n",
              "      <th>19325</th>\n",
              "      <td>322494</td>\n",
              "      <td>7807</td>\n",
              "      <td>w21z3jn</td>\n",
              "      <td>2</td>\n",
              "    </tr>\n",
              "    <tr>\n",
              "      <th>19326</th>\n",
              "      <td>5198</td>\n",
              "      <td>985</td>\n",
              "      <td>w23b4jv</td>\n",
              "      <td>39</td>\n",
              "    </tr>\n",
              "    <tr>\n",
              "      <th>19327</th>\n",
              "      <td>562071</td>\n",
              "      <td>363</td>\n",
              "      <td>w21zbgb</td>\n",
              "      <td>11</td>\n",
              "    </tr>\n",
              "  </tbody>\n",
              "</table>\n",
              "<p>19328 rows × 4 columns</p>\n",
              "</div>"
            ],
            "text/plain": [
              "       product_id  vendor_id vendor_geohash  order_count\n",
              "0          157617       9147        w21z76c            1\n",
              "1          121658       4293        w21zu1q            1\n",
              "2          241306       7557        w21z7nn            2\n",
              "3          104098       9389        w21ztg0            1\n",
              "4          427328       7072        w21z6m1            4\n",
              "...           ...        ...            ...          ...\n",
              "19323      166800       6117        w21z9h2            1\n",
              "19324      565945       5764        w21z6uv           11\n",
              "19325      322494       7807        w21z3jn            2\n",
              "19326        5198        985        w23b4jv           39\n",
              "19327      562071        363        w21zbgb           11\n",
              "\n",
              "[19328 rows x 4 columns]"
            ]
          },
          "metadata": {
            "tags": []
          },
          "execution_count": 28
        }
      ]
    },
    {
      "cell_type": "code",
      "metadata": {
        "colab": {
          "base_uri": "https://localhost:8080/",
          "height": 419
        },
        "id": "8gsGG3vhhbO6",
        "outputId": "d1004492-f36a-4c4c-c458-f5197b617ece"
      },
      "source": [
        "products_raw_df.merge(products_english_df[products_english_df[\"total_is_english\"] == 1][primary_keys], on=primary_keys, how=\"inner\")"
      ],
      "execution_count": 29,
      "outputs": [
        {
          "output_type": "execute_result",
          "data": {
            "text/html": [
              "<div>\n",
              "<style scoped>\n",
              "    .dataframe tbody tr th:only-of-type {\n",
              "        vertical-align: middle;\n",
              "    }\n",
              "\n",
              "    .dataframe tbody tr th {\n",
              "        vertical-align: top;\n",
              "    }\n",
              "\n",
              "    .dataframe thead th {\n",
              "        text-align: right;\n",
              "    }\n",
              "</style>\n",
              "<table border=\"1\" class=\"dataframe\">\n",
              "  <thead>\n",
              "    <tr style=\"text-align: right;\">\n",
              "      <th></th>\n",
              "      <th>product_id</th>\n",
              "      <th>vendor_id</th>\n",
              "      <th>vendor_geohash</th>\n",
              "      <th>order_count</th>\n",
              "    </tr>\n",
              "  </thead>\n",
              "  <tbody>\n",
              "    <tr>\n",
              "      <th>0</th>\n",
              "      <td>593393</td>\n",
              "      <td>1271</td>\n",
              "      <td>w21z7qd</td>\n",
              "      <td>14</td>\n",
              "    </tr>\n",
              "    <tr>\n",
              "      <th>1</th>\n",
              "      <td>544900</td>\n",
              "      <td>3478</td>\n",
              "      <td>w21zv08</td>\n",
              "      <td>9</td>\n",
              "    </tr>\n",
              "    <tr>\n",
              "      <th>2</th>\n",
              "      <td>252052</td>\n",
              "      <td>8540</td>\n",
              "      <td>w21zs0j</td>\n",
              "      <td>2</td>\n",
              "    </tr>\n",
              "    <tr>\n",
              "      <th>3</th>\n",
              "      <td>219836</td>\n",
              "      <td>5241</td>\n",
              "      <td>w21zsd2</td>\n",
              "      <td>1</td>\n",
              "    </tr>\n",
              "    <tr>\n",
              "      <th>4</th>\n",
              "      <td>33678</td>\n",
              "      <td>3436</td>\n",
              "      <td>w21ze1k</td>\n",
              "      <td>57</td>\n",
              "    </tr>\n",
              "    <tr>\n",
              "      <th>...</th>\n",
              "      <td>...</td>\n",
              "      <td>...</td>\n",
              "      <td>...</td>\n",
              "      <td>...</td>\n",
              "    </tr>\n",
              "    <tr>\n",
              "      <th>57809</th>\n",
              "      <td>135179</td>\n",
              "      <td>5597</td>\n",
              "      <td>w23b1ux</td>\n",
              "      <td>1</td>\n",
              "    </tr>\n",
              "    <tr>\n",
              "      <th>57810</th>\n",
              "      <td>24137</td>\n",
              "      <td>4011</td>\n",
              "      <td>w21zt67</td>\n",
              "      <td>76</td>\n",
              "    </tr>\n",
              "    <tr>\n",
              "      <th>57811</th>\n",
              "      <td>476085</td>\n",
              "      <td>2526</td>\n",
              "      <td>w21zu1v</td>\n",
              "      <td>6</td>\n",
              "    </tr>\n",
              "    <tr>\n",
              "      <th>57812</th>\n",
              "      <td>331775</td>\n",
              "      <td>10954</td>\n",
              "      <td>w21zkw6</td>\n",
              "      <td>3</td>\n",
              "    </tr>\n",
              "    <tr>\n",
              "      <th>57813</th>\n",
              "      <td>486547</td>\n",
              "      <td>2772</td>\n",
              "      <td>w23b4u4</td>\n",
              "      <td>6</td>\n",
              "    </tr>\n",
              "  </tbody>\n",
              "</table>\n",
              "<p>57814 rows × 4 columns</p>\n",
              "</div>"
            ],
            "text/plain": [
              "       product_id  vendor_id vendor_geohash  order_count\n",
              "0          593393       1271        w21z7qd           14\n",
              "1          544900       3478        w21zv08            9\n",
              "2          252052       8540        w21zs0j            2\n",
              "3          219836       5241        w21zsd2            1\n",
              "4           33678       3436        w21ze1k           57\n",
              "...           ...        ...            ...          ...\n",
              "57809      135179       5597        w23b1ux            1\n",
              "57810       24137       4011        w21zt67           76\n",
              "57811      476085       2526        w21zu1v            6\n",
              "57812      331775      10954        w21zkw6            3\n",
              "57813      486547       2772        w23b4u4            6\n",
              "\n",
              "[57814 rows x 4 columns]"
            ]
          },
          "metadata": {
            "tags": []
          },
          "execution_count": 29
        }
      ]
    },
    {
      "cell_type": "code",
      "metadata": {
        "colab": {
          "base_uri": "https://localhost:8080/",
          "height": 419
        },
        "id": "CA8UnXEyhDfZ",
        "outputId": "078736f1-cdb1-43ba-ded8-ff29d5d94d01"
      },
      "source": [
        "products_raw_df.merge(products_english_df[products_english_df[\"total_is_english\"] == 2][primary_keys], on=primary_keys, how=\"inner\")"
      ],
      "execution_count": 30,
      "outputs": [
        {
          "output_type": "execute_result",
          "data": {
            "text/html": [
              "<div>\n",
              "<style scoped>\n",
              "    .dataframe tbody tr th:only-of-type {\n",
              "        vertical-align: middle;\n",
              "    }\n",
              "\n",
              "    .dataframe tbody tr th {\n",
              "        vertical-align: top;\n",
              "    }\n",
              "\n",
              "    .dataframe thead th {\n",
              "        text-align: right;\n",
              "    }\n",
              "</style>\n",
              "<table border=\"1\" class=\"dataframe\">\n",
              "  <thead>\n",
              "    <tr style=\"text-align: right;\">\n",
              "      <th></th>\n",
              "      <th>product_id</th>\n",
              "      <th>vendor_id</th>\n",
              "      <th>vendor_geohash</th>\n",
              "      <th>order_count</th>\n",
              "    </tr>\n",
              "  </thead>\n",
              "  <tbody>\n",
              "    <tr>\n",
              "      <th>0</th>\n",
              "      <td>604160</td>\n",
              "      <td>55</td>\n",
              "      <td>w21ze1r</td>\n",
              "      <td>16</td>\n",
              "    </tr>\n",
              "    <tr>\n",
              "      <th>1</th>\n",
              "      <td>39784</td>\n",
              "      <td>1572</td>\n",
              "      <td>w23b1tq</td>\n",
              "      <td>40</td>\n",
              "    </tr>\n",
              "    <tr>\n",
              "      <th>2</th>\n",
              "      <td>13441</td>\n",
              "      <td>2532</td>\n",
              "      <td>w21z601</td>\n",
              "      <td>24</td>\n",
              "    </tr>\n",
              "    <tr>\n",
              "      <th>3</th>\n",
              "      <td>388787</td>\n",
              "      <td>440</td>\n",
              "      <td>w21zujm</td>\n",
              "      <td>3</td>\n",
              "    </tr>\n",
              "    <tr>\n",
              "      <th>4</th>\n",
              "      <td>351518</td>\n",
              "      <td>12149</td>\n",
              "      <td>w21z64v</td>\n",
              "      <td>3</td>\n",
              "    </tr>\n",
              "    <tr>\n",
              "      <th>...</th>\n",
              "      <td>...</td>\n",
              "      <td>...</td>\n",
              "      <td>...</td>\n",
              "      <td>...</td>\n",
              "    </tr>\n",
              "    <tr>\n",
              "      <th>80700</th>\n",
              "      <td>312507</td>\n",
              "      <td>7646</td>\n",
              "      <td>w21zefr</td>\n",
              "      <td>2</td>\n",
              "    </tr>\n",
              "    <tr>\n",
              "      <th>80701</th>\n",
              "      <td>526710</td>\n",
              "      <td>6188</td>\n",
              "      <td>w21z71y</td>\n",
              "      <td>8</td>\n",
              "    </tr>\n",
              "    <tr>\n",
              "      <th>80702</th>\n",
              "      <td>363195</td>\n",
              "      <td>9394</td>\n",
              "      <td>w21z62w</td>\n",
              "      <td>3</td>\n",
              "    </tr>\n",
              "    <tr>\n",
              "      <th>80703</th>\n",
              "      <td>485801</td>\n",
              "      <td>2996</td>\n",
              "      <td>w21zkzs</td>\n",
              "      <td>6</td>\n",
              "    </tr>\n",
              "    <tr>\n",
              "      <th>80704</th>\n",
              "      <td>339466</td>\n",
              "      <td>104</td>\n",
              "      <td>w21z7qd</td>\n",
              "      <td>3</td>\n",
              "    </tr>\n",
              "  </tbody>\n",
              "</table>\n",
              "<p>80705 rows × 4 columns</p>\n",
              "</div>"
            ],
            "text/plain": [
              "       product_id  vendor_id vendor_geohash  order_count\n",
              "0          604160         55        w21ze1r           16\n",
              "1           39784       1572        w23b1tq           40\n",
              "2           13441       2532        w21z601           24\n",
              "3          388787        440        w21zujm            3\n",
              "4          351518      12149        w21z64v            3\n",
              "...           ...        ...            ...          ...\n",
              "80700      312507       7646        w21zefr            2\n",
              "80701      526710       6188        w21z71y            8\n",
              "80702      363195       9394        w21z62w            3\n",
              "80703      485801       2996        w21zkzs            6\n",
              "80704      339466        104        w21z7qd            3\n",
              "\n",
              "[80705 rows x 4 columns]"
            ]
          },
          "metadata": {
            "tags": []
          },
          "execution_count": 30
        }
      ]
    },
    {
      "cell_type": "code",
      "metadata": {
        "colab": {
          "base_uri": "https://localhost:8080/",
          "height": 419
        },
        "id": "7U2W8tyWhEnw",
        "outputId": "4702e5a0-9178-43a7-9ab6-691e25853e43"
      },
      "source": [
        "products_raw_df.merge(products_english_df[products_english_df[\"total_is_english\"] == 3][primary_keys], on=primary_keys, how=\"inner\")"
      ],
      "execution_count": 31,
      "outputs": [
        {
          "output_type": "execute_result",
          "data": {
            "text/html": [
              "<div>\n",
              "<style scoped>\n",
              "    .dataframe tbody tr th:only-of-type {\n",
              "        vertical-align: middle;\n",
              "    }\n",
              "\n",
              "    .dataframe tbody tr th {\n",
              "        vertical-align: top;\n",
              "    }\n",
              "\n",
              "    .dataframe thead th {\n",
              "        text-align: right;\n",
              "    }\n",
              "</style>\n",
              "<table border=\"1\" class=\"dataframe\">\n",
              "  <thead>\n",
              "    <tr style=\"text-align: right;\">\n",
              "      <th></th>\n",
              "      <th>product_id</th>\n",
              "      <th>vendor_id</th>\n",
              "      <th>vendor_geohash</th>\n",
              "      <th>order_count</th>\n",
              "    </tr>\n",
              "  </thead>\n",
              "  <tbody>\n",
              "    <tr>\n",
              "      <th>0</th>\n",
              "      <td>496316</td>\n",
              "      <td>1249</td>\n",
              "      <td>w21zs0h</td>\n",
              "      <td>7</td>\n",
              "    </tr>\n",
              "    <tr>\n",
              "      <th>1</th>\n",
              "      <td>510178</td>\n",
              "      <td>5506</td>\n",
              "      <td>w21zd30</td>\n",
              "      <td>7</td>\n",
              "    </tr>\n",
              "    <tr>\n",
              "      <th>2</th>\n",
              "      <td>316908</td>\n",
              "      <td>9571</td>\n",
              "      <td>w21zg20</td>\n",
              "      <td>2</td>\n",
              "    </tr>\n",
              "    <tr>\n",
              "      <th>3</th>\n",
              "      <td>19781</td>\n",
              "      <td>45</td>\n",
              "      <td>w21z7z3</td>\n",
              "      <td>27</td>\n",
              "    </tr>\n",
              "    <tr>\n",
              "      <th>4</th>\n",
              "      <td>622485</td>\n",
              "      <td>6771</td>\n",
              "      <td>w21z3s4</td>\n",
              "      <td>20</td>\n",
              "    </tr>\n",
              "    <tr>\n",
              "      <th>...</th>\n",
              "      <td>...</td>\n",
              "      <td>...</td>\n",
              "      <td>...</td>\n",
              "      <td>...</td>\n",
              "    </tr>\n",
              "    <tr>\n",
              "      <th>70611</th>\n",
              "      <td>266018</td>\n",
              "      <td>1740</td>\n",
              "      <td>w21z3jq</td>\n",
              "      <td>2</td>\n",
              "    </tr>\n",
              "    <tr>\n",
              "      <th>70612</th>\n",
              "      <td>270872</td>\n",
              "      <td>6073</td>\n",
              "      <td>w21zg9m</td>\n",
              "      <td>2</td>\n",
              "    </tr>\n",
              "    <tr>\n",
              "      <th>70613</th>\n",
              "      <td>136391</td>\n",
              "      <td>6280</td>\n",
              "      <td>w21zgh4</td>\n",
              "      <td>1</td>\n",
              "    </tr>\n",
              "    <tr>\n",
              "      <th>70614</th>\n",
              "      <td>613559</td>\n",
              "      <td>3785</td>\n",
              "      <td>w21zetv</td>\n",
              "      <td>18</td>\n",
              "    </tr>\n",
              "    <tr>\n",
              "      <th>70615</th>\n",
              "      <td>37901</td>\n",
              "      <td>4012</td>\n",
              "      <td>w21zt11</td>\n",
              "      <td>29</td>\n",
              "    </tr>\n",
              "  </tbody>\n",
              "</table>\n",
              "<p>70616 rows × 4 columns</p>\n",
              "</div>"
            ],
            "text/plain": [
              "       product_id  vendor_id vendor_geohash  order_count\n",
              "0          496316       1249        w21zs0h            7\n",
              "1          510178       5506        w21zd30            7\n",
              "2          316908       9571        w21zg20            2\n",
              "3           19781         45        w21z7z3           27\n",
              "4          622485       6771        w21z3s4           20\n",
              "...           ...        ...            ...          ...\n",
              "70611      266018       1740        w21z3jq            2\n",
              "70612      270872       6073        w21zg9m            2\n",
              "70613      136391       6280        w21zgh4            1\n",
              "70614      613559       3785        w21zetv           18\n",
              "70615       37901       4012        w21zt11           29\n",
              "\n",
              "[70616 rows x 4 columns]"
            ]
          },
          "metadata": {
            "tags": []
          },
          "execution_count": 31
        }
      ]
    },
    {
      "cell_type": "markdown",
      "metadata": {
        "id": "Z7yRuY0AgxZZ"
      },
      "source": [
        "### actual filtering"
      ]
    },
    {
      "cell_type": "code",
      "metadata": {
        "id": "JlbX9ABVdTUq"
      },
      "source": [
        "products_english_filtered_df = products_english_df.copy()\n",
        "products_english_filtered_df = products_english_filtered_df[products_english_filtered_df[\"total_is_english\"] > 0]"
      ],
      "execution_count": 32,
      "outputs": []
    },
    {
      "cell_type": "code",
      "metadata": {
        "colab": {
          "base_uri": "https://localhost:8080/"
        },
        "id": "Hl285_5ziuU8",
        "outputId": "e9e2aa03-e9b5-4da8-a15b-07f53f602893"
      },
      "source": [
        "len(products_df), len(products_english_filtered_df)"
      ],
      "execution_count": 33,
      "outputs": [
        {
          "output_type": "execute_result",
          "data": {
            "text/plain": [
              "(506518, 487115)"
            ]
          },
          "metadata": {
            "tags": []
          },
          "execution_count": 33
        }
      ]
    },
    {
      "cell_type": "markdown",
      "metadata": {
        "id": "mhVW3PuMh48q"
      },
      "source": [
        "# cleanup verdict\n",
        "Obviously we could improve our cleanup and subsequent filtering by a lot.\n",
        "* better character level cleaning\n",
        "* better dictionary (also include more culinary terms like croissant etc.)\n",
        "* english filtering is now only done by number of english words, but other metrics could be better (like and improved version of the english score I tried)\n",
        "For now it seems to be good enough."
      ]
    },
    {
      "cell_type": "code",
      "metadata": {
        "id": "VouV0P3PiUD4"
      },
      "source": [
        ""
      ],
      "execution_count": 33,
      "outputs": []
    }
  ]
}